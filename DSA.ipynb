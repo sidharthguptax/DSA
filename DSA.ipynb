{
 "cells": [
  {
   "cell_type": "markdown",
   "id": "171ba3ee-c4fb-4bff-aefa-4683e64549a1",
   "metadata": {},
   "source": [
    "## DSA"
   ]
  },
  {
   "cell_type": "code",
   "execution_count": 3,
   "id": "6cced033-7c4a-4ee9-b9ba-d29b1736a95f",
   "metadata": {},
   "outputs": [],
   "source": [
    "import numpy as np"
   ]
  },
  {
   "cell_type": "code",
   "execution_count": 5,
   "id": "6ea600b2-6b87-444a-9b20-104c82eae895",
   "metadata": {},
   "outputs": [],
   "source": [
    "#One D or n-D array.\n",
    "a=np.array([1,2,3,4,5])"
   ]
  },
  {
   "cell_type": "code",
   "execution_count": 7,
   "id": "558bc59b-0668-481a-bfdf-e15f7e4ecb77",
   "metadata": {},
   "outputs": [],
   "source": [
    "import array"
   ]
  },
  {
   "cell_type": "code",
   "execution_count": 9,
   "id": "d517dd33-888b-4af5-af6d-7edff511fe3a",
   "metadata": {},
   "outputs": [
    {
     "name": "stdout",
     "output_type": "stream",
     "text": [
      "array('i', [1, 2, 3, 4, 5, 6])\n"
     ]
    }
   ],
   "source": [
    "my_arr=array.array('i',[1,2,3,4,5,6]) #i means int\n",
    "print(my_arr)"
   ]
  },
  {
   "cell_type": "code",
   "execution_count": 11,
   "id": "0e2b94cc-784a-40d1-a25d-4ae6ad9143b6",
   "metadata": {},
   "outputs": [
    {
     "name": "stdout",
     "output_type": "stream",
     "text": [
      "[1 2 3 4]\n"
     ]
    }
   ],
   "source": [
    "arr= np.array([1,2,3,4])\n",
    "print(arr)"
   ]
  },
  {
   "cell_type": "code",
   "execution_count": 13,
   "id": "83e9ffa1-2f26-4b35-9e0a-aee68fa559d2",
   "metadata": {},
   "outputs": [
    {
     "name": "stdout",
     "output_type": "stream",
     "text": [
      "array('i', [1, 2, 6, 3, 4, 5, 6])\n"
     ]
    }
   ],
   "source": [
    "#insertion in array\n",
    "my_arr.insert(2,6)\n",
    "print(my_arr)"
   ]
  },
  {
   "cell_type": "code",
   "execution_count": 15,
   "id": "e045385e-4038-4ef7-ab58-ec2045e5a7f3",
   "metadata": {},
   "outputs": [
    {
     "name": "stdout",
     "output_type": "stream",
     "text": [
      "1\n",
      "2\n",
      "6\n",
      "3\n",
      "4\n",
      "5\n",
      "6\n"
     ]
    }
   ],
   "source": [
    "def traverseArray(array):\n",
    "    for i in array:\n",
    "        print(i)\n",
    "        \n",
    "traverseArray(my_arr)"
   ]
  },
  {
   "cell_type": "code",
   "execution_count": 17,
   "id": "7c6aecc5-1df2-4770-9c14-976229d08f3c",
   "metadata": {},
   "outputs": [
    {
     "name": "stdout",
     "output_type": "stream",
     "text": [
      "6\n"
     ]
    }
   ],
   "source": [
    "def accessElement(array, index):\n",
    "    if index >= len(array):\n",
    "        print(\"There is not any element in this index\")\n",
    "    else:\n",
    "        print(array[index])\n",
    "        \n",
    "accessElement(my_arr,6)"
   ]
  },
  {
   "cell_type": "code",
   "execution_count": 19,
   "id": "3d1cb1dd-1b6c-49ca-9d9e-55a297538a61",
   "metadata": {},
   "outputs": [
    {
     "name": "stdout",
     "output_type": "stream",
     "text": [
      "4\n"
     ]
    }
   ],
   "source": [
    "def linear_search(arr, target):\n",
    "    for i in range(len(arr)):\n",
    "        if arr[i]== target:\n",
    "            return i\n",
    "    return -1\n",
    "\n",
    "print(linear_search(my_arr,4))"
   ]
  },
  {
   "cell_type": "code",
   "execution_count": 21,
   "id": "8f03f43a-d07e-4318-9cd4-a3ee1d460b98",
   "metadata": {},
   "outputs": [
    {
     "name": "stdout",
     "output_type": "stream",
     "text": [
      "array('i', [1, 2, 3, 4, 5, 6])\n"
     ]
    }
   ],
   "source": [
    "#deletion\n",
    "my_arr.remove(6)\n",
    "print(my_arr)"
   ]
  },
  {
   "cell_type": "code",
   "execution_count": 23,
   "id": "d54c53ea-c2e2-4545-8b40-4e3fe7459f37",
   "metadata": {},
   "outputs": [],
   "source": [
    "from array import *"
   ]
  },
  {
   "cell_type": "code",
   "execution_count": 25,
   "id": "7cf05c27-f94a-4c8f-9063-588787fa4488",
   "metadata": {},
   "outputs": [
    {
     "name": "stdout",
     "output_type": "stream",
     "text": [
      "1\n",
      "2\n",
      "3\n",
      "4\n",
      "5\n"
     ]
    }
   ],
   "source": [
    "#Create an array\n",
    "my_array=array('i',[1,2,3,4,5])\n",
    "\n",
    "for i in my_array:\n",
    "    print(i)\n"
   ]
  },
  {
   "cell_type": "code",
   "execution_count": 27,
   "id": "9b921b83-4251-46b2-aab9-ed6a744ee180",
   "metadata": {},
   "outputs": [
    {
     "name": "stdout",
     "output_type": "stream",
     "text": [
      "1\n"
     ]
    }
   ],
   "source": [
    "#accessing ind. elements\n",
    "print(my_array[0])"
   ]
  },
  {
   "cell_type": "code",
   "execution_count": 29,
   "id": "2d24568e-ef8a-411b-acf5-886f0497570e",
   "metadata": {},
   "outputs": [
    {
     "data": {
      "text/plain": [
       "array('i', [1, 2, 3, 4, 5, 6])"
      ]
     },
     "execution_count": 29,
     "metadata": {},
     "output_type": "execute_result"
    }
   ],
   "source": [
    "#append any value to the array\n",
    "my_array.append(6)\n",
    "my_array"
   ]
  },
  {
   "cell_type": "code",
   "execution_count": 31,
   "id": "f0bc1832-1dae-4f4f-a45b-d84d72b4701a",
   "metadata": {},
   "outputs": [
    {
     "data": {
      "text/plain": [
       "array('i', [1, 2, 3, 11, 4, 5, 6])"
      ]
     },
     "execution_count": 31,
     "metadata": {},
     "output_type": "execute_result"
    }
   ],
   "source": [
    "#insert value in array using insert()\n",
    "my_array.insert(3,11)\n",
    "my_array"
   ]
  },
  {
   "cell_type": "code",
   "execution_count": 33,
   "id": "aabad5cf-f618-4e74-9ba7-52714ccc4f2c",
   "metadata": {},
   "outputs": [
    {
     "data": {
      "text/plain": [
       "array('i', [1, 2, 3, 11, 4, 5, 6, 10, 11, 12])"
      ]
     },
     "execution_count": 33,
     "metadata": {},
     "output_type": "execute_result"
    }
   ],
   "source": [
    "#extend python array using extend()\n",
    "my_array1 = array('i',[10,11,12])\n",
    "my_array.extend(my_array1)\n",
    "my_array"
   ]
  },
  {
   "cell_type": "code",
   "execution_count": 35,
   "id": "343b6a1b-3324-49f8-92e3-e55cd4ffaf49",
   "metadata": {},
   "outputs": [
    {
     "data": {
      "text/plain": [
       "array('i', [1, 2, 3, 11, 4, 5, 6, 10, 11, 12, 20, 21, 22])"
      ]
     },
     "execution_count": 35,
     "metadata": {},
     "output_type": "execute_result"
    }
   ],
   "source": [
    "#add items from a list\n",
    "tempList=[20,21,22]\n",
    "my_array.fromlist(tempList)\n",
    "my_array"
   ]
  },
  {
   "cell_type": "code",
   "execution_count": 37,
   "id": "9cbc78a9-480a-4c6e-8790-c988fd93adf4",
   "metadata": {},
   "outputs": [
    {
     "data": {
      "text/plain": [
       "array('i', [1, 2, 3, 11, 4, 5, 6, 10, 11, 12, 20, 21])"
      ]
     },
     "execution_count": 37,
     "metadata": {},
     "output_type": "execute_result"
    }
   ],
   "source": [
    "#remove any element\n",
    "my_array.remove(22)\n",
    "my_array"
   ]
  },
  {
   "cell_type": "code",
   "execution_count": 39,
   "id": "51c9a74c-52f6-44f3-b8bc-32a99c746291",
   "metadata": {},
   "outputs": [
    {
     "data": {
      "text/plain": [
       "array('i', [1, 2, 3, 11, 4, 5, 6, 10, 11, 12, 20])"
      ]
     },
     "execution_count": 39,
     "metadata": {},
     "output_type": "execute_result"
    }
   ],
   "source": [
    "#remove last element using pop()\n",
    "\n",
    "my_array.pop()\n",
    "my_array"
   ]
  },
  {
   "cell_type": "code",
   "execution_count": 41,
   "id": "83935f53-da84-4fc6-9cf1-2307541437b4",
   "metadata": {},
   "outputs": [
    {
     "data": {
      "text/plain": [
       "10"
      ]
     },
     "execution_count": 41,
     "metadata": {},
     "output_type": "execute_result"
    }
   ],
   "source": [
    "my_array.index(20)"
   ]
  },
  {
   "cell_type": "code",
   "execution_count": 43,
   "id": "61a24d07-ed28-4807-b644-2f6ae01374aa",
   "metadata": {},
   "outputs": [
    {
     "data": {
      "text/plain": [
       "array('i', [20, 12, 11, 10, 6, 5, 4, 11, 3, 2, 1])"
      ]
     },
     "execution_count": 43,
     "metadata": {},
     "output_type": "execute_result"
    }
   ],
   "source": [
    "#reverse method to reverse array\n",
    "my_array.reverse()\n",
    "my_array"
   ]
  },
  {
   "cell_type": "code",
   "execution_count": 45,
   "id": "1b6eb25f-a15d-45a1-9538-05fc2017677f",
   "metadata": {},
   "outputs": [
    {
     "data": {
      "text/plain": [
       "(140606796595696, 11)"
      ]
     },
     "execution_count": 45,
     "metadata": {},
     "output_type": "execute_result"
    }
   ],
   "source": [
    "#buffer_info()\n",
    "my_array.buffer_info()"
   ]
  },
  {
   "cell_type": "code",
   "execution_count": 47,
   "id": "b2554ba3-800d-41dd-b714-b14b240cfbe7",
   "metadata": {},
   "outputs": [
    {
     "data": {
      "text/plain": [
       "2"
      ]
     },
     "execution_count": 47,
     "metadata": {},
     "output_type": "execute_result"
    }
   ],
   "source": [
    "#check no. of occurrences of an element\n",
    "my_array.count(11)"
   ]
  },
  {
   "cell_type": "code",
   "execution_count": 49,
   "id": "577aa15a-ae20-4dee-9934-6b215a711610",
   "metadata": {},
   "outputs": [],
   "source": [
    "#convert array to string\n"
   ]
  },
  {
   "cell_type": "code",
   "execution_count": 51,
   "id": "afec0802-a6ff-4862-8a57-6fab5fe227ec",
   "metadata": {},
   "outputs": [
    {
     "data": {
      "text/plain": [
       "[20, 12, 11, 10, 6, 5, 4, 11, 3, 2, 1]"
      ]
     },
     "execution_count": 51,
     "metadata": {},
     "output_type": "execute_result"
    }
   ],
   "source": [
    "#convert array to list\n",
    "my_array.tolist()"
   ]
  },
  {
   "cell_type": "code",
   "execution_count": 53,
   "id": "8b6c5701-ba3d-459b-b04c-96b475152b5d",
   "metadata": {},
   "outputs": [
    {
     "data": {
      "text/plain": [
       "array('i', [12, 11, 10])"
      ]
     },
     "execution_count": 53,
     "metadata": {},
     "output_type": "execute_result"
    }
   ],
   "source": [
    "#slice elements from an array\n",
    "my_array[1:4]"
   ]
  },
  {
   "cell_type": "code",
   "execution_count": 55,
   "id": "be7925ba-fe33-4af6-92d6-57b906f58a6f",
   "metadata": {},
   "outputs": [],
   "source": [
    "#2-D array\n"
   ]
  },
  {
   "cell_type": "code",
   "execution_count": 57,
   "id": "28bc6f59-6d15-42b0-ad39-1869807b72c5",
   "metadata": {},
   "outputs": [
    {
     "name": "stdout",
     "output_type": "stream",
     "text": [
      "[[11 15 10  6]\n",
      " [10 14 11  5]\n",
      " [12 17 12  8]\n",
      " [15 18 14  9]]\n"
     ]
    }
   ],
   "source": [
    "twoDArray = np.array([[11,15,10,6],[10,14,11,5],[12,17,12,8],[15,18,14,9]])\n",
    "print(twoDArray)"
   ]
  },
  {
   "cell_type": "code",
   "execution_count": 59,
   "id": "83885bd0-e586-4ba5-821d-8fad4f7afd00",
   "metadata": {},
   "outputs": [
    {
     "data": {
      "text/plain": [
       "array([[ 1, 11, 15, 10,  6],\n",
       "       [ 2, 10, 14, 11,  5],\n",
       "       [ 3, 12, 17, 12,  8],\n",
       "       [ 4, 15, 18, 14,  9]])"
      ]
     },
     "execution_count": 59,
     "metadata": {},
     "output_type": "execute_result"
    }
   ],
   "source": [
    "#adding column and row\n",
    "newTwo = np.insert(twoDArray, 0, [[1,2,3,4]], axis=1) #axis=0 adds as row\n",
    "newTwo"
   ]
  },
  {
   "cell_type": "code",
   "execution_count": 61,
   "id": "ac8610c3-1f0c-40cb-bd7c-0a5893c1eb72",
   "metadata": {},
   "outputs": [
    {
     "data": {
      "text/plain": [
       "array([[11, 15, 10,  6],\n",
       "       [10, 14, 11,  5],\n",
       "       [12, 17, 12,  8],\n",
       "       [15, 18, 14,  9],\n",
       "       [ 1,  2,  3,  4]])"
      ]
     },
     "execution_count": 61,
     "metadata": {},
     "output_type": "execute_result"
    }
   ],
   "source": [
    "newTwo=np.append(twoDArray,[[1,2,3,4]], axis=0)\n",
    "newTwo"
   ]
  },
  {
   "cell_type": "code",
   "execution_count": 63,
   "id": "d24399aa-c739-4164-8c8f-cd12e1c9bc3a",
   "metadata": {},
   "outputs": [],
   "source": [
    "def accessElements(array,rowIndex,colIndex):\n",
    "    if rowIndex >= len(array) and colIndex>=len(array[0]):\n",
    "        print('Incorrect index')\n",
    "    else:\n",
    "        print(array[rowIndex][colIndex])"
   ]
  },
  {
   "cell_type": "code",
   "execution_count": 65,
   "id": "a291f43c-9fc2-4ccb-97bf-83e6cf644915",
   "metadata": {},
   "outputs": [
    {
     "name": "stdout",
     "output_type": "stream",
     "text": [
      "11\n"
     ]
    }
   ],
   "source": [
    "accessElements(twoDArray,1,2)"
   ]
  },
  {
   "cell_type": "code",
   "execution_count": 70,
   "id": "ebb302e4-1035-40f9-a43a-082a8adcfffd",
   "metadata": {},
   "outputs": [],
   "source": [
    "#traversing a 2D array\n",
    "def traverseTDArray(array):\n",
    "    for i in range(len(array)):\n",
    "        for j in range(len(array[0])):\n",
    "            print(array[i][j])"
   ]
  },
  {
   "cell_type": "code",
   "execution_count": 72,
   "id": "2f8f9d85-7757-4048-8245-26ac386afdf0",
   "metadata": {},
   "outputs": [
    {
     "name": "stdout",
     "output_type": "stream",
     "text": [
      "11\n",
      "15\n",
      "10\n",
      "6\n",
      "10\n",
      "14\n",
      "11\n",
      "5\n",
      "12\n",
      "17\n",
      "12\n",
      "8\n",
      "15\n",
      "18\n",
      "14\n",
      "9\n"
     ]
    }
   ],
   "source": [
    "traverseTDArray(twoDArray)"
   ]
  },
  {
   "cell_type": "code",
   "execution_count": 78,
   "id": "c551ac42-7cdc-4b49-ab2c-d24951ffde6f",
   "metadata": {},
   "outputs": [],
   "source": [
    "#search in 2D array\n",
    "def searchTDArray(array,value):\n",
    "    for i in range(len(array)):\n",
    "        for j in range(len(array[0])):\n",
    "            if array[i][j]==value:\n",
    "                return 'The value is located at index '+str(i)+\",\"+str(j)\n",
    "    return \"The element not found\"\n"
   ]
  },
  {
   "cell_type": "code",
   "execution_count": 82,
   "id": "10a0622f-7487-4ec7-9e2e-6ef75d30b0ab",
   "metadata": {},
   "outputs": [
    {
     "name": "stdout",
     "output_type": "stream",
     "text": [
      "The element not found\n"
     ]
    }
   ],
   "source": [
    "print(searchTDArray(twoDArray, 55))"
   ]
  },
  {
   "cell_type": "code",
   "execution_count": 88,
   "id": "8868ea61-8aca-4e71-bd29-374652daf8b6",
   "metadata": {},
   "outputs": [
    {
     "data": {
      "text/plain": [
       "array([[15, 10,  6],\n",
       "       [14, 11,  5],\n",
       "       [17, 12,  8],\n",
       "       [18, 14,  9]])"
      ]
     },
     "execution_count": 88,
     "metadata": {},
     "output_type": "execute_result"
    }
   ],
   "source": [
    "#deletion in 2D array\n",
    "#deleting a column or a row\n",
    "newTDArray = np.delete(twoDArray,0, axis=1)#axis=0 for deleting row\n",
    "newTDArray"
   ]
  },
  {
   "cell_type": "code",
   "execution_count": 90,
   "id": "77ed4885-9882-49b3-af1e-eea133b203e8",
   "metadata": {},
   "outputs": [
    {
     "data": {
      "text/plain": [
       "[1, 2, 3, 4]"
      ]
     },
     "execution_count": 90,
     "metadata": {},
     "output_type": "execute_result"
    }
   ],
   "source": [
    "#Python Lists , can be mixed but arrays cannot be\n",
    "integers = [1,2,3,4]\n",
    "integers"
   ]
  },
  {
   "cell_type": "code",
   "execution_count": 94,
   "id": "0e5e448e-6735-4617-be06-f5b50b511e14",
   "metadata": {},
   "outputs": [
    {
     "data": {
      "text/plain": [
       "['Milk', 'Cheese', 'Butter']"
      ]
     },
     "execution_count": 94,
     "metadata": {},
     "output_type": "execute_result"
    }
   ],
   "source": [
    "stringList=['Milk','Cheese', 'Butter']\n",
    "stringList"
   ]
  },
  {
   "cell_type": "code",
   "execution_count": 96,
   "id": "6563768b-8fca-43b6-a463-6c53011cefd9",
   "metadata": {},
   "outputs": [
    {
     "data": {
      "text/plain": [
       "[1, 1.5, 'spam']"
      ]
     },
     "execution_count": 96,
     "metadata": {},
     "output_type": "execute_result"
    }
   ],
   "source": [
    "mixeList = [1,1.5,'spam']\n",
    "mixeList"
   ]
  },
  {
   "cell_type": "code",
   "execution_count": 100,
   "id": "1cb4a5ea-80c1-4d7d-b018-b161eb9d92b3",
   "metadata": {},
   "outputs": [
    {
     "data": {
      "text/plain": [
       "[1, 2, 3, 4, [1.5, 1.6], ['test']]"
      ]
     },
     "execution_count": 100,
     "metadata": {},
     "output_type": "execute_result"
    }
   ],
   "source": [
    "nestedList=[1,2,3,4,[1.5,1.6],['test']]\n",
    "nestedList"
   ]
  },
  {
   "cell_type": "code",
   "execution_count": 104,
   "id": "4bac2753-1ee6-43bd-aba0-7f6904d2c276",
   "metadata": {},
   "outputs": [
    {
     "data": {
      "text/plain": [
       "[]"
      ]
     },
     "execution_count": 104,
     "metadata": {},
     "output_type": "execute_result"
    }
   ],
   "source": [
    "empty=[]\n",
    "empty"
   ]
  },
  {
   "cell_type": "code",
   "execution_count": 106,
   "id": "bd139134-d8c8-42d4-9884-17dc33d1c3bb",
   "metadata": {},
   "outputs": [
    {
     "data": {
      "text/plain": [
       "'Milk'"
      ]
     },
     "execution_count": 106,
     "metadata": {},
     "output_type": "execute_result"
    }
   ],
   "source": [
    "#accessing/traversing list\n",
    "shoppingList=['Milk','Cheese','Butter']\n",
    "shoppingList[0]"
   ]
  },
  {
   "cell_type": "code",
   "execution_count": 108,
   "id": "928e4aa9-a906-4fec-93e4-3864d698b5b1",
   "metadata": {},
   "outputs": [
    {
     "data": {
      "text/plain": [
       "True"
      ]
     },
     "execution_count": 108,
     "metadata": {},
     "output_type": "execute_result"
    }
   ],
   "source": [
    "'Milk' in shoppingList"
   ]
  },
  {
   "cell_type": "code",
   "execution_count": 110,
   "id": "9845aa61-7d3a-43c0-961b-0a645c32f45e",
   "metadata": {},
   "outputs": [
    {
     "name": "stdout",
     "output_type": "stream",
     "text": [
      "Milk\n",
      "Cheese\n",
      "Butter\n"
     ]
    }
   ],
   "source": [
    "for i in shoppingList:\n",
    "    print(i)"
   ]
  },
  {
   "cell_type": "code",
   "execution_count": 116,
   "id": "7d64f54b-6840-4087-84b2-df49cbaf2bf7",
   "metadata": {},
   "outputs": [
    {
     "data": {
      "text/plain": [
       "[1, 2, 33, 4, 5, 6, 7]"
      ]
     },
     "execution_count": 116,
     "metadata": {},
     "output_type": "execute_result"
    }
   ],
   "source": [
    "#update/insert in a list\n",
    "myList=[1,2,3,4,5,6,7]\n",
    "myList[2]=33\n",
    "myList"
   ]
  },
  {
   "cell_type": "code",
   "execution_count": 118,
   "id": "fbb45b3f-ee8b-4611-83d2-302391932500",
   "metadata": {},
   "outputs": [
    {
     "data": {
      "text/plain": [
       "[1, 2, 33, 33, 4, 5, 6, 7]"
      ]
     },
     "execution_count": 118,
     "metadata": {},
     "output_type": "execute_result"
    }
   ],
   "source": [
    "myList.insert(3,33)\n",
    "myList"
   ]
  },
  {
   "cell_type": "code",
   "execution_count": 120,
   "id": "036e6bda-3d74-4f71-8da0-a554292d10ed",
   "metadata": {},
   "outputs": [],
   "source": [
    "myList.append(44)"
   ]
  },
  {
   "cell_type": "code",
   "execution_count": 122,
   "id": "47e063fd-5e12-4528-8030-6a7267ebd8dd",
   "metadata": {},
   "outputs": [
    {
     "data": {
      "text/plain": [
       "[1, 2, 33, 33, 4, 5, 6, 7, 44]"
      ]
     },
     "execution_count": 122,
     "metadata": {},
     "output_type": "execute_result"
    }
   ],
   "source": [
    "myList"
   ]
  },
  {
   "cell_type": "code",
   "execution_count": 124,
   "id": "ed07db4f-62d5-48ed-a599-d26a9c4dcc7c",
   "metadata": {},
   "outputs": [
    {
     "data": {
      "text/plain": [
       "[1, 2, 33, 33, 4, 5, 6, 7, 44, 11, 12, 13, 14]"
      ]
     },
     "execution_count": 124,
     "metadata": {},
     "output_type": "execute_result"
    }
   ],
   "source": [
    "newList = [11,12,13,14]\n",
    "myList.extend(newList)\n",
    "myList"
   ]
  },
  {
   "cell_type": "code",
   "execution_count": 140,
   "id": "d96e13f9-f5b7-4772-8075-58651092ce11",
   "metadata": {},
   "outputs": [],
   "source": [
    "myList=['a','b','c','d','e','f']"
   ]
  },
  {
   "cell_type": "code",
   "execution_count": 134,
   "id": "43e38089-030c-4a21-88d0-f3aa260b979a",
   "metadata": {},
   "outputs": [
    {
     "data": {
      "text/plain": [
       "['f', 'e', 'd', 'c', 'b', 'a']"
      ]
     },
     "execution_count": 134,
     "metadata": {},
     "output_type": "execute_result"
    }
   ],
   "source": [
    "myList[::-1]"
   ]
  },
  {
   "cell_type": "code",
   "execution_count": 136,
   "id": "3dc7f358-1433-4c5f-a583-1baa60c7652f",
   "metadata": {},
   "outputs": [
    {
     "data": {
      "text/plain": [
       "'b'"
      ]
     },
     "execution_count": 136,
     "metadata": {},
     "output_type": "execute_result"
    }
   ],
   "source": [
    "myList.pop(1)"
   ]
  },
  {
   "cell_type": "code",
   "execution_count": 138,
   "id": "7fa54d2d-5ba7-4005-835d-32954927912e",
   "metadata": {},
   "outputs": [
    {
     "data": {
      "text/plain": [
       "['a', 'c', 'd', 'e', 'f']"
      ]
     },
     "execution_count": 138,
     "metadata": {},
     "output_type": "execute_result"
    }
   ],
   "source": [
    "myList"
   ]
  },
  {
   "cell_type": "code",
   "execution_count": 142,
   "id": "664da90e-d7d7-449c-8465-df7520121df0",
   "metadata": {},
   "outputs": [],
   "source": [
    "del myList[1]"
   ]
  },
  {
   "cell_type": "code",
   "execution_count": 144,
   "id": "31d3ec1b-ad68-45a6-8e51-7ba4d574b2b9",
   "metadata": {},
   "outputs": [
    {
     "data": {
      "text/plain": [
       "['a', 'c', 'd', 'e', 'f']"
      ]
     },
     "execution_count": 144,
     "metadata": {},
     "output_type": "execute_result"
    }
   ],
   "source": [
    "myList"
   ]
  },
  {
   "cell_type": "code",
   "execution_count": 146,
   "id": "afede104-b920-47de-9d71-4b03f6cb83d4",
   "metadata": {},
   "outputs": [],
   "source": [
    "myList.remove('a')"
   ]
  },
  {
   "cell_type": "code",
   "execution_count": 148,
   "id": "0e8768b0-b3b8-4ad3-8c9f-02ae3a7d3d72",
   "metadata": {},
   "outputs": [
    {
     "data": {
      "text/plain": [
       "['c', 'd', 'e', 'f']"
      ]
     },
     "execution_count": 148,
     "metadata": {},
     "output_type": "execute_result"
    }
   ],
   "source": [
    "myList"
   ]
  },
  {
   "cell_type": "code",
   "execution_count": 150,
   "id": "0ec255d7-3d11-458e-84b4-e266dd01e0ac",
   "metadata": {},
   "outputs": [
    {
     "data": {
      "text/plain": [
       "True"
      ]
     },
     "execution_count": 150,
     "metadata": {},
     "output_type": "execute_result"
    }
   ],
   "source": [
    "#search for an element in a list\n",
    "\n",
    "myList=[10,20,30,40,50,60,70,80,90]\n",
    "target = 50\n",
    "target in myList"
   ]
  },
  {
   "cell_type": "code",
   "execution_count": 2,
   "id": "7d33e589-1470-4205-9981-2f2c9de4813e",
   "metadata": {},
   "outputs": [],
   "source": [
    "import numpy as np"
   ]
  },
  {
   "cell_type": "code",
   "execution_count": 4,
   "id": "32989e9a-1ce0-4e77-8299-8da3986c02b1",
   "metadata": {},
   "outputs": [],
   "source": [
    "my_list=[10,20,30,40,50,60,70,80,90]"
   ]
  },
  {
   "cell_type": "code",
   "execution_count": 6,
   "id": "f65db9b7-25d5-483f-ad03-8e57f3c15a48",
   "metadata": {},
   "outputs": [],
   "source": [
    "#linear search\n",
    "def linear_search(p_list,p_target):\n",
    "    for i, value in enumerate(p_list): #enumerate gets index and value\n",
    "        if value==p_target:\n",
    "            return i\n",
    "    return -1"
   ]
  },
  {
   "cell_type": "code",
   "execution_count": 20,
   "id": "7a352484-aff7-40d2-9a0e-0f7ef0855ef1",
   "metadata": {},
   "outputs": [
    {
     "data": {
      "text/plain": [
       "8"
      ]
     },
     "execution_count": 20,
     "metadata": {},
     "output_type": "execute_result"
    }
   ],
   "source": [
    "linear_search(my_list, 90)  # Time complexity = O(n), space O(1)"
   ]
  },
  {
   "cell_type": "code",
   "execution_count": 22,
   "id": "7bacce69-7d99-4328-8f4d-189a81244021",
   "metadata": {},
   "outputs": [
    {
     "data": {
      "text/plain": [
       "[1, 2, 3, 4, 5, 6]"
      ]
     },
     "execution_count": 22,
     "metadata": {},
     "output_type": "execute_result"
    }
   ],
   "source": [
    "#list operations and functions\n",
    "a=[1,2,3]\n",
    "b=[4,5,6]\n",
    "c=a+b\n",
    "c"
   ]
  },
  {
   "cell_type": "code",
   "execution_count": 24,
   "id": "b713806e-e9a7-4c53-ba10-01c06104f544",
   "metadata": {},
   "outputs": [
    {
     "data": {
      "text/plain": [
       "[1, 2, 3, 1, 2, 3, 1, 2, 3, 1, 2, 3]"
      ]
     },
     "execution_count": 24,
     "metadata": {},
     "output_type": "execute_result"
    }
   ],
   "source": [
    "a_ = a*4\n",
    "a_"
   ]
  },
  {
   "cell_type": "code",
   "execution_count": 26,
   "id": "3a07e8d6-4c5f-4de9-b821-888622b417d3",
   "metadata": {},
   "outputs": [
    {
     "data": {
      "text/plain": [
       "3"
      ]
     },
     "execution_count": 26,
     "metadata": {},
     "output_type": "execute_result"
    }
   ],
   "source": [
    "len(a)"
   ]
  },
  {
   "cell_type": "code",
   "execution_count": 36,
   "id": "9a6c34b5-0786-49c3-8f4f-911859921dfc",
   "metadata": {},
   "outputs": [
    {
     "data": {
      "text/plain": [
       "3"
      ]
     },
     "execution_count": 36,
     "metadata": {},
     "output_type": "execute_result"
    }
   ],
   "source": [
    "max(a_)"
   ]
  },
  {
   "cell_type": "code",
   "execution_count": 38,
   "id": "31e7edce-648e-4af0-b759-b799d2309cf0",
   "metadata": {},
   "outputs": [
    {
     "data": {
      "text/plain": [
       "1"
      ]
     },
     "execution_count": 38,
     "metadata": {},
     "output_type": "execute_result"
    }
   ],
   "source": [
    "min(a)"
   ]
  },
  {
   "cell_type": "code",
   "execution_count": 42,
   "id": "398cc77e-d84e-4be2-8056-cbc0cbb73889",
   "metadata": {},
   "outputs": [
    {
     "data": {
      "text/plain": [
       "15"
      ]
     },
     "execution_count": 42,
     "metadata": {},
     "output_type": "execute_result"
    }
   ],
   "source": [
    "sum(b)"
   ]
  },
  {
   "cell_type": "code",
   "execution_count": 44,
   "id": "309c9013-ed05-4c8b-ae19-276202a05305",
   "metadata": {},
   "outputs": [
    {
     "name": "stdin",
     "output_type": "stream",
     "text": [
      "Enter a number:  22\n",
      "Enter a number:  21\n",
      "Enter a number:  23\n",
      "Enter a number:  done\n"
     ]
    },
    {
     "name": "stdout",
     "output_type": "stream",
     "text": [
      "Average: 22.0\n"
     ]
    }
   ],
   "source": [
    "myList = list()\n",
    "while (True):\n",
    "    inp = input('Enter a number: ')\n",
    "    if inp=='done': break\n",
    "    value=float(inp)\n",
    "    myList.append(value)\n",
    "average = sum(myList)/len(myList)\n",
    "\n",
    "print('Average:', average)"
   ]
  },
  {
   "cell_type": "code",
   "execution_count": 54,
   "id": "539736a2-fb5e-4d33-bc52-a8911f6a8311",
   "metadata": {},
   "outputs": [
    {
     "name": "stdout",
     "output_type": "stream",
     "text": [
      "['s', 'p', 'a', 'm', '-', 's', 'p', 'a', 'm', '1', '-', 's', 'p', 'a', 'm']\n"
     ]
    }
   ],
   "source": [
    "#lists and strings\n",
    "a = 'spam-spam1-spam'\n",
    "b = list(a)\n",
    "print(b)"
   ]
  },
  {
   "cell_type": "code",
   "execution_count": 56,
   "id": "52f890fc-3a10-41b5-ab3c-3cb6867811c2",
   "metadata": {},
   "outputs": [
    {
     "data": {
      "text/plain": [
       "['spam-spam1-spam']"
      ]
     },
     "execution_count": 56,
     "metadata": {},
     "output_type": "execute_result"
    }
   ],
   "source": [
    "b=a.split()\n",
    "b"
   ]
  },
  {
   "cell_type": "code",
   "execution_count": 60,
   "id": "7b143776-f26e-4a31-add7-3a736282e0a6",
   "metadata": {},
   "outputs": [
    {
     "data": {
      "text/plain": [
       "['spam', 'spam1', 'spam']"
      ]
     },
     "execution_count": 60,
     "metadata": {},
     "output_type": "execute_result"
    }
   ],
   "source": [
    "delimiter = '-'\n",
    "b=a.split(delimiter)\n",
    "b"
   ]
  },
  {
   "cell_type": "code",
   "execution_count": 62,
   "id": "d1731722-8395-4186-b401-65479ba26a0e",
   "metadata": {},
   "outputs": [
    {
     "data": {
      "text/plain": [
       "'spam-spam1-spam'"
      ]
     },
     "execution_count": 62,
     "metadata": {},
     "output_type": "execute_result"
    }
   ],
   "source": [
    "delimiter.join(b)"
   ]
  },
  {
   "cell_type": "code",
   "execution_count": 68,
   "id": "035ba4df-08ae-41b5-bb00-3ad0ba78f88b",
   "metadata": {},
   "outputs": [],
   "source": [
    "myList=[2,4,3,1,5,7]\n",
    "myList.sort()"
   ]
  },
  {
   "cell_type": "code",
   "execution_count": 70,
   "id": "959d60b0-e7e2-4a28-a2b9-f41ab23fecf2",
   "metadata": {},
   "outputs": [
    {
     "data": {
      "text/plain": [
       "[1, 2, 3, 4, 5, 7]"
      ]
     },
     "execution_count": 70,
     "metadata": {},
     "output_type": "execute_result"
    }
   ],
   "source": [
    "myList"
   ]
  },
  {
   "cell_type": "code",
   "execution_count": 72,
   "id": "ef55c53d-16ef-47c9-9be4-5a2f4c81cc5b",
   "metadata": {},
   "outputs": [
    {
     "data": {
      "text/plain": [
       "[1, 2, 3, 4, 5, 7]"
      ]
     },
     "execution_count": 72,
     "metadata": {},
     "output_type": "execute_result"
    }
   ],
   "source": [
    "sorted(myList)"
   ]
  },
  {
   "cell_type": "code",
   "execution_count": 74,
   "id": "35a3a0c3-78a4-42f6-bd2d-61ae75d24ef0",
   "metadata": {},
   "outputs": [],
   "source": [
    "#Lists vs arrays\n",
    "import numpy as np\n",
    "\n",
    "myArray=np.array([1,2,3,4,5,6])\n",
    "myList=[1,2,3,4,5]"
   ]
  },
  {
   "cell_type": "code",
   "execution_count": 76,
   "id": "208b8c36-5c9f-49ac-86ad-5ea297e3b700",
   "metadata": {},
   "outputs": [
    {
     "data": {
      "text/plain": [
       "array([0.5, 1. , 1.5, 2. , 2.5, 3. ])"
      ]
     },
     "execution_count": 76,
     "metadata": {},
     "output_type": "execute_result"
    }
   ],
   "source": [
    "myArray/2"
   ]
  },
  {
   "cell_type": "code",
   "execution_count": 82,
   "id": "241e8a51-0020-4031-a586-71be38838bf4",
   "metadata": {},
   "outputs": [],
   "source": [
    "#datatype has to be same for an array, but not for a list"
   ]
  },
  {
   "cell_type": "code",
   "execution_count": 84,
   "id": "4156ef9d-6335-450c-bc26-5d4b232c8a3c",
   "metadata": {},
   "outputs": [
    {
     "data": {
      "text/plain": [
       "[1, 4, 9, 16]"
      ]
     },
     "execution_count": 84,
     "metadata": {},
     "output_type": "execute_result"
    }
   ],
   "source": [
    "# new_list = [new_item for item in list]\n",
    "l1=[1,2,3,4]\n",
    "l2=[i**2 for i in l1]\n",
    "l2"
   ]
  },
  {
   "cell_type": "code",
   "execution_count": 86,
   "id": "b1197834-f6f1-408f-a490-32237fd0c776",
   "metadata": {},
   "outputs": [
    {
     "data": {
      "text/plain": [
       "[0, 1, 2, 3, 4]"
      ]
     },
     "execution_count": 86,
     "metadata": {},
     "output_type": "execute_result"
    }
   ],
   "source": [
    "l1=[-1,-2,-3,0,1,2,3,4]\n",
    "l2=[i for i in l1 if i>=0]\n",
    "l2"
   ]
  },
  {
   "cell_type": "code",
   "execution_count": 88,
   "id": "f1c2bc3e-1256-4f50-82ae-ae2cf93f47ca",
   "metadata": {},
   "outputs": [
    {
     "data": {
      "text/plain": [
       "[1, 4, 9]"
      ]
     },
     "execution_count": 88,
     "metadata": {},
     "output_type": "execute_result"
    }
   ],
   "source": [
    "l2=[i**2 for i in l1 if i<0]\n",
    "l2"
   ]
  },
  {
   "cell_type": "code",
   "execution_count": 92,
   "id": "31d32479-5322-4250-a6ca-1bbfc9e0222a",
   "metadata": {},
   "outputs": [
    {
     "data": {
      "text/plain": [
       "['M', 'y', 'n', 'm', 's', 'S', 'd', 'h', 'r', 't', 'h']"
      ]
     },
     "execution_count": 92,
     "metadata": {},
     "output_type": "execute_result"
    }
   ],
   "source": [
    "sentence = \"My name is Sidharth\"\n",
    "\n",
    "def is_consonant(letter):\n",
    "    vowels = 'aeiou'\n",
    "    return letter.isalpha() and letter.lower() not in vowels\n",
    "\n",
    "consonants = [i for i in sentence if is_consonant(i)]\n",
    "consonants"
   ]
  },
  {
   "cell_type": "code",
   "execution_count": 94,
   "id": "84ab5d20-c11f-4fe9-88c4-4c387714143b",
   "metadata": {},
   "outputs": [
    {
     "data": {
      "text/plain": [
       "[0, 0, 0, 0, 1, 2, 3, 4]"
      ]
     },
     "execution_count": 94,
     "metadata": {},
     "output_type": "execute_result"
    }
   ],
   "source": [
    "l2=[i if i>0 else 0 for i in l1]\n",
    "l2"
   ]
  },
  {
   "cell_type": "code",
   "execution_count": 6,
   "id": "6fd8fec7-de10-4502-8f34-a8563ef69909",
   "metadata": {},
   "outputs": [
    {
     "data": {
      "text/plain": [
       "[1, 3, 5, 7, 9]"
      ]
     },
     "execution_count": 6,
     "metadata": {},
     "output_type": "execute_result"
    }
   ],
   "source": [
    "a=[1,2,3,4,5,6,7,8,9]\n",
    "a[::2]"
   ]
  },
  {
   "cell_type": "code",
   "execution_count": 8,
   "id": "e893bee7-b21f-41ed-a552-e6737cfd087c",
   "metadata": {},
   "outputs": [
    {
     "name": "stdout",
     "output_type": "stream",
     "text": [
      "3 44\n"
     ]
    }
   ],
   "source": [
    "def f(value, values):\n",
    "    v = 1\n",
    "    values[0] = 44\n",
    "t = 3\n",
    "v = [1, 2, 3]\n",
    "f(t, v)\n",
    "print(t, v[0])"
   ]
  },
  {
   "cell_type": "code",
   "execution_count": 10,
   "id": "9e601167-654c-4342-ba2e-a900780103da",
   "metadata": {},
   "outputs": [],
   "source": [
    "#list1 = list2 means two lists pointing to the same memory location, change in one\n",
    "# is reflected in the other."
   ]
  },
  {
   "cell_type": "code",
   "execution_count": 14,
   "id": "5c63d4ee-93b7-4431-8cb6-dc230217eae5",
   "metadata": {},
   "outputs": [
    {
     "name": "stdin",
     "output_type": "stream",
     "text": [
      "How many days' temperature?  3\n",
      "Day 1's high temp:  6\n",
      "Day 2's high temp:  15\n",
      "Day 3's high temp:  16\n"
     ]
    },
    {
     "name": "stdout",
     "output_type": "stream",
     "text": [
      "\n",
      "Average = 12.33\n",
      "2 day(s) above average\n"
     ]
    }
   ],
   "source": [
    "#Calculate avg temp\n",
    "numDays = int(input(\"How many days' temperature? \"))\n",
    "total = 0\n",
    "temp = []\n",
    "for i in range(numDays):\n",
    "    nextDay= int(input(\"Day \" + str(i+1) +\"'s high temp: \"))\n",
    "    temp.append(nextDay)\n",
    "    total+=temp[i]\n",
    "\n",
    "avg = round(total/numDays,2)\n",
    "print(\"\\nAverage = \" + str(avg))\n",
    "\n",
    "above = 0\n",
    "\n",
    "for i in temp:\n",
    "    if i>avg:\n",
    "        above+=1\n",
    "\n",
    "print(str(above) + \" day(s) above average\")"
   ]
  },
  {
   "cell_type": "code",
   "execution_count": 20,
   "id": "71ac9065-0ef2-404e-b7ad-125909e6f9a6",
   "metadata": {},
   "outputs": [
    {
     "data": {
      "text/plain": [
       "5.0"
      ]
     },
     "execution_count": 20,
     "metadata": {},
     "output_type": "execute_result"
    }
   ],
   "source": [
    "def findMissing(lst, n):\n",
    "    sum1=(n*(n+1))/2\n",
    "    sum2=sum(lst)\n",
    "    return sum1-sum2\n",
    "lst = [i for i in range(101) if i!=5]\n",
    "findMissing(lst, 100)"
   ]
  },
  {
   "cell_type": "code",
   "execution_count": 24,
   "id": "29312498-0963-4785-b891-b97d03478c47",
   "metadata": {},
   "outputs": [
    {
     "name": "stdout",
     "output_type": "stream",
     "text": [
      "Indices of the two numbers are: [0, 1]\n"
     ]
    }
   ],
   "source": [
    "def two_sum(nums, target):\n",
    "    seen={}\n",
    "    for i, num in enumerate(nums):\n",
    "        complement = target - num\n",
    "        \n",
    "        if complement in seen:\n",
    "            return [seen[complement], i]\n",
    "        seen[num]=i\n",
    "        \n",
    "nums = [2,7,11,15]\n",
    "target = 9\n",
    "indices = two_sum(nums, target)\n",
    "\n",
    "print(f\"Indices of the two numbers are: {indices}\")"
   ]
  },
  {
   "cell_type": "code",
   "execution_count": 32,
   "id": "72116394-9e99-4a0f-be6f-21339f71abe1",
   "metadata": {},
   "outputs": [
    {
     "name": "stdout",
     "output_type": "stream",
     "text": [
      "12\n"
     ]
    }
   ],
   "source": [
    "import numpy as np\n",
    "\n",
    "myArray = np.array([1,2,3,4,5,6,7,8,9,10,11,12,13,14,15,16,17,18,19,20])\n",
    "\n",
    "def findNumber(array, number):\n",
    "    for i in range(len(array)):\n",
    "        if array[i]==number:\n",
    "            print(i)\n",
    "            \n",
    "findNumber(myArray, 13)"
   ]
  },
  {
   "cell_type": "code",
   "execution_count": 34,
   "id": "8ae9ba06-eb92-4f6c-976b-94be0fee9b8c",
   "metadata": {},
   "outputs": [],
   "source": [
    "def max_product(arr):\n",
    "    m1=max(arr)\n",
    "    m1_i=arr.index(m1)\n",
    "    a1=arr.pop(m1_i)\n",
    "    return max(a1)*m1\n",
    "\n"
   ]
  },
  {
   "cell_type": "code",
   "execution_count": 48,
   "id": "b5aa866c-06ec-4bbb-b84c-8ea8cf04d2dd",
   "metadata": {},
   "outputs": [],
   "source": [
    "a1=[1,2,3,4,5]\n",
    "a2=a1.remove(3)"
   ]
  },
  {
   "cell_type": "code",
   "execution_count": null,
   "id": "a3fb65ba-338d-4784-9fd2-196ab81b2493",
   "metadata": {},
   "outputs": [],
   "source": []
  },
  {
   "cell_type": "code",
   "execution_count": 56,
   "id": "ec682c3e-53c0-4c44-827f-079f673c9e75",
   "metadata": {},
   "outputs": [],
   "source": [
    "myList2D= [[1,2,3],[4,5,6],[7,8,9]]"
   ]
  },
  {
   "cell_type": "code",
   "execution_count": 58,
   "id": "c5591d8d-570a-4441-a4f8-bbf67856c0fd",
   "metadata": {},
   "outputs": [
    {
     "data": {
      "text/plain": [
       "3"
      ]
     },
     "execution_count": 58,
     "metadata": {},
     "output_type": "execute_result"
    }
   ],
   "source": [
    "len(myList2D)"
   ]
  },
  {
   "cell_type": "code",
   "execution_count": 68,
   "id": "6fc45f0e-31ac-445d-8536-9264ade11fc1",
   "metadata": {},
   "outputs": [],
   "source": [
    "matrix=myList2D\n",
    "s=0"
   ]
  },
  {
   "cell_type": "code",
   "execution_count": 70,
   "id": "b24cb607-1652-4c9f-8c3f-06d69a12ea5d",
   "metadata": {},
   "outputs": [],
   "source": [
    "for i in range(len(matrix)):\n",
    "        s+=matrix[i][i]"
   ]
  },
  {
   "cell_type": "code",
   "execution_count": 72,
   "id": "1e999b65-afb7-43c1-b0cd-b759fe36c350",
   "metadata": {},
   "outputs": [
    {
     "data": {
      "text/plain": [
       "15"
      ]
     },
     "execution_count": 72,
     "metadata": {},
     "output_type": "execute_result"
    }
   ],
   "source": [
    "s"
   ]
  },
  {
   "cell_type": "code",
   "execution_count": 80,
   "id": "b73ed025-d4e6-4b19-b5cd-7e0b0972155b",
   "metadata": {},
   "outputs": [],
   "source": [
    "dic={}\n",
    "dic[2]=1"
   ]
  },
  {
   "cell_type": "code",
   "execution_count": 125,
   "id": "bf98a1ed-182d-4c55-8ac1-c44373cbad91",
   "metadata": {},
   "outputs": [],
   "source": [
    "def pair_sum(myList, s):\n",
    "    pairs=[]\n",
    "    seen=[]\n",
    "    for i,n in enumerate(myList):\n",
    "        complement = s-n\n",
    "        if complement in myList:\n",
    "            pair = str(n)+'+'+str(complement)\n",
    "            if myList.index(complement) and myList.index(n) not in seen:\n",
    "                seen.append(i)\n",
    "                pairs.append(pair)\n",
    "    return pairs"
   ]
  },
  {
   "cell_type": "code",
   "execution_count": 127,
   "id": "35e77739-a3b7-478c-87a6-2cec926a9edb",
   "metadata": {},
   "outputs": [
    {
     "data": {
      "text/plain": [
       "['2+5', '4+3', '3+4', '-2+9', '9+-2']"
      ]
     },
     "execution_count": 127,
     "metadata": {},
     "output_type": "execute_result"
    }
   ],
   "source": [
    "pair_sum([2, 4, 3, 5, 6, -2, 4, 7, 8, 9],7)"
   ]
  },
  {
   "cell_type": "code",
   "execution_count": 129,
   "id": "c274a1c8-1795-49f9-8c47-46a87df6dded",
   "metadata": {},
   "outputs": [
    {
     "name": "stdout",
     "output_type": "stream",
     "text": [
      "['2+5', '4+3', '3+4', '-2+9']\n"
     ]
    }
   ],
   "source": [
    "def pair_sum(myList, target_sum):\n",
    "    pairs = []\n",
    "    seen = set()  # Set to keep track of seen numbers\n",
    "    \n",
    "    for i in range(len(myList)):\n",
    "        for j in range(i + 1, len(myList)):\n",
    "            if myList[i] + myList[j] == target_sum:\n",
    "                pair = f\"{myList[i]}+{myList[j]}\"\n",
    "                pairs.append(pair)\n",
    "    \n",
    "    return pairs\n",
    "\n",
    "# Example usage:\n",
    "myList = [2, 4, 3, 5, 6, -2, 4, 7, 8, 9]\n",
    "target_sum = 7\n",
    "print(pair_sum(myList, target_sum))  # Output: ['2+5', '4+3', '3+4', '-2+9']\n"
   ]
  },
  {
   "cell_type": "code",
   "execution_count": 185,
   "id": "90502115-0528-427d-80f5-601daea1ff0c",
   "metadata": {},
   "outputs": [
    {
     "data": {
      "text/plain": [
       "[[1, 2, 3], [4, 5, 6], [7, 8, 9]]"
      ]
     },
     "execution_count": 185,
     "metadata": {},
     "output_type": "execute_result"
    }
   ],
   "source": [
    "matrix=[[1,2,3],[4,5,6],[7,8,9]]\n",
    "matrix"
   ]
  },
  {
   "cell_type": "code",
   "execution_count": 145,
   "id": "11f920f3-0ac7-4ee6-8165-fe9e5cdeba58",
   "metadata": {},
   "outputs": [
    {
     "data": {
      "text/plain": [
       "3"
      ]
     },
     "execution_count": 145,
     "metadata": {},
     "output_type": "execute_result"
    }
   ],
   "source": [
    "matrix[0][2]"
   ]
  },
  {
   "cell_type": "code",
   "execution_count": 149,
   "id": "90abe290-6825-4dad-92d4-47c6ea302550",
   "metadata": {},
   "outputs": [
    {
     "data": {
      "text/plain": [
       "[[7, 4, 1], [8, 5, 2], [9, 6, 3]]"
      ]
     },
     "execution_count": 149,
     "metadata": {},
     "output_type": "execute_result"
    }
   ],
   "source": [
    "n=len(matrix)\n",
    "matrix1 = [[0]*n for i in range(n)]\n",
    "for i in range(n):\n",
    "    for j in range(n):\n",
    "        matrix1[j][n-i-1]=matrix[i][j]\n",
    "matrix1"
   ]
  },
  {
   "cell_type": "code",
   "execution_count": 203,
   "id": "887b23c6-7fa8-48a1-a77f-47c0f805cacc",
   "metadata": {},
   "outputs": [],
   "source": [
    "matrix=[[matrix[i][j] for i in range(n-1,-1,-1)] for j in range(n)]"
   ]
  },
  {
   "cell_type": "code",
   "execution_count": 205,
   "id": "612da0d3-e099-4779-8bfc-bdc46d659ab5",
   "metadata": {},
   "outputs": [
    {
     "data": {
      "text/plain": [
       "[[7, 4, 1], [8, 5, 2], [9, 6, 3]]"
      ]
     },
     "execution_count": 205,
     "metadata": {},
     "output_type": "execute_result"
    }
   ],
   "source": [
    "matrix"
   ]
  },
  {
   "cell_type": "code",
   "execution_count": 207,
   "id": "2cb9a389-5a55-407d-a489-84b85ee954ca",
   "metadata": {},
   "outputs": [],
   "source": [
    "#permutation\n",
    "\n",
    "def permutation(l1,l2):\n",
    "    if len(l1)!=len(l2):\n",
    "        return False\n",
    "    l1.sort()\n",
    "    l2.sort()\n",
    "    if l1==l2:\n",
    "        return True\n",
    "    return False"
   ]
  },
  {
   "cell_type": "code",
   "execution_count": 213,
   "id": "7f4b2f73-8a74-4fa5-9fb8-482ee78c47c9",
   "metadata": {},
   "outputs": [
    {
     "data": {
      "text/plain": [
       "True"
      ]
     },
     "execution_count": 213,
     "metadata": {},
     "output_type": "execute_result"
    }
   ],
   "source": [
    "l1=['a','b','c']\n",
    "l2=['b','a','c']\n",
    "\n",
    "permutation(l1,l2)"
   ]
  },
  {
   "cell_type": "code",
   "execution_count": 215,
   "id": "c513923a-f1d4-47f3-8dfd-6b05108b1ef0",
   "metadata": {},
   "outputs": [],
   "source": [
    "def foo(array):\n",
    "    s=0\n",
    "    p=1\n",
    "    \n",
    "    for i in array:\n",
    "        s+=i\n",
    "        p*=i\n",
    "    print(p,s)"
   ]
  },
  {
   "cell_type": "code",
   "execution_count": 217,
   "id": "bb500732-085d-436d-8c0f-13ca2963fc3d",
   "metadata": {},
   "outputs": [
    {
     "name": "stdout",
     "output_type": "stream",
     "text": [
      "{}\n"
     ]
    }
   ],
   "source": [
    "#Dictionaries\n",
    "#mutable\n",
    "my_dict = dict()\n",
    "print(my_dict)"
   ]
  },
  {
   "cell_type": "code",
   "execution_count": 219,
   "id": "e2bb6c2c-cc09-4a59-91bf-9848616c30af",
   "metadata": {},
   "outputs": [
    {
     "data": {
      "text/plain": [
       "{}"
      ]
     },
     "execution_count": 219,
     "metadata": {},
     "output_type": "execute_result"
    }
   ],
   "source": [
    "my_dict2={}\n",
    "my_dict"
   ]
  },
  {
   "cell_type": "code",
   "execution_count": 221,
   "id": "e0ae7df5-3a41-495f-9bd1-fb6b16d6a6f2",
   "metadata": {},
   "outputs": [
    {
     "data": {
      "text/plain": [
       "{'one': 'uno', 'two': 'dos', 'three': 'tres'}"
      ]
     },
     "execution_count": 221,
     "metadata": {},
     "output_type": "execute_result"
    }
   ],
   "source": [
    "eng_sp = dict(one='uno', two='dos', three='tres')\n",
    "eng_sp"
   ]
  },
  {
   "cell_type": "code",
   "execution_count": 223,
   "id": "ae940dfd-2ac1-4a51-bb52-6bf50e6962e4",
   "metadata": {},
   "outputs": [
    {
     "name": "stdout",
     "output_type": "stream",
     "text": [
      "{'one': 'uno', 'two': 'dos', 'three': 'tres'}\n"
     ]
    }
   ],
   "source": [
    "eng_sp2 = {'one':'uno', 'two':'dos', 'three':'tres'}\n",
    "print(eng_sp2)"
   ]
  },
  {
   "cell_type": "code",
   "execution_count": 225,
   "id": "beb70081-49f0-4ee5-b6bb-38af3a352d76",
   "metadata": {},
   "outputs": [
    {
     "data": {
      "text/plain": [
       "{'one': 'uno', 'two': 'dos'}"
      ]
     },
     "execution_count": 225,
     "metadata": {},
     "output_type": "execute_result"
    }
   ],
   "source": [
    "eng_sp3_l = [('one','uno'),('two','dos')]\n",
    "eng_sp3 = dict(eng_sp3_l)\n",
    "eng_sp3"
   ]
  },
  {
   "cell_type": "code",
   "execution_count": 230,
   "id": "6178acd1-27a1-433b-ab67-e46a5a9c8491",
   "metadata": {},
   "outputs": [
    {
     "data": {
      "text/plain": [
       "{'name': 'Edy', 'age': 26}"
      ]
     },
     "execution_count": 230,
     "metadata": {},
     "output_type": "execute_result"
    }
   ],
   "source": [
    "myDict = {'name':'Edy', 'age':26}\n",
    "myDict"
   ]
  },
  {
   "cell_type": "code",
   "execution_count": 232,
   "id": "b18eded1-aa34-4894-a42e-70981bf24c77",
   "metadata": {},
   "outputs": [
    {
     "data": {
      "text/plain": [
       "{'name': 'Edy', 'age': 27}"
      ]
     },
     "execution_count": 232,
     "metadata": {},
     "output_type": "execute_result"
    }
   ],
   "source": [
    "myDict['age']=27\n",
    "myDict"
   ]
  },
  {
   "cell_type": "code",
   "execution_count": 234,
   "id": "1be99056-837f-44cc-802d-b86615ca0025",
   "metadata": {},
   "outputs": [
    {
     "data": {
      "text/plain": [
       "{'name': 'Edy', 'age': 27, 'address': 'London'}"
      ]
     },
     "execution_count": 234,
     "metadata": {},
     "output_type": "execute_result"
    }
   ],
   "source": [
    "myDict['address'] = 'London'\n",
    "myDict"
   ]
  },
  {
   "cell_type": "code",
   "execution_count": 236,
   "id": "fb7c47d4-2bcf-41a6-b66a-155bd46dd3a7",
   "metadata": {},
   "outputs": [],
   "source": [
    "#spaceComp amortized O(1)"
   ]
  },
  {
   "cell_type": "code",
   "execution_count": 238,
   "id": "f0357a2b-f89a-4f35-adbb-56f5c0371da7",
   "metadata": {},
   "outputs": [
    {
     "name": "stdout",
     "output_type": "stream",
     "text": [
      "name Edy\n",
      "age 27\n",
      "address London\n"
     ]
    }
   ],
   "source": [
    "def traverseDict(dict):\n",
    "    for key in dict:\n",
    "        print(key,dict[key])\n",
    "traverseDict(myDict)"
   ]
  },
  {
   "cell_type": "code",
   "execution_count": 242,
   "id": "b5dbc6be-04ea-495e-8232-7faef4c4a87c",
   "metadata": {},
   "outputs": [
    {
     "name": "stdout",
     "output_type": "stream",
     "text": [
      "The value does not exist\n"
     ]
    }
   ],
   "source": [
    "def searchDict(dict, value):\n",
    "    for key in dict:\n",
    "        if dict[key] == value:\n",
    "            return key, value\n",
    "    return 'The value does not exist'\n",
    "\n",
    "print(searchDict(myDict, 26))"
   ]
  },
  {
   "cell_type": "code",
   "execution_count": 246,
   "id": "7287d0cd-30db-47f6-b5f8-8844217d7a32",
   "metadata": {},
   "outputs": [
    {
     "data": {
      "text/plain": [
       "{'name': 'Edy', 'address': 'London'}"
      ]
     },
     "execution_count": 246,
     "metadata": {},
     "output_type": "execute_result"
    }
   ],
   "source": [
    "del myDict['age']\n",
    "myDict"
   ]
  },
  {
   "cell_type": "code",
   "execution_count": 254,
   "id": "9648341c-bb82-4061-907a-1668b2601a10",
   "metadata": {},
   "outputs": [],
   "source": [
    "myDict['age']=27"
   ]
  },
  {
   "cell_type": "code",
   "execution_count": 260,
   "id": "7e73a415-f031-4792-9dd0-2444ad14427a",
   "metadata": {},
   "outputs": [],
   "source": [
    "rmed = myDict.pop('age', None) #none if the key doesnt exist\n",
    "rmed"
   ]
  },
  {
   "cell_type": "code",
   "execution_count": 262,
   "id": "ba7763ff-84d6-46cf-b416-f34fe9af8a35",
   "metadata": {},
   "outputs": [
    {
     "data": {
      "text/plain": [
       "{}"
      ]
     },
     "execution_count": 262,
     "metadata": {},
     "output_type": "execute_result"
    }
   ],
   "source": [
    "#popitem removes last key and value\n",
    "myDict.clear()\n",
    "myDict"
   ]
  },
  {
   "cell_type": "code",
   "execution_count": 292,
   "id": "c33df782-b0ac-454f-8d22-3e6502867469",
   "metadata": {},
   "outputs": [
    {
     "data": {
      "text/plain": [
       "{'name': 'Edy', 'age': 26, 'address': 'London', 'education': 'master'}"
      ]
     },
     "execution_count": 292,
     "metadata": {},
     "output_type": "execute_result"
    }
   ],
   "source": [
    "myDict = {'name':'Edy', 'age':26, 'address':'London', 'education':'master'}\n",
    "\n",
    "#copy() creates a new copy\n",
    "\n",
    "dict1 = myDict.copy()\n",
    "\n",
    "dict1"
   ]
  },
  {
   "cell_type": "code",
   "execution_count": 268,
   "id": "fe9dd593-bf38-4a9e-95a9-dbbe6b39f9e4",
   "metadata": {},
   "outputs": [
    {
     "data": {
      "text/plain": [
       "{1: None, 2: None, 3: None}"
      ]
     },
     "execution_count": 268,
     "metadata": {},
     "output_type": "execute_result"
    }
   ],
   "source": [
    "newDict = {}.fromkeys([1,2,3])\n",
    "newDict"
   ]
  },
  {
   "cell_type": "code",
   "execution_count": 272,
   "id": "9fd7de21-9417-49de-8b5d-d5fb121ca9e5",
   "metadata": {},
   "outputs": [
    {
     "data": {
      "text/plain": [
       "29"
      ]
     },
     "execution_count": 272,
     "metadata": {},
     "output_type": "execute_result"
    }
   ],
   "source": [
    "myDict.get('city',29)"
   ]
  },
  {
   "cell_type": "code",
   "execution_count": 274,
   "id": "4706c108-f071-4153-99d7-f52ebdd3a10b",
   "metadata": {},
   "outputs": [
    {
     "data": {
      "text/plain": [
       "dict_items([('name', 'Edy'), ('age', 26), ('address', 'London'), ('education', 'master')])"
      ]
     },
     "execution_count": 274,
     "metadata": {},
     "output_type": "execute_result"
    }
   ],
   "source": [
    "myDict.items()"
   ]
  },
  {
   "cell_type": "code",
   "execution_count": 276,
   "id": "3a692f92-636a-4923-a3bd-b7c454f792d1",
   "metadata": {},
   "outputs": [
    {
     "data": {
      "text/plain": [
       "dict_keys(['name', 'age', 'address', 'education'])"
      ]
     },
     "execution_count": 276,
     "metadata": {},
     "output_type": "execute_result"
    }
   ],
   "source": [
    "myDict.keys()"
   ]
  },
  {
   "cell_type": "code",
   "execution_count": 280,
   "id": "c9f19f5c-135c-41bd-8949-10c7e863537c",
   "metadata": {},
   "outputs": [
    {
     "data": {
      "text/plain": [
       "('education', 'master')"
      ]
     },
     "execution_count": 280,
     "metadata": {},
     "output_type": "execute_result"
    }
   ],
   "source": [
    "myDict.popitem()"
   ]
  },
  {
   "cell_type": "code",
   "execution_count": 286,
   "id": "efd279a9-de15-45a3-83a2-cffd2f381daa",
   "metadata": {},
   "outputs": [
    {
     "data": {
      "text/plain": [
       "'added'"
      ]
     },
     "execution_count": 286,
     "metadata": {},
     "output_type": "execute_result"
    }
   ],
   "source": [
    "myDict.setdefault('name1','added')"
   ]
  },
  {
   "cell_type": "code",
   "execution_count": 288,
   "id": "b6ae1d11-772e-464c-adae-9c540019c416",
   "metadata": {},
   "outputs": [
    {
     "data": {
      "text/plain": [
       "26"
      ]
     },
     "execution_count": 288,
     "metadata": {},
     "output_type": "execute_result"
    }
   ],
   "source": [
    "myDict.pop('age')"
   ]
  },
  {
   "cell_type": "code",
   "execution_count": 294,
   "id": "14d47bf9-0993-4eda-bca6-cc674f7257d0",
   "metadata": {},
   "outputs": [
    {
     "data": {
      "text/plain": [
       "{'name': 'Edy', 'age': 26, 'address': 'London', 'education': 'master'}"
      ]
     },
     "execution_count": 294,
     "metadata": {},
     "output_type": "execute_result"
    }
   ],
   "source": [
    "myDict"
   ]
  },
  {
   "cell_type": "code",
   "execution_count": 296,
   "id": "20a30bfb-702c-44d5-a4a1-7120a497ca44",
   "metadata": {},
   "outputs": [
    {
     "data": {
      "text/plain": [
       "dict_values(['Edy', 26, 'London', 'master'])"
      ]
     },
     "execution_count": 296,
     "metadata": {},
     "output_type": "execute_result"
    }
   ],
   "source": [
    "myDict.values()"
   ]
  },
  {
   "cell_type": "code",
   "execution_count": 298,
   "id": "9b47b14c-0d6a-4831-92ee-c8ad4914f1b6",
   "metadata": {},
   "outputs": [
    {
     "data": {
      "text/plain": [
       "{'name': 'Edy',\n",
       " 'age': 26,\n",
       " 'address': 'London',\n",
       " 'education': 'master',\n",
       " 'a': 1,\n",
       " 'b': 2,\n",
       " 'c': 3}"
      ]
     },
     "execution_count": 298,
     "metadata": {},
     "output_type": "execute_result"
    }
   ],
   "source": [
    "newDict = {'a':1,'b':2,'c':3}\n",
    "myDict.update(newDict)\n",
    "myDict"
   ]
  },
  {
   "cell_type": "code",
   "execution_count": 318,
   "id": "2aa58ba7-646f-4b64-87eb-5216975bf1c0",
   "metadata": {},
   "outputs": [
    {
     "data": {
      "text/plain": [
       "True"
      ]
     },
     "execution_count": 318,
     "metadata": {},
     "output_type": "execute_result"
    }
   ],
   "source": [
    "#dict operations\n",
    "my_dict={\n",
    "    3:\"three\",\n",
    "    5:\"five\",\n",
    "    9:\"nine\",\n",
    "    2:\"two\",\n",
    "    1:\"one\",\n",
    "    4:\"four\",\n",
    "    0:\"zero\"\n",
    "}\n",
    "3 in my_dict"
   ]
  },
  {
   "cell_type": "code",
   "execution_count": 304,
   "id": "d169fffe-12da-4c86-8718-65654b8c6d1c",
   "metadata": {},
   "outputs": [
    {
     "data": {
      "text/plain": [
       "False"
      ]
     },
     "execution_count": 304,
     "metadata": {},
     "output_type": "execute_result"
    }
   ],
   "source": [
    "\"three\" in my_dict"
   ]
  },
  {
   "cell_type": "code",
   "execution_count": 308,
   "id": "971b3c1d-a0fa-46c4-a4f4-e4406e28e017",
   "metadata": {},
   "outputs": [
    {
     "data": {
      "text/plain": [
       "True"
      ]
     },
     "execution_count": 308,
     "metadata": {},
     "output_type": "execute_result"
    }
   ],
   "source": [
    "\"ten\" not in my_dict.values()"
   ]
  },
  {
   "cell_type": "code",
   "execution_count": 310,
   "id": "fcc104b3-9db9-4fc6-b470-f1ccab5169c5",
   "metadata": {},
   "outputs": [
    {
     "data": {
      "text/plain": [
       "6"
      ]
     },
     "execution_count": 310,
     "metadata": {},
     "output_type": "execute_result"
    }
   ],
   "source": [
    "len(my_dict)"
   ]
  },
  {
   "cell_type": "code",
   "execution_count": 316,
   "id": "3cfa2857-bf52-4283-85eb-e33db8b9ba10",
   "metadata": {},
   "outputs": [
    {
     "name": "stdout",
     "output_type": "stream",
     "text": [
      "True\n"
     ]
    }
   ],
   "source": [
    "print(all(my_dict)) #if all keys are true then it returns true else False"
   ]
  },
  {
   "cell_type": "code",
   "execution_count": 322,
   "id": "714719f0-33d8-4a91-9451-71675ef8f39a",
   "metadata": {},
   "outputs": [
    {
     "name": "stdout",
     "output_type": "stream",
     "text": [
      "True\n"
     ]
    }
   ],
   "source": [
    "print(any(my_dict)) #as long as one value is true it returns True"
   ]
  },
  {
   "cell_type": "code",
   "execution_count": 324,
   "id": "2b3f6dc4-6209-4fff-a6ba-f507ae192d4e",
   "metadata": {},
   "outputs": [
    {
     "data": {
      "text/plain": [
       "[0, 1, 2, 3, 4, 5, 9]"
      ]
     },
     "execution_count": 324,
     "metadata": {},
     "output_type": "execute_result"
    }
   ],
   "source": [
    "sorted(my_dict)"
   ]
  },
  {
   "cell_type": "code",
   "execution_count": 326,
   "id": "9791b892-2e80-4188-ab03-4f28bcc10d8b",
   "metadata": {},
   "outputs": [],
   "source": [
    "#dictionaries are ordered as of Python 3.7"
   ]
  },
  {
   "cell_type": "code",
   "execution_count": 332,
   "id": "65bcec6c-9377-4ae1-858c-2a47f75da188",
   "metadata": {},
   "outputs": [
    {
     "data": {
      "text/plain": [
       "{'Paris': 26, 'London': 29, 'Rome': 23, 'Berlin': 20, 'Madrid': 25}"
      ]
     },
     "execution_count": 332,
     "metadata": {},
     "output_type": "execute_result"
    }
   ],
   "source": [
    "#dict comprehension\n",
    "import random\n",
    "city_names=['Paris','London','Rome','Berlin','Madrid']\n",
    "\n",
    "city_temps = {city: random.randint(20,30) for city in city_names}\n",
    "\n",
    "city_temps"
   ]
  },
  {
   "cell_type": "code",
   "execution_count": 334,
   "id": "2bb4b261-123c-4b9c-a041-00164759e4ca",
   "metadata": {},
   "outputs": [
    {
     "data": {
      "text/plain": [
       "{'Paris': 26, 'London': 29}"
      ]
     },
     "execution_count": 334,
     "metadata": {},
     "output_type": "execute_result"
    }
   ],
   "source": [
    "new_dict={city: value for (city,value) in city_temps.items() if value>25}\n",
    "new_dict"
   ]
  },
  {
   "cell_type": "code",
   "execution_count": 338,
   "id": "09ef4226-7d0e-4609-995d-6a2a2778f5de",
   "metadata": {},
   "outputs": [
    {
     "data": {
      "text/plain": [
       "{'a': 1, 'b': 5, 'c': 7, 'd': 5}"
      ]
     },
     "execution_count": 338,
     "metadata": {},
     "output_type": "execute_result"
    }
   ],
   "source": [
    "dict1 = {'a': 1, 'b': 2, 'c': 3}\n",
    "dict2 = {'b': 3, 'c': 4, 'd': 5}\n",
    "\n",
    "def merge_dicts(dict1, dict2):\n",
    "    for key in dict2:\n",
    "        dict1[key]=dict1.get(key,0) + dict2[key]\n",
    "    return dict1\n",
    "\n",
    "merge_dicts(dict1, dict2)"
   ]
  },
  {
   "cell_type": "code",
   "execution_count": 340,
   "id": "e1539c86-63f7-49fe-9a0f-af7724b48010",
   "metadata": {},
   "outputs": [
    {
     "data": {
      "text/plain": [
       "'c'"
      ]
     },
     "execution_count": 340,
     "metadata": {},
     "output_type": "execute_result"
    }
   ],
   "source": [
    "def max_value(my_dict):\n",
    "    return max(my_dict, key=my_dict.get)\n",
    "\n",
    "max_value(dict1)"
   ]
  },
  {
   "cell_type": "code",
   "execution_count": 2,
   "id": "a4f075b1-bb05-4832-9ee4-eed846c3b7f0",
   "metadata": {},
   "outputs": [],
   "source": [
    "import numpy as np"
   ]
  },
  {
   "cell_type": "code",
   "execution_count": 4,
   "id": "f0cf962f-b7d0-4148-ac17-ec422e1f0d98",
   "metadata": {},
   "outputs": [],
   "source": [
    "import random"
   ]
  },
  {
   "cell_type": "code",
   "execution_count": 8,
   "id": "dd344df3-d7e9-4d78-843c-2aea8039cca3",
   "metadata": {},
   "outputs": [
    {
     "data": {
      "text/plain": [
       "('a', 'b', 'c', 'd', 'e')"
      ]
     },
     "execution_count": 8,
     "metadata": {},
     "output_type": "execute_result"
    }
   ],
   "source": [
    "#hashable means it's value remains same for lifetime\n",
    "#tuples\n",
    "newTuple = ('a','b','c','d','e')\n",
    "newTuple"
   ]
  },
  {
   "cell_type": "code",
   "execution_count": 12,
   "id": "ba38b989-2e11-4481-9cdd-c47001651724",
   "metadata": {},
   "outputs": [
    {
     "data": {
      "text/plain": [
       "('a',)"
      ]
     },
     "execution_count": 12,
     "metadata": {},
     "output_type": "execute_result"
    }
   ],
   "source": [
    "newTuple2 = ('a',) #the comma is very important\n",
    "newTuple2"
   ]
  },
  {
   "cell_type": "code",
   "execution_count": 14,
   "id": "217016d4-0349-4e32-b73b-52c614b44c2d",
   "metadata": {},
   "outputs": [
    {
     "data": {
      "text/plain": [
       "()"
      ]
     },
     "execution_count": 14,
     "metadata": {},
     "output_type": "execute_result"
    }
   ],
   "source": [
    "newTuple1 =tuple()\n",
    "newTuple1"
   ]
  },
  {
   "cell_type": "code",
   "execution_count": 16,
   "id": "61dd0b14-2180-4e33-8aab-d358c023fd8c",
   "metadata": {},
   "outputs": [],
   "source": [
    "newTuple1 = tuple('abcde')"
   ]
  },
  {
   "cell_type": "code",
   "execution_count": 18,
   "id": "35ac3702-64d4-4b78-8b13-e76e451ad148",
   "metadata": {},
   "outputs": [
    {
     "data": {
      "text/plain": [
       "('a', 'b', 'c', 'd', 'e')"
      ]
     },
     "execution_count": 18,
     "metadata": {},
     "output_type": "execute_result"
    }
   ],
   "source": [
    "newTuple"
   ]
  },
  {
   "cell_type": "code",
   "execution_count": 20,
   "id": "c12aae2b-c823-4b33-b649-942ce41c79c1",
   "metadata": {},
   "outputs": [],
   "source": [
    "#tuples are immutable"
   ]
  },
  {
   "cell_type": "code",
   "execution_count": 24,
   "id": "dbeb25e5-975a-4fd4-a131-caebebb08d46",
   "metadata": {},
   "outputs": [
    {
     "name": "stdout",
     "output_type": "stream",
     "text": [
      "b\n"
     ]
    }
   ],
   "source": [
    "print(newTuple[1])"
   ]
  },
  {
   "cell_type": "code",
   "execution_count": 28,
   "id": "0b6dd185-2d21-4230-a3d1-84b85ae47087",
   "metadata": {},
   "outputs": [
    {
     "data": {
      "text/plain": [
       "('b', 'c')"
      ]
     },
     "execution_count": 28,
     "metadata": {},
     "output_type": "execute_result"
    }
   ],
   "source": [
    "newTuple[1:3]"
   ]
  },
  {
   "cell_type": "code",
   "execution_count": 30,
   "id": "9ea8a1b9-7cc3-4257-9cbe-06739498ad53",
   "metadata": {},
   "outputs": [
    {
     "data": {
      "text/plain": [
       "('e', 'd', 'c', 'b', 'a')"
      ]
     },
     "execution_count": 30,
     "metadata": {},
     "output_type": "execute_result"
    }
   ],
   "source": [
    "newTuple[::-1]"
   ]
  },
  {
   "cell_type": "code",
   "execution_count": 32,
   "id": "9fbf35d8-80f0-4939-a1ba-c2d76b598c4f",
   "metadata": {},
   "outputs": [
    {
     "name": "stdout",
     "output_type": "stream",
     "text": [
      "a\n",
      "b\n",
      "c\n",
      "d\n",
      "e\n"
     ]
    }
   ],
   "source": [
    "for i in newTuple:\n",
    "    print(i)"
   ]
  },
  {
   "cell_type": "code",
   "execution_count": 34,
   "id": "3d50f04e-4c61-4917-834f-1db23db7ecbd",
   "metadata": {},
   "outputs": [
    {
     "name": "stdout",
     "output_type": "stream",
     "text": [
      "a\n",
      "b\n",
      "c\n",
      "d\n",
      "e\n"
     ]
    }
   ],
   "source": [
    "for i in range(len(newTuple)):\n",
    "    print(newTuple[i])"
   ]
  },
  {
   "cell_type": "code",
   "execution_count": 38,
   "id": "c7d89319-8dae-4cba-8445-7c5be99fbb3e",
   "metadata": {},
   "outputs": [
    {
     "data": {
      "text/plain": [
       "False"
      ]
     },
     "execution_count": 38,
     "metadata": {},
     "output_type": "execute_result"
    }
   ],
   "source": [
    "'f' in newTuple"
   ]
  },
  {
   "cell_type": "code",
   "execution_count": 40,
   "id": "89f65349-8f75-4f18-99e3-96a90958296c",
   "metadata": {},
   "outputs": [],
   "source": [
    "#in operator works as a linear search"
   ]
  },
  {
   "cell_type": "code",
   "execution_count": 42,
   "id": "2189b8cb-5180-409a-bf41-d1fec55a7e36",
   "metadata": {},
   "outputs": [
    {
     "data": {
      "text/plain": [
       "2"
      ]
     },
     "execution_count": 42,
     "metadata": {},
     "output_type": "execute_result"
    }
   ],
   "source": [
    "newTuple.index('c')"
   ]
  },
  {
   "cell_type": "code",
   "execution_count": 44,
   "id": "02de3447-86ce-443c-a4af-e44bd99fb84e",
   "metadata": {},
   "outputs": [
    {
     "data": {
      "text/plain": [
       "('a', 'b', 'c', 'd', 'e', 'a', 'b', 'c', 'd', 'e')"
      ]
     },
     "execution_count": 44,
     "metadata": {},
     "output_type": "execute_result"
    }
   ],
   "source": [
    "newTuple +newTuple1"
   ]
  },
  {
   "cell_type": "code",
   "execution_count": 48,
   "id": "42dd71c7-b35f-40b0-aef7-a412fb281c8d",
   "metadata": {},
   "outputs": [
    {
     "data": {
      "text/plain": [
       "('a',\n",
       " 'b',\n",
       " 'c',\n",
       " 'd',\n",
       " 'e',\n",
       " 'a',\n",
       " 'b',\n",
       " 'c',\n",
       " 'd',\n",
       " 'e',\n",
       " 'a',\n",
       " 'b',\n",
       " 'c',\n",
       " 'd',\n",
       " 'e',\n",
       " 'a',\n",
       " 'b',\n",
       " 'c',\n",
       " 'd',\n",
       " 'e')"
      ]
     },
     "execution_count": 48,
     "metadata": {},
     "output_type": "execute_result"
    }
   ],
   "source": [
    "4*newTuple"
   ]
  },
  {
   "cell_type": "code",
   "execution_count": 50,
   "id": "58cd1844-acd0-4dd0-91b2-65e78a4dfac5",
   "metadata": {},
   "outputs": [
    {
     "data": {
      "text/plain": [
       "1"
      ]
     },
     "execution_count": 50,
     "metadata": {},
     "output_type": "execute_result"
    }
   ],
   "source": [
    "newTuple.count('a')"
   ]
  },
  {
   "cell_type": "code",
   "execution_count": 52,
   "id": "49bd313a-2e25-4833-8304-8d907ca92d47",
   "metadata": {},
   "outputs": [
    {
     "data": {
      "text/plain": [
       "0"
      ]
     },
     "execution_count": 52,
     "metadata": {},
     "output_type": "execute_result"
    }
   ],
   "source": [
    "newTuple.index('a')"
   ]
  },
  {
   "cell_type": "code",
   "execution_count": 54,
   "id": "c0d9b1cf-f5f6-4eaf-abf9-b865b5a644fe",
   "metadata": {},
   "outputs": [
    {
     "data": {
      "text/plain": [
       "1"
      ]
     },
     "execution_count": 54,
     "metadata": {},
     "output_type": "execute_result"
    }
   ],
   "source": [
    "myTuple = (1,2,3,4,5,6,2,2)\n",
    "myTuple.index(2)"
   ]
  },
  {
   "cell_type": "code",
   "execution_count": 56,
   "id": "9d67c377-657c-4fb2-bc25-7cf58e36f261",
   "metadata": {},
   "outputs": [
    {
     "data": {
      "text/plain": [
       "8"
      ]
     },
     "execution_count": 56,
     "metadata": {},
     "output_type": "execute_result"
    }
   ],
   "source": [
    "len(myTuple)"
   ]
  },
  {
   "cell_type": "code",
   "execution_count": 58,
   "id": "0c794a96-a848-4be6-aabb-206e29bd1873",
   "metadata": {},
   "outputs": [
    {
     "data": {
      "text/plain": [
       "6"
      ]
     },
     "execution_count": 58,
     "metadata": {},
     "output_type": "execute_result"
    }
   ],
   "source": [
    "max(myTuple)"
   ]
  },
  {
   "cell_type": "code",
   "execution_count": 60,
   "id": "2e370c25-d5ee-431c-ad8b-3101975315d2",
   "metadata": {},
   "outputs": [
    {
     "data": {
      "text/plain": [
       "(1, 2, 3, 4)"
      ]
     },
     "execution_count": 60,
     "metadata": {},
     "output_type": "execute_result"
    }
   ],
   "source": [
    "tuple([1,2,3,4])"
   ]
  },
  {
   "cell_type": "code",
   "execution_count": 62,
   "id": "bc2bdacf-d051-4dfb-a1f1-4b4ab53caadd",
   "metadata": {},
   "outputs": [],
   "source": [
    "#nested tuple + list or vice versa is possible"
   ]
  },
  {
   "cell_type": "code",
   "execution_count": 66,
   "id": "4a21628d-7555-45ac-a16b-0be5976dd088",
   "metadata": {},
   "outputs": [
    {
     "data": {
      "text/plain": [
       "(5, 7, 9)"
      ]
     },
     "execution_count": 66,
     "metadata": {},
     "output_type": "execute_result"
    }
   ],
   "source": [
    "t1=1,2,3\n",
    "t2=4,5,6\n",
    "\n",
    "def tuple_elementwise_sum(tuple1, tuple2):\n",
    "    return tuple(map(sum, zip(tuple1, tuple2)))\n",
    "\n",
    "tuple_elementwise_sum(t1,t2)"
   ]
  },
  {
   "cell_type": "code",
   "execution_count": 2,
   "id": "d8178385-8bca-4d84-b5b5-ce5975689d1f",
   "metadata": {},
   "outputs": [],
   "source": [
    "#OOP"
   ]
  },
  {
   "cell_type": "raw",
   "id": "740421ad-57fd-4f12-8353-10dea5708271",
   "metadata": {},
   "source": [
    "class StarCookie: #PascalCase\n",
    "    pass\n",
    "\n",
    "star_cookie1 = StarCookie()\n",
    "star_cookie1"
   ]
  },
  {
   "cell_type": "code",
   "execution_count": 8,
   "id": "25af51f9-ccd8-4853-8d4e-6c1a2f769bd1",
   "metadata": {},
   "outputs": [
    {
     "name": "stdout",
     "output_type": "stream",
     "text": [
      "15\n",
      "red\n"
     ]
    }
   ],
   "source": [
    "class StarCookie: #PascalCase\n",
    "    pass\n",
    "\n",
    "star_cookie1 = StarCookie()\n",
    "star_cookie1.weight = 15\n",
    "star_cookie1.color = \"red\"\n",
    "\n",
    "print(star_cookie1.weight)\n",
    "print(star_cookie1.color)"
   ]
  },
  {
   "cell_type": "code",
   "execution_count": 33,
   "id": "67a0c0bd-e4d7-4dfa-a886-e93220e4a650",
   "metadata": {},
   "outputs": [
    {
     "name": "stdout",
     "output_type": "stream",
     "text": [
      "Red\n",
      "16\n",
      "{'color': 'Red', 'weight': 16}\n",
      "{'__module__': '__main__', 'milk': 0.1, '__init__': <function StarCookie.__init__ at 0x7f8cb0ba7c10>, '__dict__': <attribute '__dict__' of 'StarCookie' objects>, '__weakref__': <attribute '__weakref__' of 'StarCookie' objects>, '__doc__': None}\n"
     ]
    }
   ],
   "source": [
    "\n",
    "\n",
    "#need initializer cuz cant keep repeating the same thing to build new cookies\n",
    "\n",
    "class StarCookie:\n",
    "    milk=0.1\n",
    "    def __init__(self,color,weight):#runs first\n",
    "        self.color = color\n",
    "        self.weight= weight\n",
    "        \n",
    "star_cookie1=StarCookie(\"Red\",16)\n",
    "print(star_cookie1.color)\n",
    "print(star_cookie1.weight)\n",
    "\n",
    "print(star_cookie1.__dict__)\n",
    "print(StarCookie.__dict__)"
   ]
  },
  {
   "cell_type": "code",
   "execution_count": 35,
   "id": "4d24f752-aa5e-40e8-aa8a-c43ab4732e5e",
   "metadata": {},
   "outputs": [
    {
     "name": "stdout",
     "output_type": "stream",
     "text": [
      "Sid\n",
      "0\n"
     ]
    }
   ],
   "source": [
    "class Youtube:\n",
    "    def __init__(self, username, subscribers=0,subscriptions=0): #can set default values\n",
    "        self.username=username\n",
    "        self.subscribers=subscribers\n",
    "        self.subscriptions=subscriptions\n",
    "        \n",
    "    def subscribe(self, user):\n",
    "        user.subscribers += 1\n",
    "        self.subscriptions += 1\n",
    "\n",
    "user1 = Youtube(\"Sid\")\n",
    "print(user1.username)\n",
    "print(user1.subscribers)\n",
    "user2 = Youtube(\"SGX\")\n",
    "\n",
    "user1.subscribe(user2)"
   ]
  },
  {
   "cell_type": "code",
   "execution_count": 39,
   "id": "eddd5034-e24e-4d79-964b-520e0dcf3fca",
   "metadata": {},
   "outputs": [
    {
     "data": {
      "text/plain": [
       "{'username': 'SGX', 'subscribers': 1, 'subscriptions': 0}"
      ]
     },
     "execution_count": 39,
     "metadata": {},
     "output_type": "execute_result"
    }
   ],
   "source": [
    "user2.__dict__"
   ]
  },
  {
   "cell_type": "markdown",
   "id": "69fc0a8a-a67a-4a22-9e4f-b7d2539ccf1d",
   "metadata": {},
   "source": [
    "## Linked Lists"
   ]
  },
  {
   "cell_type": "code",
   "execution_count": 71,
   "id": "6ab81db0-f30c-4dfc-8ed5-0579009680a4",
   "metadata": {},
   "outputs": [
    {
     "data": {
      "text/plain": [
       "<__main__.Node at 0x7fa72e43d1c0>"
      ]
     },
     "execution_count": 71,
     "metadata": {},
     "output_type": "execute_result"
    }
   ],
   "source": [
    "class Node:\n",
    "    def __init__(self, value):\n",
    "        self.value = value\n",
    "        self.next = None\n",
    "        \n",
    "    def __str__(self):\n",
    "        return str(self.value)\n",
    "        \n",
    "new_node = Node(10)\n",
    "new_node"
   ]
  },
  {
   "cell_type": "code",
   "execution_count": 7,
   "id": "919c33b1-8602-424b-b216-637be5083d9c",
   "metadata": {},
   "outputs": [],
   "source": [
    "class LinkedList:\n",
    "    def __init__(self, value):\n",
    "        new_node = Node(value)\n",
    "        self.head = new_node\n",
    "        self.tail = new_node"
   ]
  },
  {
   "cell_type": "code",
   "execution_count": 9,
   "id": "8cb511a3-7944-4cfc-8101-9af8536ad822",
   "metadata": {},
   "outputs": [],
   "source": [
    "class LinkedList:\n",
    "    def __init__(self):\n",
    "        self.head = None\n",
    "        self.tail = None"
   ]
  },
  {
   "cell_type": "code",
   "execution_count": 11,
   "id": "1e3db4ad-dd88-478a-b359-15445272f711",
   "metadata": {},
   "outputs": [],
   "source": [
    "class LinkedList:\n",
    "    def __init__(self, value):\n",
    "        new_node = Node(value)\n",
    "        self.head = new_node\n",
    "        self.tail = new_node\n",
    "        self.length = 1"
   ]
  },
  {
   "cell_type": "code",
   "execution_count": 13,
   "id": "fab6fe1f-939f-4bfa-954d-a2ceefba1602",
   "metadata": {},
   "outputs": [
    {
     "data": {
      "text/plain": [
       "<__main__.LinkedList at 0x7fbafeb223d0>"
      ]
     },
     "execution_count": 13,
     "metadata": {},
     "output_type": "execute_result"
    }
   ],
   "source": [
    "new_linked_list = LinkedList(10)\n",
    "new_linked_list"
   ]
  },
  {
   "cell_type": "code",
   "execution_count": 21,
   "id": "8ee66a55-84d2-4024-a11b-5d251b849fcc",
   "metadata": {},
   "outputs": [
    {
     "data": {
      "text/plain": [
       "1"
      ]
     },
     "execution_count": 21,
     "metadata": {},
     "output_type": "execute_result"
    }
   ],
   "source": [
    "new_linked_list.length"
   ]
  },
  {
   "cell_type": "code",
   "execution_count": 23,
   "id": "4c3b7af2-6495-46fa-9022-e3757905dcee",
   "metadata": {},
   "outputs": [],
   "source": [
    "#append\n",
    "class LinkedList:\n",
    "    def __init__(self):\n",
    "        self.head = None\n",
    "        self.tail = None\n",
    "        self.length = 0\n",
    "    \n",
    "    def append(self,value):\n",
    "        new_node = Node(value)\n",
    "        if self.head is None:\n",
    "            self.head = new_node\n",
    "            self.tail = new_node\n",
    "        else:\n",
    "            self.tail.next = new_node\n",
    "            self.tail = new_node\n",
    "            \n",
    "        self.length+=1"
   ]
  },
  {
   "cell_type": "code",
   "execution_count": 25,
   "id": "62a7aa16-2979-432c-9586-83593815ac03",
   "metadata": {},
   "outputs": [],
   "source": [
    "new_linked_list = LinkedList()"
   ]
  },
  {
   "cell_type": "code",
   "execution_count": 27,
   "id": "943a5b71-407e-42f7-a5c3-d26f489f4c8c",
   "metadata": {},
   "outputs": [],
   "source": [
    "new_linked_list.append(10)\n",
    "new_linked_list.append(20)"
   ]
  },
  {
   "cell_type": "code",
   "execution_count": 31,
   "id": "4611362c-8327-4005-be99-5339f1e3aa91",
   "metadata": {},
   "outputs": [
    {
     "data": {
      "text/plain": [
       "10"
      ]
     },
     "execution_count": 31,
     "metadata": {},
     "output_type": "execute_result"
    }
   ],
   "source": [
    "new_linked_list.head.value"
   ]
  },
  {
   "cell_type": "code",
   "execution_count": 10,
   "id": "ecfd9f97-74f4-4739-8a45-8cefb839b0d3",
   "metadata": {},
   "outputs": [],
   "source": [
    "#print a linked list\n",
    "class LinkedList:\n",
    "    def __init__(self):\n",
    "        self.head = None\n",
    "        self.tail = None\n",
    "        self.length = 0\n",
    "    \n",
    "    def append(self,value):\n",
    "        new_node = Node(value)\n",
    "        if self.head is None:\n",
    "            self.head = new_node\n",
    "            self.tail = new_node\n",
    "        else:\n",
    "            self.tail.next = new_node\n",
    "            self.tail = new_node\n",
    "            \n",
    "        self.length+=1\n",
    "        \n",
    "    def __str__(self):\n",
    "        temp_node = self.head\n",
    "        result=''\n",
    "        while temp_node is not None:\n",
    "            result += str(temp_node.value)\n",
    "            if temp_node.next is not None:\n",
    "                result += ' -> '\n",
    "            temp_node = temp_node.next\n",
    "        return result"
   ]
  },
  {
   "cell_type": "code",
   "execution_count": 12,
   "id": "a551c86c-b4b8-44cc-bee4-7a37e3bdbba2",
   "metadata": {},
   "outputs": [],
   "source": [
    "new_linked_list = LinkedList()\n",
    "new_linked_list.append(10)\n",
    "new_linked_list.append(20)\n",
    "new_linked_list.append(30)\n",
    "new_linked_list.append(40)"
   ]
  },
  {
   "cell_type": "code",
   "execution_count": 14,
   "id": "62e7d035-b843-4094-b04d-3b3b8beef249",
   "metadata": {},
   "outputs": [
    {
     "name": "stdout",
     "output_type": "stream",
     "text": [
      "10 -> 20 -> 30 -> 40\n"
     ]
    }
   ],
   "source": [
    "print(new_linked_list)"
   ]
  },
  {
   "cell_type": "code",
   "execution_count": 19,
   "id": "9d0de2dc-3135-4d8b-b2b6-74d71aba0434",
   "metadata": {},
   "outputs": [],
   "source": [
    "#prepend\n",
    "class LinkedList:\n",
    "    def __init__(self):\n",
    "        self.head = None\n",
    "        self.tail = None\n",
    "        self.length = 0\n",
    "    \n",
    "    def append(self,value):\n",
    "        new_node = Node(value)\n",
    "        if self.head is None:\n",
    "            self.head = new_node\n",
    "            self.tail = new_node\n",
    "        else:\n",
    "            self.tail.next = new_node\n",
    "            self.tail = new_node\n",
    "            \n",
    "        self.length+=1\n",
    "        \n",
    "    def prepend(self, value):\n",
    "        new_node=Node(value)\n",
    "        if self.head is None:\n",
    "            self.head=new_node\n",
    "            self.tail=new_node\n",
    "        else:\n",
    "            new_node.next = self.head\n",
    "            self.head = new_node\n",
    "        self.length+=1\n",
    "        \n",
    "    def __str__(self):\n",
    "        temp_node = self.head\n",
    "        result=''\n",
    "        while temp_node is not None:\n",
    "            result += str(temp_node.value)\n",
    "            if temp_node.next is not None:\n",
    "                result += ' -> '\n",
    "            temp_node = temp_node.next\n",
    "        return result"
   ]
  },
  {
   "cell_type": "code",
   "execution_count": 91,
   "id": "c9b4a88b-6f8e-430d-bb71-ee195496dfd6",
   "metadata": {},
   "outputs": [],
   "source": [
    "new_linked_list = LinkedList()\n",
    "new_linked_list.append(10)\n",
    "new_linked_list.append(20)\n",
    "new_linked_list.append(30)\n",
    "new_linked_list.append(40)"
   ]
  },
  {
   "cell_type": "code",
   "execution_count": 93,
   "id": "2855cc16-8abd-4a33-a40e-13eb89e32f6e",
   "metadata": {},
   "outputs": [
    {
     "name": "stdout",
     "output_type": "stream",
     "text": [
      "10 -> 20 -> 30 -> 40\n"
     ]
    }
   ],
   "source": [
    "print(new_linked_list)"
   ]
  },
  {
   "cell_type": "code",
   "execution_count": 95,
   "id": "965454d3-68cc-427d-ad6b-98ae0de131e8",
   "metadata": {},
   "outputs": [],
   "source": [
    "new_linked_list.prepend(0)"
   ]
  },
  {
   "cell_type": "code",
   "execution_count": 97,
   "id": "4dc03829-f468-4883-9d0d-7a9144da8f98",
   "metadata": {},
   "outputs": [
    {
     "name": "stdout",
     "output_type": "stream",
     "text": [
      "0 -> 10 -> 20 -> 30 -> 40\n"
     ]
    }
   ],
   "source": [
    "print(new_linked_list)"
   ]
  },
  {
   "cell_type": "code",
   "execution_count": 137,
   "id": "fef18f29-aa7e-4a5a-8fda-c54ca69ca2c7",
   "metadata": {},
   "outputs": [],
   "source": [
    "#prepend\n",
    "class LinkedList:\n",
    "    def __init__(self):\n",
    "        self.head = None\n",
    "        self.tail = None\n",
    "        self.length = 0\n",
    "    \n",
    "    def append(self,value):\n",
    "        new_node = Node(value)\n",
    "        if self.head is None:\n",
    "            self.head = new_node\n",
    "            self.tail = new_node\n",
    "        else:\n",
    "            self.tail.next = new_node\n",
    "            self.tail = new_node\n",
    "            \n",
    "        self.length+=1\n",
    "        \n",
    "    def prepend(self, value):\n",
    "        new_node=Node(value)\n",
    "        if self.head is None:\n",
    "            self.head=new_node\n",
    "            self.tail=new_node\n",
    "        else:\n",
    "            new_node.next = self.head\n",
    "            self.head = new_node\n",
    "        self.length+=1\n",
    "    \n",
    "    def insert(self,value,index):\n",
    "        new_node=Node(value)\n",
    "        \n",
    "        if index<0 or index>self.length:\n",
    "            return False\n",
    "        elif self.length == 0:\n",
    "            self.head=new_node\n",
    "            self.tail=new_node\n",
    "        elif index==0:\n",
    "            new_node.next=self.head\n",
    "            self.head=new_node\n",
    "        else:\n",
    "            temp = self.head\n",
    "            for _ in range(index-1):\n",
    "                temp = temp.next\n",
    "            new_node.next = temp.next\n",
    "            temp.next = new_node\n",
    "        self.length+=1\n",
    "        return True\n",
    "    \n",
    "    def traverse(self):\n",
    "        current=self.head\n",
    "        while current:\n",
    "            print(current.value)\n",
    "            current = current.next\n",
    "            \n",
    "    def search(self,target):\n",
    "        current=self.head\n",
    "        index=0\n",
    "        while current:\n",
    "            if current.value == target:\n",
    "                return index\n",
    "            current = current.next\n",
    "            index+=1\n",
    "        return -1\n",
    "        \n",
    "    def __str__(self):\n",
    "        temp_node = self.head\n",
    "        result=''\n",
    "        while temp_node is not None:\n",
    "            result += str(temp_node.value)\n",
    "            if temp_node.next is not None:\n",
    "                result += ' -> '\n",
    "            temp_node = temp_node.next\n",
    "        return result"
   ]
  },
  {
   "cell_type": "code",
   "execution_count": 125,
   "id": "0107d941-fcec-4de9-a59a-8fb1a674093b",
   "metadata": {},
   "outputs": [
    {
     "name": "stdout",
     "output_type": "stream",
     "text": [
      "10 -> 20 -> 30 -> 40\n"
     ]
    }
   ],
   "source": [
    "#dont forget to create the list again using the new, changed function\n",
    "print(new_linked_list)"
   ]
  },
  {
   "cell_type": "code",
   "execution_count": 127,
   "id": "ee73d6ef-54e2-4da7-b914-8d585a3b954d",
   "metadata": {},
   "outputs": [
    {
     "name": "stdout",
     "output_type": "stream",
     "text": [
      "-1 -> 10 -> 20 -> 30 -> 40\n"
     ]
    }
   ],
   "source": [
    "new_linked_list.insert(-1,0)\n",
    "print(new_linked_list)"
   ]
  },
  {
   "cell_type": "code",
   "execution_count": 129,
   "id": "0d3c85b5-e4a4-485e-875d-e7bf85bdef21",
   "metadata": {},
   "outputs": [
    {
     "name": "stdout",
     "output_type": "stream",
     "text": [
      "-1\n",
      "10\n",
      "20\n",
      "30\n",
      "40\n"
     ]
    }
   ],
   "source": [
    "new_linked_list.traverse()"
   ]
  },
  {
   "cell_type": "code",
   "execution_count": 139,
   "id": "d82ee372-dc37-42d1-9158-cafd151520b9",
   "metadata": {},
   "outputs": [],
   "source": [
    "new_linked_list = LinkedList()\n",
    "new_linked_list.append(10)\n",
    "new_linked_list.append(20)\n",
    "new_linked_list.append(30)\n",
    "new_linked_list.append(40)"
   ]
  },
  {
   "cell_type": "code",
   "execution_count": 145,
   "id": "a9c304d5-a66b-4e46-9bf5-768a8a833dfe",
   "metadata": {},
   "outputs": [
    {
     "data": {
      "text/plain": [
       "-1"
      ]
     },
     "execution_count": 145,
     "metadata": {},
     "output_type": "execute_result"
    }
   ],
   "source": [
    "new_linked_list.search(300)"
   ]
  },
  {
   "cell_type": "code",
   "execution_count": 67,
   "id": "5392c08b-a3fe-4362-96c6-8be19b01cdcf",
   "metadata": {},
   "outputs": [],
   "source": [
    "#get method in single linked list\n",
    "\n",
    "#prepend\n",
    "class LinkedList:\n",
    "    def __init__(self):\n",
    "        self.head = None\n",
    "        self.tail = None\n",
    "        self.length = 0\n",
    "    \n",
    "    def append(self,value):\n",
    "        new_node = Node(value)\n",
    "        if self.head is None:\n",
    "            self.head = new_node\n",
    "            self.tail = new_node\n",
    "        else:\n",
    "            self.tail.next = new_node\n",
    "            self.tail = new_node\n",
    "            \n",
    "        self.length+=1\n",
    "        \n",
    "    def prepend(self, value):\n",
    "        new_node=Node(value)\n",
    "        if self.head is None:\n",
    "            self.head=new_node\n",
    "            self.tail=new_node\n",
    "        else:\n",
    "            new_node.next = self.head\n",
    "            self.head = new_node\n",
    "        self.length+=1\n",
    "    \n",
    "    def insert(self,value,index):\n",
    "        new_node=Node(value)\n",
    "        \n",
    "        if index<0 or index>self.length:\n",
    "            return False\n",
    "        elif self.length == 0:\n",
    "            self.head=new_node\n",
    "            self.tail=new_node\n",
    "        elif index==0:\n",
    "            new_node.next=self.head\n",
    "            self.head=new_node\n",
    "        else:\n",
    "            temp = self.head\n",
    "            for _ in range(index-1):\n",
    "                temp = temp.next\n",
    "            new_node.next = temp.next\n",
    "            temp.next = new_node\n",
    "        self.length+=1\n",
    "        return True\n",
    "    \n",
    "    def traverse(self):\n",
    "        current=self.head\n",
    "        while current:\n",
    "            print(current.value)\n",
    "            current = current.next\n",
    "            \n",
    "    def search(self,target):\n",
    "        current=self.head\n",
    "        index=0\n",
    "        while current:\n",
    "            if current.value == target:\n",
    "                return index\n",
    "            current = current.next\n",
    "            index+=1\n",
    "        return -1\n",
    "        \n",
    "    def __str__(self):\n",
    "        temp_node = self.head\n",
    "        result=''\n",
    "        while temp_node is not None:\n",
    "            result += str(temp_node.value)\n",
    "            if temp_node.next is not None:\n",
    "                result += ' -> '\n",
    "            temp_node = temp_node.next\n",
    "        return result\n",
    "    \n",
    "    def get(self, index):\n",
    "        if index==-1:\n",
    "            return self.tail.value\n",
    "        if index < -1 or index >= self.length:\n",
    "            return None\n",
    "        current=self.head\n",
    "        for _ in range(index):\n",
    "            current = current.next\n",
    "        return current\n",
    "    \n",
    "    def set_value(self, index, value):\n",
    "        temp=self.get(index)\n",
    "        if temp:\n",
    "            temp.value = value\n",
    "            return True\n",
    "        return False"
   ]
  },
  {
   "cell_type": "code",
   "execution_count": 193,
   "id": "5e0b2f9d-01b3-4319-b585-dce8a839674b",
   "metadata": {},
   "outputs": [],
   "source": [
    "new_linked_list = LinkedList()\n",
    "new_linked_list.append(10)\n",
    "new_linked_list.append(20)\n",
    "new_linked_list.append(30)\n",
    "new_linked_list.append(40)"
   ]
  },
  {
   "cell_type": "code",
   "execution_count": 189,
   "id": "cf9aecad-d8ea-4e82-a773-f0426e30bb08",
   "metadata": {},
   "outputs": [
    {
     "name": "stdout",
     "output_type": "stream",
     "text": [
      "40\n"
     ]
    }
   ],
   "source": [
    "print(new_linked_list.get(-1))"
   ]
  },
  {
   "cell_type": "code",
   "execution_count": 196,
   "id": "dad6e313-f03d-40a7-bfff-ae9ebf2e345b",
   "metadata": {},
   "outputs": [
    {
     "name": "stdout",
     "output_type": "stream",
     "text": [
      "10 -> 20 -> 31 -> 40\n"
     ]
    }
   ],
   "source": [
    "new_linked_list.set_value(2,31)\n",
    "print(new_linked_list)"
   ]
  },
  {
   "cell_type": "code",
   "execution_count": 73,
   "id": "18bbe3b3-20ee-473c-aa25-e4457d655bf0",
   "metadata": {},
   "outputs": [],
   "source": [
    "#get method in single linked list\n",
    "\n",
    "#prepend\n",
    "class LinkedList:\n",
    "    def __init__(self):\n",
    "        self.head = None\n",
    "        self.tail = None\n",
    "        self.length = 0\n",
    "    \n",
    "    def append(self,value):\n",
    "        new_node = Node(value)\n",
    "        if self.head is None:\n",
    "            self.head = new_node\n",
    "            self.tail = new_node\n",
    "        else:\n",
    "            self.tail.next = new_node\n",
    "            self.tail = new_node\n",
    "            \n",
    "        self.length+=1\n",
    "        \n",
    "    def prepend(self, value):\n",
    "        new_node=Node(value)\n",
    "        if self.head is None:\n",
    "            self.head=new_node\n",
    "            self.tail=new_node\n",
    "        else:\n",
    "            new_node.next = self.head\n",
    "            self.head = new_node\n",
    "        self.length+=1\n",
    "    \n",
    "    def insert(self,value,index):\n",
    "        new_node=Node(value)\n",
    "        \n",
    "        if index<0 or index>self.length:\n",
    "            return False\n",
    "        elif self.length == 0:\n",
    "            self.head=new_node\n",
    "            self.tail=new_node\n",
    "        elif index==0:\n",
    "            new_node.next=self.head\n",
    "            self.head=new_node\n",
    "        else:\n",
    "            temp = self.head\n",
    "            for _ in range(index-1):\n",
    "                temp = temp.next\n",
    "            new_node.next = temp.next\n",
    "            temp.next = new_node\n",
    "        self.length+=1\n",
    "        return True\n",
    "    \n",
    "    def traverse(self):\n",
    "        current=self.head\n",
    "        while current:\n",
    "            print(current.value)\n",
    "            current = current.next\n",
    "            \n",
    "    def search(self,target):\n",
    "        current=self.head\n",
    "        index=0\n",
    "        while current:\n",
    "            if current.value == target:\n",
    "                return index\n",
    "            current = current.next\n",
    "            index+=1\n",
    "        return -1\n",
    "        \n",
    "    def __str__(self):\n",
    "        temp_node = self.head\n",
    "        result=''\n",
    "        while temp_node is not None:\n",
    "            result += str(temp_node.value)\n",
    "            if temp_node.next is not None:\n",
    "                result += ' -> '\n",
    "            temp_node = temp_node.next\n",
    "        return result\n",
    "    \n",
    "    def get(self, index):\n",
    "        if index==-1:\n",
    "            return self.tail.value\n",
    "        if index < -1 or index >= self.length:\n",
    "            return None\n",
    "        current=self.head\n",
    "        for _ in range(index):\n",
    "            current = current.next\n",
    "        return current\n",
    "    \n",
    "    def set_value(self, index, value):\n",
    "        temp=self.get(index)\n",
    "        if temp:\n",
    "            temp.value = value\n",
    "            return True\n",
    "        return False\n",
    "    \n",
    "    def pop_first(self):\n",
    "        popped_node=self.head\n",
    "        if self.length == 1:\n",
    "            self.head=None\n",
    "            self.tail=None\n",
    "        elif self.length==0:\n",
    "            return None\n",
    "        else:    \n",
    "            self.head=self.head.next\n",
    "            popped_node.next = None\n",
    "        self.length-=1\n",
    "        return popped_node\n",
    "    \n",
    "    def pop(self):\n",
    "        popped_node=self.tail\n",
    "        if self.length == 0:\n",
    "            return None\n",
    "        elif self.length == 1:\n",
    "            self.head = None\n",
    "            self.tail = None\n",
    "            return popped_node\n",
    "        temp = self.head\n",
    "        while temp.next is not self.tail:\n",
    "            temp = temp.next\n",
    "        self.tail = temp\n",
    "        temp.next = None\n",
    "        self.length-=1\n",
    "        return popped_node\n",
    "    \n",
    "    def remove(self,index):\n",
    "        if index == 0:\n",
    "            return self.pop_first()\n",
    "        elif index >= self.length or index < -1:\n",
    "            return None\n",
    "        elif index ==self.length-1 or index==-1:\n",
    "            return self.pop()\n",
    "        prev_node = self.get(index-1)\n",
    "        removed = prev_node.next\n",
    "        prev_node.next=removed.next\n",
    "        removed.next=None\n",
    "        self.length-=1\n",
    "        return removed\n",
    "    \n",
    "    def delete_all(self):\n",
    "        self.head=None\n",
    "        self.tail=None\n",
    "        self.length=0"
   ]
  },
  {
   "cell_type": "code",
   "execution_count": 286,
   "id": "8063ca25-9125-47fb-9d53-2d4791cddb35",
   "metadata": {},
   "outputs": [],
   "source": [
    "new_linked_list = LinkedList()\n",
    "new_linked_list.append(10)\n",
    "new_linked_list.append(20)\n",
    "new_linked_list.append(30)\n",
    "new_linked_list.append(40)"
   ]
  },
  {
   "cell_type": "code",
   "execution_count": 274,
   "id": "3d9264b1-7441-4710-918f-e7c057b4350f",
   "metadata": {},
   "outputs": [
    {
     "name": "stdout",
     "output_type": "stream",
     "text": [
      "10 -> 20 -> 30 -> 40\n"
     ]
    }
   ],
   "source": [
    "print(new_linked_list)"
   ]
  },
  {
   "cell_type": "code",
   "execution_count": 238,
   "id": "ea251152-decd-4007-a0d1-0b1afb126159",
   "metadata": {},
   "outputs": [
    {
     "name": "stdout",
     "output_type": "stream",
     "text": [
      "20 -> 30 -> 40\n"
     ]
    }
   ],
   "source": [
    "popped = new_linked_list.pop_first()\n",
    "print(new_linked_list)"
   ]
  },
  {
   "cell_type": "code",
   "execution_count": 240,
   "id": "acfa8e5d-9395-4422-a06b-ddf63a844794",
   "metadata": {},
   "outputs": [],
   "source": [
    "#edge cases; for example with one node or zero nodes."
   ]
  },
  {
   "cell_type": "code",
   "execution_count": 242,
   "id": "93e7412f-5b1b-403e-8dc7-c3001593f723",
   "metadata": {},
   "outputs": [
    {
     "name": "stdout",
     "output_type": "stream",
     "text": [
      "20 -> 30\n"
     ]
    }
   ],
   "source": [
    "popped = new_linked_list.pop()\n",
    "print(new_linked_list)"
   ]
  },
  {
   "cell_type": "code",
   "execution_count": 266,
   "id": "1994a304-05c9-4197-9745-cee52a5216b2",
   "metadata": {},
   "outputs": [
    {
     "data": {
      "text/plain": [
       "<__main__.Node at 0x7f9ab08d8220>"
      ]
     },
     "execution_count": 266,
     "metadata": {},
     "output_type": "execute_result"
    }
   ],
   "source": [
    "new_linked_list.remove(3)"
   ]
  },
  {
   "cell_type": "code",
   "execution_count": 282,
   "id": "e200200b-5bdc-4e75-a2a9-a14a24bfe571",
   "metadata": {},
   "outputs": [
    {
     "name": "stdout",
     "output_type": "stream",
     "text": [
      "10 -> 20 -> 30 -> 40\n"
     ]
    }
   ],
   "source": [
    "print(new_linked_list)"
   ]
  },
  {
   "cell_type": "code",
   "execution_count": 280,
   "id": "121294d5-1915-4b91-8e69-6b1beab47e36",
   "metadata": {},
   "outputs": [],
   "source": [
    "#Delete all nodes of a singly linked list\n",
    "\n",
    "#All the new methods are being added to the same cell above."
   ]
  },
  {
   "cell_type": "code",
   "execution_count": 288,
   "id": "76a7555b-6617-4b71-bcc5-6ad283a51159",
   "metadata": {},
   "outputs": [],
   "source": [
    "new_linked_list.delete_all()"
   ]
  },
  {
   "cell_type": "code",
   "execution_count": 290,
   "id": "80291659-a0ab-4137-a6be-ba902bf62567",
   "metadata": {},
   "outputs": [
    {
     "name": "stdout",
     "output_type": "stream",
     "text": [
      "\n"
     ]
    }
   ],
   "source": [
    "print(new_linked_list)"
   ]
  },
  {
   "cell_type": "code",
   "execution_count": 294,
   "id": "c089015c-8c07-4836-a90a-084189808712",
   "metadata": {},
   "outputs": [],
   "source": [
    "#reverse a singly linked list:\n",
    "#Note: add this method to the LinkedList class to use it.\n",
    "def reverse(self):\n",
    "        prev_node = None\n",
    "        current_node = self.head\n",
    "        while current_node is not None:\n",
    "            next_node = current_node.next\n",
    "            current_node.next = prev_node\n",
    "            prev_node = current_node\n",
    "            current_node = next_node\n",
    "        self.head, self.tail = self.tail, self.head"
   ]
  },
  {
   "cell_type": "code",
   "execution_count": 298,
   "id": "6f0d5f41-6855-4525-9e7e-5fdbb19cf171",
   "metadata": {},
   "outputs": [],
   "source": [
    "#find middle of singly linked list, return the second element if the middle is two nodes.\n",
    "def find_middle(self):\n",
    "    slow = self.head\n",
    "    fast = self.head\n",
    "    while fast is not None and fast.next is not None:\n",
    "        slow = slow.next\n",
    "        fast = fast.next.next\n",
    "    return slow"
   ]
  },
  {
   "cell_type": "code",
   "execution_count": 302,
   "id": "14fc3ce5-b4c5-4330-9f7a-4a600e89df3e",
   "metadata": {},
   "outputs": [],
   "source": [
    "#To remove duplicates from a singly linked list\n",
    "def remove_duplicates(self):\n",
    "        if self.head is None:\n",
    "            return\n",
    "        node_values = set()  # set to store unique node values\n",
    "        current_node = self.head\n",
    "        node_values.add(current_node.value)\n",
    "        while current_node.next:\n",
    "            if current_node.next.value in node_values:  # duplicate found\n",
    "                current_node.next = current_node.next.next\n",
    "                self.length -= 1\n",
    "            else:\n",
    "                node_values.add(current_node.next.value)\n",
    "                current_node = current_node.next\n",
    "        self.tail = current_node"
   ]
  },
  {
   "cell_type": "code",
   "execution_count": 315,
   "id": "adde37ea-8246-4e66-b87e-d5c191f00db5",
   "metadata": {},
   "outputs": [],
   "source": [
    "#merge two sorted singly linked lists:\n",
    "\n",
    "def mergeTwoLists(l1,l2):\n",
    "    prehead = Node(-1)\n",
    "    prev = prehead\n",
    "    while l1 and l2:\n",
    "        if l1.value<=l2.value:\n",
    "            prev.next = l1\n",
    "            l1 = l1.next\n",
    "        else:\n",
    "            prev.next = l2\n",
    "            l2 = l2.next\n",
    "        prev = prev.next\n",
    "        \n",
    "    prev.next = l1 if l1 is not None else l2\n",
    "    \n",
    "    return prehead.next"
   ]
  },
  {
   "cell_type": "markdown",
   "id": "b520ea57-1244-4ff8-8855-240eeca14fb8",
   "metadata": {},
   "source": [
    "## Circular Singly Linked List"
   ]
  },
  {
   "cell_type": "code",
   "execution_count": 321,
   "id": "55bee940-fd52-4488-82be-8fca6ea8f1c9",
   "metadata": {},
   "outputs": [],
   "source": [
    "class Node:\n",
    "    def __init__(self, value):\n",
    "        self.value=value\n",
    "        self.next = None"
   ]
  },
  {
   "cell_type": "code",
   "execution_count": 323,
   "id": "671580ff-bab0-49de-b9f2-ce148917bb68",
   "metadata": {},
   "outputs": [],
   "source": [
    "class CSLinkedList:\n",
    "    def __init__(self,value): #CSLinkedList with one element\n",
    "        new_node = Node(value)\n",
    "        new_node.next = new_node\n",
    "        self.head = new_node\n",
    "        self.tail = new_node\n",
    "        self.length = 1\n",
    "        \n",
    "    '''\n",
    "    def __init__(self): #Empty\n",
    "        self.head = None\n",
    "        self.tail = None\n",
    "        self.length = 0\n",
    "    '''"
   ]
  },
  {
   "cell_type": "code",
   "execution_count": 325,
   "id": "56b42f94-8bd9-459a-850d-ed3b7c72bbb5",
   "metadata": {},
   "outputs": [
    {
     "name": "stdout",
     "output_type": "stream",
     "text": [
      "10\n"
     ]
    }
   ],
   "source": [
    "cslinkedlist = CSLinkedList(10)\n",
    "print(cslinkedlist.head.value)"
   ]
  },
  {
   "cell_type": "code",
   "execution_count": 492,
   "id": "6bf140a9-7307-48ab-ac77-36f9560b3131",
   "metadata": {},
   "outputs": [],
   "source": [
    "class CSLinkedList:\n",
    "    '''\n",
    "    def __init__(self,value): #CSLinkedList with one element\n",
    "        new_node = Node(value)\n",
    "        new_node.next = new_node\n",
    "        self.head = new_node\n",
    "        self.tail = new_node\n",
    "        self.length = 1\n",
    "        \n",
    "    '''\n",
    "    def __init__(self): #Empty\n",
    "        self.head = None\n",
    "        self.tail = None\n",
    "        self.length = 0\n",
    "    \n",
    "    def append(self,value):\n",
    "        new_node = Node(value)\n",
    "        if self.length == 0:\n",
    "            self.head = new_node\n",
    "            self.tail = new_node\n",
    "            new_node.next = new_node\n",
    "        else:\n",
    "            self.tail.next = new_node\n",
    "            new_node.next = self.head\n",
    "            self.tail = new_node\n",
    "            \n",
    "        self.length +=1\n",
    "    \n",
    "    def __str__(self):\n",
    "        temp_node = self.head\n",
    "        result = ''\n",
    "        while temp_node is not None:\n",
    "            result += str(temp_node.value)\n",
    "            temp_node = temp_node.next\n",
    "            if temp_node == self.head:\n",
    "                break\n",
    "            result += ' -> '\n",
    "        return result\n",
    "    \n",
    "    def prepend(self, value):\n",
    "        new_node = Node(value)\n",
    "        \n",
    "        if self.length == 0:\n",
    "            self.head = new_node\n",
    "            self.tail = new_node\n",
    "            new_node.next = new_node\n",
    "        else:\n",
    "            new_node.next = self.head\n",
    "            self.head = new_node\n",
    "            self.tail.next = new_node\n",
    "            \n",
    "        self.length+=1\n",
    "     \n",
    "    def insert(self, index, value):\n",
    "        new_node = Node(value)\n",
    "        if index > self.length or index < 0:\n",
    "            raise Exception(\"Index out of range\")\n",
    "        if index == 0:\n",
    "            if self.length == 0:\n",
    "                self.head = new_node\n",
    "                self.tail = new_node\n",
    "                new_node.next = new_node\n",
    "            else:\n",
    "                new_node.next = self.head\n",
    "                self.head = new_node\n",
    "                self.tail.next = new_node\n",
    "        elif index == self.length:\n",
    "            self.tail.next = new_ndoe\n",
    "            new_node.next = self.head\n",
    "            self.tail = new_node\n",
    "        else:\n",
    "            curr = self.head\n",
    "            for _ in range(index-1):\n",
    "                curr = curr.next\n",
    "            new_node.next = curr.next\n",
    "            curr.next = new_node\n",
    "        self.length+=1\n",
    "        \n",
    "    def traverse(self):\n",
    "        curr = self.head\n",
    "        while curr is not None:\n",
    "            print(curr.value)\n",
    "            curr = curr.next\n",
    "            if curr == self.head:\n",
    "                break\n",
    "    \n",
    "    def search(self,target):\n",
    "        curr = self.head\n",
    "        while curr is not None:\n",
    "            if curr.value == target:\n",
    "                return True\n",
    "            curr = curr.next\n",
    "            if curr == self.head:\n",
    "                return False\n",
    "            \n",
    "    def get(self, index):\n",
    "        curr = self.head\n",
    "        if index < -1 or index >= self.length:\n",
    "            return None\n",
    "        elif index == -1:\n",
    "            return self.tail\n",
    "        for _ in range(index):\n",
    "            curr = curr.next\n",
    "        return curr\n",
    "    \n",
    "    def set_value(self, index, value):\n",
    "        temp = self.get(index)\n",
    "        if temp:\n",
    "            temp.value = value\n",
    "            return True\n",
    "        return False\n",
    "    \n",
    "    def pop_first(self):\n",
    "        temp = self.head\n",
    "        if self.length == 0:\n",
    "            return temp\n",
    "        elif self.length == 1:\n",
    "            self.head = None\n",
    "            self.tail = None\n",
    "            self.length -=1\n",
    "            temp.next = None\n",
    "            return temp\n",
    "        self.head = temp.next\n",
    "        self.tail.next = self.head\n",
    "        temp.next = None\n",
    "        self.length-=1\n",
    "        return temp\n",
    "    \n",
    "    def pop(self):\n",
    "        if self.length == 0 or self.length == 1:\n",
    "            return self.pop_first()\n",
    "        popped_node = self.tail\n",
    "        temp = self.head\n",
    "        while temp.next is not self.tail:\n",
    "            temp = temp.next\n",
    "        temp.next = self.head\n",
    "        self.tail = temp\n",
    "        popped_node.next = None\n",
    "        self.length -= 1\n",
    "        return popped_node\n",
    "    \n",
    "    def remove(self,index):\n",
    "        if index < 0 or index >= self.length:\n",
    "            return None\n",
    "        elif index == 0:\n",
    "            return self.pop_first()\n",
    "        elif index == self.length-1:\n",
    "            return self.pop()\n",
    "        prev = self.get(index-1)\n",
    "        popped = prev.next\n",
    "        prev.next = popped.next\n",
    "        popped.next = None\n",
    "        self.length -= 1\n",
    "        return popped\n",
    "    \n",
    "    def delete_all(self):\n",
    "        if self.length == 0:\n",
    "            return\n",
    "        self.tail.next = None\n",
    "        self.head = None\n",
    "        self.tail = None\n",
    "        self.length =0"
   ]
  },
  {
   "cell_type": "code",
   "execution_count": 486,
   "id": "81f8deda-7497-4f9c-a5f1-f80f42dddcce",
   "metadata": {},
   "outputs": [],
   "source": [
    "cslinkedlist = CSLinkedList()\n",
    "cslinkedlist.append(10)\n",
    "cslinkedlist.append(20)\n",
    "cslinkedlist.append(30)\n",
    "cslinkedlist.append(40)"
   ]
  },
  {
   "cell_type": "code",
   "execution_count": 331,
   "id": "e56740e9-8ba3-4afa-bc92-bc3642c70014",
   "metadata": {},
   "outputs": [
    {
     "name": "stdout",
     "output_type": "stream",
     "text": [
      "30\n"
     ]
    }
   ],
   "source": [
    "print(cslinkedlist.head.next.next.value)"
   ]
  },
  {
   "cell_type": "code",
   "execution_count": 374,
   "id": "92a5be1e-a51d-4d2e-95ed-01a1725d9abf",
   "metadata": {},
   "outputs": [
    {
     "name": "stdout",
     "output_type": "stream",
     "text": [
      "10 -> 20 -> 30 -> 40\n"
     ]
    }
   ],
   "source": [
    "print(cslinkedlist)"
   ]
  },
  {
   "cell_type": "code",
   "execution_count": 344,
   "id": "6601835b-a5a6-4b47-a69b-0dd5adb08d12",
   "metadata": {},
   "outputs": [
    {
     "name": "stdout",
     "output_type": "stream",
     "text": [
      "0 -> 10 -> 20 -> 30 -> 40\n"
     ]
    }
   ],
   "source": [
    "cslinkedlist.prepend(0)\n",
    "print(cslinkedlist)"
   ]
  },
  {
   "cell_type": "code",
   "execution_count": 388,
   "id": "c4e51727-c8ee-4e31-925c-e3a8cfc357a7",
   "metadata": {},
   "outputs": [
    {
     "name": "stdout",
     "output_type": "stream",
     "text": [
      "0 -> 10 -> 20 -> 30 -> 40\n"
     ]
    }
   ],
   "source": [
    "cslinkedlist.insert(0,0)\n",
    "print(cslinkedlist)"
   ]
  },
  {
   "cell_type": "code",
   "execution_count": 394,
   "id": "416839ab-495d-47e2-8e1b-a48701250489",
   "metadata": {},
   "outputs": [
    {
     "name": "stdout",
     "output_type": "stream",
     "text": [
      "10\n",
      "20\n",
      "30\n",
      "40\n"
     ]
    }
   ],
   "source": [
    "cslinkedlist.traverse()"
   ]
  },
  {
   "cell_type": "code",
   "execution_count": 426,
   "id": "dc5f9d61-3593-41d6-8a5a-8c71fddbd2f3",
   "metadata": {},
   "outputs": [
    {
     "name": "stdout",
     "output_type": "stream",
     "text": [
      "40\n"
     ]
    }
   ],
   "source": [
    "print(cslinkedlist.get(-1))"
   ]
  },
  {
   "cell_type": "code",
   "execution_count": 480,
   "id": "61043f5a-3037-4bea-b3bc-bc27f24e7b35",
   "metadata": {},
   "outputs": [
    {
     "name": "stdout",
     "output_type": "stream",
     "text": [
      "None\n"
     ]
    }
   ],
   "source": [
    "print(cslinkedlist.pop())"
   ]
  },
  {
   "cell_type": "code",
   "execution_count": 488,
   "id": "5fedcf4d-1bee-4ada-a0c9-1a479b3966f6",
   "metadata": {},
   "outputs": [
    {
     "name": "stdout",
     "output_type": "stream",
     "text": [
      "10 -> 20 -> 30 -> 40\n"
     ]
    }
   ],
   "source": [
    "print(cslinkedlist)"
   ]
  },
  {
   "cell_type": "code",
   "execution_count": 495,
   "id": "68bd0c33-407b-4460-b0d1-dc4fa0c25860",
   "metadata": {},
   "outputs": [],
   "source": [
    "def split_list(self):\n",
    "        if self.length == 0:\n",
    "            return None, None\n",
    " \n",
    "        mid = (self.length + 1) // 2\n",
    "        count = 1\n",
    " \n",
    "        first_list = CSLinkedList()\n",
    "        second_list = CSLinkedList()\n",
    " \n",
    "        current = self.head\n",
    "        last_first_list = None\n",
    " \n",
    "        while count <= mid:\n",
    "            first_list.append(current.value)\n",
    "            last_first_list = current\n",
    "            current = current.next\n",
    "            count += 1\n",
    " \n",
    "        # Set the tail of the first half\n",
    "        if last_first_list:\n",
    "            first_list.tail = last_first_list\n",
    "            first_list.tail.next = first_list.head\n",
    " \n",
    "        # Handle the second half\n",
    "        while current != self.head:\n",
    "            second_list.append(current.value)\n",
    "            current = current.next\n",
    " \n",
    "        # Set the tail of the second half\n",
    "        if second_list.length > 0:\n",
    "            second_list.tail = self.tail\n",
    "            second_list.tail.next = second_list.head\n",
    " \n",
    "        return first_list, second_list"
   ]
  },
  {
   "cell_type": "code",
   "execution_count": 498,
   "id": "eb520577-fcfa-4376-bfa7-ffc2d78eb01a",
   "metadata": {},
   "outputs": [],
   "source": [
    "def josephus_circle(self, step):\n",
    "        temp = self.head\n",
    " \n",
    "        while self.count_nodes() > 1:\n",
    "            count = 1\n",
    "            while count != step:\n",
    "                temp = temp.next\n",
    "                count += 1\n",
    "            print(f\"Removed: {temp.data}\")\n",
    "            self.delete_node(temp.data)\n",
    "            temp = temp.next\n",
    "        return f\"Last person left standing: {temp.data}\""
   ]
  },
  {
   "cell_type": "markdown",
   "id": "d0f17548-6ff3-4c4d-b9dc-abf87aea4543",
   "metadata": {},
   "source": [
    "## Doubly Linked Lists"
   ]
  },
  {
   "cell_type": "code",
   "execution_count": 14,
   "id": "68ded0b8-7212-47db-b579-30e5e7a17f74",
   "metadata": {},
   "outputs": [],
   "source": [
    "class Node:\n",
    "    def __init__(self,value):\n",
    "        self.value = value\n",
    "        self.next = None\n",
    "        self.prev = None\n",
    "        \n",
    "    def __str__(self):\n",
    "        return str(self.value)"
   ]
  },
  {
   "cell_type": "code",
   "execution_count": 16,
   "id": "b20216bc-2f32-4f0f-aea6-a0d254176d70",
   "metadata": {},
   "outputs": [
    {
     "name": "stdout",
     "output_type": "stream",
     "text": [
      "10\n"
     ]
    }
   ],
   "source": [
    "new_node = Node(10)\n",
    "print(new_node)"
   ]
  },
  {
   "cell_type": "code",
   "execution_count": 140,
   "id": "a0a3c4db-562f-4a9e-9731-ab0904e48d04",
   "metadata": {},
   "outputs": [],
   "source": [
    "class DoublyLinkedList:\n",
    "    def __init__(self):\n",
    "        self.head = None\n",
    "        self.tail = None\n",
    "        self.length = 0\n",
    "        \n",
    "    def append(self,value):\n",
    "        new_node = Node(value)\n",
    "        if not self.head:\n",
    "            self.head = new_node\n",
    "            self.tail = new_node\n",
    "        else:\n",
    "            self.tail.next = new_node\n",
    "            new_node.prev = self.tail\n",
    "            self.tail = new_node\n",
    "        self.length+=1\n",
    "        \n",
    "    def __str__(self):\n",
    "        temp_node = self.head\n",
    "        result = ''\n",
    "        while temp_node is not None:\n",
    "            result+= str(temp_node.value)\n",
    "            if temp_node.next is not None:\n",
    "                result += ' <-> '\n",
    "            temp_node = temp_node.next\n",
    "        return result\n",
    "    \n",
    "    def prepend(self,value):\n",
    "        new_node = Node(value)\n",
    "        if self.head is None:\n",
    "            self.head = new_node\n",
    "            self.tail = new_node\n",
    "        else:\n",
    "            new_node.next = self.head\n",
    "            self.head.prev = new_node\n",
    "            self.head = new_node\n",
    "        self.length+=1\n",
    "        \n",
    "    def traverse(self):\n",
    "        curr = self.head\n",
    "        while curr is not None:\n",
    "            print(curr.value)\n",
    "            curr = curr.next\n",
    "            \n",
    "    def reverse_traverse(self):\n",
    "        curr = self.tail\n",
    "        while curr is not None:\n",
    "            print(curr.value)\n",
    "            curr = curr.prev\n",
    "            \n",
    "    def search(self,target):\n",
    "        temp = self.head\n",
    "        index = 0\n",
    "        while temp is not None:\n",
    "            if temp.value == target:\n",
    "                return index\n",
    "            temp = temp.next\n",
    "            index+=1\n",
    "        return -1\n",
    "    \n",
    "    def get(self,index):\n",
    "        if index<0 or index >= self.length:\n",
    "            return None\n",
    "        if index < (self.length//2):\n",
    "            temp = self.head\n",
    "            for _ in range(index):\n",
    "                temp = temp.next\n",
    "        else:\n",
    "            temp = self.tail\n",
    "            for _ in range(self.length-1, index, -1):\n",
    "                temp = temp.prev  \n",
    "        return temp\n",
    "    \n",
    "    def set_value(self, index, value):\n",
    "        temp = self.get(index)\n",
    "        if temp:\n",
    "            temp.value = value\n",
    "            return True\n",
    "        return False\n",
    "    \n",
    "    def insert(self, index, value):\n",
    "        if index<0 or index>self.length:\n",
    "            print(\"Index out of bounds.\")\n",
    "            return\n",
    "        if index == 0:\n",
    "            self.prepend(value)\n",
    "            return\n",
    "        elif index == self.length:\n",
    "            self.append(value)\n",
    "            return\n",
    "        new_node = Node(value)\n",
    "        temp_node = get(index-1)\n",
    "        new_node.next = temp_node.next\n",
    "        new_node.prev = temp_node\n",
    "        temp_node.next.prev = new_node\n",
    "        temp_node.next = new_node\n",
    "        self.length += 1\n",
    "        \n",
    "    def pop_first(self):\n",
    "        if self.length == 0:\n",
    "            return None\n",
    "        popped = self.head\n",
    "        if self.length==1:\n",
    "            self.head = None\n",
    "            self.tail = None\n",
    "        else:\n",
    "            self.head = popped.next\n",
    "            popped.next = None\n",
    "            self.head.prev = None\n",
    "        self.length-=1\n",
    "        return popped\n",
    "    \n",
    "    def pop(self):\n",
    "        if self.length == 0 or self.length == 1: #Covered these cases in pop_first so just use that\n",
    "            return self.pop_first()\n",
    "        else:\n",
    "            popped = self.tail\n",
    "            self.tail = popped.prev\n",
    "            popped.prev = None\n",
    "            self.tail.next = None\n",
    "            self.length-=1\n",
    "            return popped\n",
    "        \n",
    "    def remove(self, index):\n",
    "        if index == 0:\n",
    "            return self.pop_first()\n",
    "        if index == self.length -1:\n",
    "            return self.pop()\n",
    "        if index < 0 or index >= self.length:\n",
    "            return None\n",
    "        removed = self.get(index)\n",
    "        removed.prev.next = removed.next\n",
    "        removed.next.prev = removed.prev\n",
    "        removed.next = None\n",
    "        removed.prev = None\n",
    "        self.length-=1\n",
    "        return removed"
   ]
  },
  {
   "cell_type": "code",
   "execution_count": 132,
   "id": "96eae7f6-3b37-4202-bd03-c51a0756bad1",
   "metadata": {},
   "outputs": [],
   "source": [
    "newDLL = DoublyLinkedList()\n",
    "newDLL.append(10)\n",
    "newDLL.append(20)\n",
    "newDLL.append(30)\n",
    "newDLL.append(40)\n",
    "newDLL.prepend(0)"
   ]
  },
  {
   "cell_type": "code",
   "execution_count": 116,
   "id": "6d192b17-835b-4e25-a2a3-5a39cff91f36",
   "metadata": {},
   "outputs": [
    {
     "name": "stdout",
     "output_type": "stream",
     "text": [
      "0 <-> 10 <-> 20 <-> 30 <-> 40\n"
     ]
    }
   ],
   "source": [
    "print(newDLL)"
   ]
  },
  {
   "cell_type": "code",
   "execution_count": 118,
   "id": "22d36032-7109-422f-91e5-d9c77429d0f2",
   "metadata": {},
   "outputs": [
    {
     "name": "stdout",
     "output_type": "stream",
     "text": [
      "40\n",
      "30\n",
      "20\n",
      "10\n",
      "0\n"
     ]
    }
   ],
   "source": [
    "newDLL.reverse_traverse()"
   ]
  },
  {
   "cell_type": "code",
   "execution_count": 120,
   "id": "ff6b7796-8aff-41a8-88a7-159b3a7c2c93",
   "metadata": {},
   "outputs": [
    {
     "data": {
      "text/plain": [
       "4"
      ]
     },
     "execution_count": 120,
     "metadata": {},
     "output_type": "execute_result"
    }
   ],
   "source": [
    "newDLL.search(40)"
   ]
  },
  {
   "cell_type": "code",
   "execution_count": 122,
   "id": "32df80a0-ba3e-4f45-8d10-8442954ff8a6",
   "metadata": {},
   "outputs": [
    {
     "name": "stdout",
     "output_type": "stream",
     "text": [
      "None\n"
     ]
    }
   ],
   "source": [
    "print(newDLL.get(6))"
   ]
  },
  {
   "cell_type": "markdown",
   "id": "bebfd46e-0538-4853-b988-59aa3220b61b",
   "metadata": {},
   "source": [
    "## Circular Doubly Linked Lists"
   ]
  },
  {
   "cell_type": "code",
   "execution_count": 143,
   "id": "42a48d8c-cea3-4765-b14d-51abac940204",
   "metadata": {},
   "outputs": [],
   "source": [
    "#Same node class as Doubly Linked Lists"
   ]
  },
  {
   "cell_type": "code",
   "execution_count": 220,
   "id": "8b16af56-a8ed-4b44-943a-095d7e9007f8",
   "metadata": {},
   "outputs": [],
   "source": [
    "class CircularDoublyLinkedList:\n",
    "    def __init__(self):\n",
    "        self.head = None\n",
    "        self.tail = None\n",
    "        self.length=0\n",
    "        \n",
    "    '''\n",
    "    def __init__(self,value):\n",
    "        new_node = Node(value)\n",
    "        new_node.next = new_node\n",
    "        new_node.prev = new_node\n",
    "        self.head = new_node\n",
    "        self.tail = new_node\n",
    "        self.length = 1\n",
    "    '''\n",
    "    \n",
    "    def append(self, value):\n",
    "        new_node = Node(value)\n",
    "        if self.length == 0:\n",
    "            self.head = new_node\n",
    "            self.tail = new_node\n",
    "            new_node.next = new_node\n",
    "            new_node.prev = new_node\n",
    "        else:\n",
    "            self.tail.next = new_node\n",
    "            self.head.prev = new_node\n",
    "            new_node.prev =  self.tail\n",
    "            new_node.next = self.head\n",
    "            self.tail = new_node\n",
    "        self.length+=1\n",
    "        \n",
    "    def prepend(self, value):\n",
    "        new_node = Node(value)\n",
    "        if self.length == 0:\n",
    "            self.head = new_node\n",
    "            self.tail = new_node\n",
    "            new_node.next = new_node\n",
    "            new_node.prev = new_node\n",
    "        else:\n",
    "            new_node.next = self.head\n",
    "            new_node.prev = self.tail\n",
    "            self.tail.next = new_node\n",
    "            self.head.prev = new_node\n",
    "            self.head = new_node\n",
    "            \n",
    "        self.length+=1\n",
    "    \n",
    "    def __str__(self):\n",
    "        curr = self.head\n",
    "        result = ''\n",
    "        while curr:\n",
    "            result += str(curr.value)\n",
    "            curr = curr.next\n",
    "            if curr == self.head: break\n",
    "            result += ' <-> '\n",
    "        return result\n",
    "    \n",
    "    def traverse(self):\n",
    "        curr = self.head\n",
    "        while curr:\n",
    "            print(curr.value)\n",
    "            curr = curr.next\n",
    "            if curr == self.head: break\n",
    "    \n",
    "    def reverse_traversal(self):\n",
    "        curr = self.tail\n",
    "        while curr:\n",
    "            print(curr.value)\n",
    "            curr = curr.prev\n",
    "            if curr == self.tail: break\n",
    "    \n",
    "    def search(self, target):\n",
    "        curr = self.head\n",
    "        while curr:\n",
    "            if curr.value == target:\n",
    "                return True\n",
    "            curr = curr.next\n",
    "            \n",
    "            if curr == self.head:\n",
    "                break\n",
    "            \n",
    "        return False\n",
    "    \n",
    "    def get(self, index):\n",
    "        if index<0 or index>=self.length:\n",
    "            return None\n",
    "        curr = None\n",
    "        if index < self.length//2:\n",
    "            curr = self.head\n",
    "            for i in range(index):\n",
    "                curr = curr.next\n",
    "        else:\n",
    "            curr = self.tail\n",
    "            for i in range(self.length - 1, index, -1):\n",
    "                curr = curr.prev\n",
    "                \n",
    "        return curr\n",
    "    \n",
    "    def set_value(self, index, value):\n",
    "        temp = self.get(index)\n",
    "        if temp:\n",
    "            temp.value = value\n",
    "            return True\n",
    "        return  False\n",
    "    \n",
    "    def insert(self, index, value):\n",
    "        new_node = Node(value)\n",
    "        if index<-1 or index>= self.length:\n",
    "            print(\"Error: Index out of bounds.\")\n",
    "            return\n",
    "        if index == 0:\n",
    "            self.prepend(value)\n",
    "            return\n",
    "        elif index == self.length-1 or index==-1:\n",
    "            self.append(value)\n",
    "            return\n",
    "        else:\n",
    "            temp_node = self.get(index-1)\n",
    "            new_node.next = temp_node.next\n",
    "            new_node.prev = temp_node\n",
    "            temp_node.next.prev = new_node\n",
    "            temp_node.next = new_node\n",
    "            self.length+=1\n",
    "        \n",
    "    def pop_first(self):\n",
    "        if self.length == 0:\n",
    "            return None\n",
    "        popped = self.head\n",
    "        if self.length == 1:\n",
    "            self.head = None\n",
    "            self.tail = None\n",
    "        else:\n",
    "            self.head = self.head.next\n",
    "            popped.prev = None\n",
    "            popped.next = None\n",
    "            self.head.prev = self.tail\n",
    "            self.tail.next = self.head\n",
    "        self.length-=1\n",
    "        return popped\n",
    "    \n",
    "    def pop(self):\n",
    "        if self.length == 0 or self.length == 1:\n",
    "            return self.pop_first()\n",
    "        popped = self.tail\n",
    "        self.tail = self.tail.prev\n",
    "        popped.prev = None\n",
    "        popped.next = None\n",
    "        self.tail.next = self.head\n",
    "        self.head.prev = self.tail\n",
    "        self.length-=1\n",
    "        return popped\n",
    "    \n",
    "    def remove(self, index):\n",
    "        if index < 0 or index >= self.length:\n",
    "            return None\n",
    "        if self.length == 0 or self.length == 1:\n",
    "            return self.pop_first()\n",
    "        if index == 0:\n",
    "            return self.pop_first()\n",
    "        elif index == self.length-1:\n",
    "            return self.pop()\n",
    "        else:\n",
    "            popped = self.get(index)\n",
    "            popped.prev.next = popped.next\n",
    "            popped.next.prev = popped.prev\n",
    "            popped.next = None\n",
    "            popped.prev = None\n",
    "            self.length -= 1\n",
    "            return popped\n",
    "    \n",
    "    def delete_all(self):\n",
    "        self.head = None\n",
    "        self.tail = None\n",
    "        self.length = 0"
   ]
  },
  {
   "cell_type": "code",
   "execution_count": 222,
   "id": "5a5e1442-ca75-4ed3-8c3f-8d40dd09d1c7",
   "metadata": {},
   "outputs": [
    {
     "name": "stdout",
     "output_type": "stream",
     "text": [
      "0 <-> 10 <-> 20 <-> 30 <-> 40\n"
     ]
    }
   ],
   "source": [
    "new_cdll = CircularDoublyLinkedList()\n",
    "new_cdll.append(10)\n",
    "new_cdll.append(20)\n",
    "new_cdll.append(30)\n",
    "new_cdll.append(40)\n",
    "new_cdll.prepend(0)\n",
    "print(new_cdll)"
   ]
  },
  {
   "cell_type": "code",
   "execution_count": 224,
   "id": "ad86a816-ed02-4bf3-ac53-a802b6671650",
   "metadata": {},
   "outputs": [
    {
     "name": "stdout",
     "output_type": "stream",
     "text": [
      "0\n",
      "10\n",
      "20\n",
      "30\n",
      "40\n"
     ]
    }
   ],
   "source": [
    "new_cdll.traverse()"
   ]
  },
  {
   "cell_type": "code",
   "execution_count": 226,
   "id": "f9ba85a4-17b3-49c1-91e9-ac62e5bf4579",
   "metadata": {},
   "outputs": [
    {
     "name": "stdout",
     "output_type": "stream",
     "text": [
      "40\n",
      "30\n",
      "20\n",
      "10\n",
      "0\n"
     ]
    }
   ],
   "source": [
    "new_cdll.reverse_traversal()"
   ]
  },
  {
   "cell_type": "code",
   "execution_count": 228,
   "id": "27c7f3ae-c8e6-4176-9833-ffd9aab5e397",
   "metadata": {},
   "outputs": [
    {
     "name": "stdout",
     "output_type": "stream",
     "text": [
      "10\n"
     ]
    }
   ],
   "source": [
    "print(new_cdll.get(1))"
   ]
  },
  {
   "cell_type": "markdown",
   "id": "b8103d1e-c8f2-4ad1-9831-3fb2d77ea96f",
   "metadata": {},
   "source": [
    "<hr>\n",
    "\n",
    "## Stack\n",
    "Last in First out (LIFO)"
   ]
  },
  {
   "cell_type": "code",
   "execution_count": 6,
   "id": "d8005c79-0059-471d-8c96-797c5145f18e",
   "metadata": {},
   "outputs": [],
   "source": [
    "# E.g.: Prev page button in a browser"
   ]
  },
  {
   "cell_type": "markdown",
   "id": "cd961bfe-8204-4c66-af3c-0aeeca006305",
   "metadata": {},
   "source": [
    "#### Stack Operations\n",
    "- Create\n",
    "- Push\n",
    "- Pop\n",
    "- Peek\n",
    "- isEmpty\n",
    "- isFull\n",
    "- deleteStack"
   ]
  },
  {
   "cell_type": "code",
   "execution_count": 10,
   "id": "b0bdea4b-13da-4e28-83e0-2e8201440249",
   "metadata": {},
   "outputs": [],
   "source": [
    "#Using List\n",
    "#Easy but problem when grows\n",
    "\n",
    "#using Linked List\n",
    "#Fast but implementation not easy"
   ]
  },
  {
   "cell_type": "code",
   "execution_count": 32,
   "id": "21d30d7e-e533-4527-9e56-2b72392e549b",
   "metadata": {},
   "outputs": [],
   "source": [
    "#Using List\n",
    "\n",
    "class Stack:\n",
    "    def __init__(self):\n",
    "        self.list = []\n",
    "        \n",
    "    #def __str__(self):\n",
    "    #    values = self.list.reverse()\n",
    "    #    values = [str(x) for x in self.list]\n",
    "    #    return '\\n'.join(values)\n",
    "    \n",
    "    def __str__(self):\n",
    "        values = [str(x) for x in reversed(self.list)]\n",
    "        return '\\n'.join(values)\n",
    "    \n",
    "    def isEmpty(self):\n",
    "        if self.list == []:\n",
    "            return True\n",
    "        return False\n",
    "    \n",
    "    def push(self,value):\n",
    "        self.list.append(value)\n",
    "        return \"The element has been successfully inserted\"\n",
    "    \n",
    "    def pop(self):\n",
    "        if self.isEmpty():\n",
    "            return \"There is no element in the stack\"\n",
    "        return self.list.pop(0)\n",
    "    \n",
    "    def peek(self):\n",
    "        if self.isEmpty():\n",
    "            return \"There is no element in the stack\"\n",
    "        return self.list[len(self.list - 1)]\n",
    "    \n",
    "    def delete(self):\n",
    "        self.list = None"
   ]
  },
  {
   "cell_type": "code",
   "execution_count": 36,
   "id": "55222eb0-26a5-4cee-9703-641ceb67b25a",
   "metadata": {},
   "outputs": [
    {
     "data": {
      "text/plain": [
       "'The element has been successfully inserted'"
      ]
     },
     "execution_count": 36,
     "metadata": {},
     "output_type": "execute_result"
    }
   ],
   "source": [
    "custStack = Stack()\n",
    "custStack.push(1)\n",
    "custStack.push(2)\n",
    "custStack.push(3)"
   ]
  },
  {
   "cell_type": "code",
   "execution_count": 22,
   "id": "7041b6c2-00cd-4d10-abb1-dc8d1e6ca198",
   "metadata": {},
   "outputs": [
    {
     "name": "stdout",
     "output_type": "stream",
     "text": [
      "3\n",
      "2\n",
      "1\n"
     ]
    }
   ],
   "source": [
    "print(custStack)"
   ]
  },
  {
   "cell_type": "code",
   "execution_count": 38,
   "id": "b8d557eb-0744-4379-a0d1-49983bcd4320",
   "metadata": {},
   "outputs": [],
   "source": [
    "#Stack with limit\n",
    "\n",
    "class Stack:\n",
    "    def __init__(self, maxSize):\n",
    "        self.maxSize = maxSize\n",
    "        self.list = []\n",
    "        \n",
    "    def __str__(self):\n",
    "        values = self.list.reverse()\n",
    "        values = [str(x) for x in self.list]\n",
    "        return '\\n'.join(values)\n",
    "    \n",
    "    def isEmpty(self):\n",
    "        if self.list == []:\n",
    "            return True\n",
    "        return False\n",
    "    \n",
    "    def isFull(self):\n",
    "        if len(self.list)==self.maxSize:\n",
    "            return True\n",
    "        return False\n",
    "    \n",
    "    def push(self,value):\n",
    "        if self.isFull():\n",
    "            return \"The stack is full\"\n",
    "        self.list.append(value)\n",
    "        return \"The element has been successfully inserted\"\n",
    "    \n",
    "    def pop(self):\n",
    "        if self.isEmpty():\n",
    "            return \"There is no element in the stack\"\n",
    "        return self.list.pop()\n",
    "    \n",
    "    def peek(self):\n",
    "        if self.isEmpty():\n",
    "            return \"There is no element in the stock\"\n",
    "        return self.list[len(self.list)-1]\n",
    "    \n",
    "    def delete(self):\n",
    "        self.list = None"
   ]
  },
  {
   "cell_type": "code",
   "execution_count": 40,
   "id": "0eb37499-3287-4bd8-8015-34deafb0f489",
   "metadata": {},
   "outputs": [],
   "source": [
    "# stack using Linked List\n",
    "\n",
    "class Node:\n",
    "    def __init__(self, value = None):\n",
    "        self.value = value\n",
    "        self.next = None\n",
    "        \n",
    "class LinkedList:\n",
    "    def __init__(self):\n",
    "        self.head = None\n",
    "    \n",
    "    def __iter__(self):\n",
    "        curNode = self.head\n",
    "        while curNode:\n",
    "            yield curNode\n",
    "            curNode = curNode.next"
   ]
  },
  {
   "cell_type": "code",
   "execution_count": 48,
   "id": "2fb0fbf2-f472-475e-b4c8-64c03b125ee0",
   "metadata": {},
   "outputs": [],
   "source": [
    "class Stack:\n",
    "    def __init__(self):\n",
    "        self.LinkedList = LinkedList()\n",
    "        \n",
    "    def __str__(self):\n",
    "        values = [str(x.value) for x in self.LinkedList]\n",
    "        return '\\n'.join(values)\n",
    "    \n",
    "    def isEmpty(self):\n",
    "        if self.LinkedList.head == None:\n",
    "            return True\n",
    "        return False\n",
    "    \n",
    "    def push(self,value):\n",
    "        node = Node(value)\n",
    "        node.next = self.LinkedList.head\n",
    "        self.LinkedList.head = node\n",
    "    \n",
    "    def pop(self):\n",
    "        if self.isEmpty():\n",
    "            return \"There is not any element in the stack\"\n",
    "        nodeValue = self.LinkedList.head.value\n",
    "        self.LinkedList.head = self.LinkedList.head.next\n",
    "        return nodeValue\n",
    "    \n",
    "    def peek(self):\n",
    "        if self.isEmpty():\n",
    "            return \"There is not any element in the stack\"\n",
    "        return self.LinkedList.head.value\n",
    "    \n",
    "    def delete(self):\n",
    "        self.LinkedList.head = None"
   ]
  },
  {
   "cell_type": "code",
   "execution_count": 50,
   "id": "91f5b0be-0f6a-46bd-b9b3-69b4946cec7f",
   "metadata": {},
   "outputs": [],
   "source": [
    "custStack = Stack()\n",
    "custStack.push(1)\n",
    "custStack.push(2)\n",
    "custStack.push(3)"
   ]
  },
  {
   "cell_type": "code",
   "execution_count": 52,
   "id": "065563f6-a608-47c9-a239-ba4e50b4a339",
   "metadata": {},
   "outputs": [
    {
     "name": "stdout",
     "output_type": "stream",
     "text": [
      "3\n",
      "2\n",
      "1\n"
     ]
    }
   ],
   "source": [
    "print(custStack)"
   ]
  },
  {
   "cell_type": "markdown",
   "id": "bd74d511-203f-4444-b0c3-b53a4cd77b82",
   "metadata": {},
   "source": [
    "<hr>\n",
    "\n",
    "## Queue\n",
    "First in First out (FIFO)\n",
    "- Create\n",
    "- Enqueue\n",
    "- Dequeue\n",
    "- Peek\n",
    "- isEmpty\n",
    "- isFull\n",
    "- deleteQueue"
   ]
  },
  {
   "cell_type": "code",
   "execution_count": 12,
   "id": "ed62794d-b4d9-4557-a7f7-742fcc205a0c",
   "metadata": {},
   "outputs": [],
   "source": [
    "# Using List\n",
    "\n",
    "class Queue:\n",
    "    def __init__(self):\n",
    "        self.items = []\n",
    "    \n",
    "    def __str__(self):\n",
    "        values = [str(x) for x in self.items]\n",
    "        return ' '. join(values)\n",
    "    \n",
    "    def isEmpty(self):\n",
    "        if self.items == []:\n",
    "            return True\n",
    "        return False\n",
    "    \n",
    "    def enqueue(self, value):\n",
    "        self.items.append(value)\n",
    "        return \"The element is inserted at the end of Queue\"\n",
    "    \n",
    "    def dequeue(self):\n",
    "        if self.isEmpty():\n",
    "            return \"There is not any element in the Queue\"\n",
    "        else:\n",
    "            return self.items.pop(0)\n",
    "    \n",
    "    def peek(self):\n",
    "        if self.isEmpty():\n",
    "            return \"There is not any element in the Queue\"\n",
    "        else:\n",
    "            return self.items(0)\n",
    "    \n",
    "    def delete(self):\n",
    "        self.items = None"
   ]
  },
  {
   "cell_type": "code",
   "execution_count": 14,
   "id": "e5c27fcb-fc42-4f52-a688-b4ad3a1a0e71",
   "metadata": {},
   "outputs": [
    {
     "name": "stdout",
     "output_type": "stream",
     "text": [
      "1 2 3\n"
     ]
    }
   ],
   "source": [
    "custQueue = Queue()\n",
    "custQueue.enqueue(1)\n",
    "custQueue.enqueue(2)\n",
    "custQueue.enqueue(3)\n",
    "print(custQueue)"
   ]
  },
  {
   "cell_type": "code",
   "execution_count": 24,
   "id": "3bee383e-6a8e-46a9-9494-0b25dc7f09e6",
   "metadata": {},
   "outputs": [],
   "source": [
    "# Using List (with limit) (circular queue)\n",
    "\n",
    "class Queue:\n",
    "    def __init__(self, maxSize):\n",
    "        self.items = maxSize * [None]\n",
    "        self.maxSize = maxSize\n",
    "        self.start = -1\n",
    "        self.top = -1\n",
    "    \n",
    "    def __str__(self):\n",
    "        values = [str(x) for x in self.items]\n",
    "        return ' '. join(values)\n",
    "    \n",
    "    def isFull(self):\n",
    "        if self.top + 1 == self.start:\n",
    "            return True\n",
    "        elif self.start == 0 and self.top + 1 == maxSize:\n",
    "            return True\n",
    "        return False\n",
    "    \n",
    "    def isEmpty(self):\n",
    "        if self.top == -1:\n",
    "            return True\n",
    "        return False\n",
    "    \n",
    "    def enqueue(self, value):\n",
    "        if self.isFull():\n",
    "            return \"The queue is full.\"\n",
    "        else:\n",
    "            if self.top + 1 == self.maxSize:\n",
    "                self.top = 0\n",
    "            else:\n",
    "                self.top += 1\n",
    "                if self.start == -1:\n",
    "                    start = 0\n",
    "            self.items[self.top] = value\n",
    "            return \"The element is inserted at the end of Queue.\"\n",
    "    \n",
    "    def dequeue(self):\n",
    "        if self.isEmpty():\n",
    "            return \"The queue is empty.\"\n",
    "        else:\n",
    "            firstElement = self.items[self.start]\n",
    "            start = self.start\n",
    "            if self.start == self.top:\n",
    "                self.start = -1\n",
    "                self.top = -1\n",
    "            elif self.start +1 == self.maxSize:\n",
    "                self.start = 0\n",
    "            else:\n",
    "                self.start +=1 \n",
    "            self.items[start] = None\n",
    "            return firstElement\n",
    "    \n",
    "    def peek(self):\n",
    "        if self.isEmpty():\n",
    "            return \"There is not any element in the Queue\"\n",
    "        else:\n",
    "            return self.items(self.start)\n",
    "    \n",
    "    def delete(self):\n",
    "        self.items = maxSize*[None]\n",
    "        self.top = -1\n",
    "        self.start = -1"
   ]
  },
  {
   "cell_type": "code",
   "execution_count": 75,
   "id": "1975bfbd-0f36-4824-ad82-af1b0ba62ee0",
   "metadata": {},
   "outputs": [],
   "source": [
    "#Using Linked List\n",
    "\n",
    "class Node:\n",
    "    def __init__(self, value = None):\n",
    "        self.value = value\n",
    "        self.next = None\n",
    "    \n",
    "    def __str__(self):\n",
    "        return str(self.value)\n",
    "        \n",
    "class LinkedList:\n",
    "    def __init__(self):\n",
    "        self.head = None\n",
    "        self.tail = None\n",
    "    \n",
    "    def __iter__(self):\n",
    "        curNode = self.head\n",
    "        while curNode:\n",
    "            yield curNode\n",
    "            curNode = curNode.next"
   ]
  },
  {
   "cell_type": "code",
   "execution_count": 80,
   "id": "e2921918-1f5e-4e5e-8e63-8a67c297795f",
   "metadata": {},
   "outputs": [],
   "source": [
    "class Queue:\n",
    "    def __init__(self):\n",
    "        self.linkedlist = LinkedList()\n",
    "        \n",
    "    def __str__(self):\n",
    "        values = [str(x) for x in self.linkedlist]\n",
    "        return ' '.join(values)\n",
    "    \n",
    "    def enqueue(self, value):\n",
    "        newNode = Node(value)\n",
    "        if self.linkedlist.head == None:\n",
    "            self.linkedlist.head = newNode\n",
    "            self.linkedlist.tail = newNode\n",
    "        else:\n",
    "            self.linkedlist.tail.next = newNode\n",
    "            self.linkedlist.tail = newNode\n",
    "    \n",
    "    def isEmpty(self):\n",
    "        if self.linkedlist.head == None:\n",
    "            return True\n",
    "        return False\n",
    "    \n",
    "    def dequeue(self):\n",
    "        if self.isEmpty():\n",
    "            return \"There is not any node in the Queue\"\n",
    "        else:\n",
    "            temp = self.linkedlist.head\n",
    "            if self.linkedlist.head == self.linkedlist.tail:\n",
    "                self.linkedlist.head = None\n",
    "                self.linkedlist.tail = None\n",
    "            else:\n",
    "                self.linkedlist.head = self.linkedlist.head.next\n",
    "            return temp\n",
    "        \n",
    "    def peek(self):\n",
    "        if self.isEmpty():\n",
    "            return \"There is not any node in the Queue.\"\n",
    "        else:\n",
    "            return self.linkedlist.head\n",
    "    \n",
    "    def delete(self):\n",
    "        self.linkedlist.head = None\n",
    "        self.linkedlist.tail = None"
   ]
  },
  {
   "cell_type": "code",
   "execution_count": 82,
   "id": "2659d8d6-3f3d-4710-aabc-54b4c00d1620",
   "metadata": {},
   "outputs": [
    {
     "name": "stdout",
     "output_type": "stream",
     "text": [
      "deque([], maxlen=3)\n"
     ]
    }
   ],
   "source": [
    "#Queue using Queue modules\n",
    "#Using collections.deque\n",
    "\n",
    "from collections import deque\n",
    "\n",
    "custQueue = deque(maxlen=3)\n",
    "print(custQueue)"
   ]
  },
  {
   "cell_type": "code",
   "execution_count": 50,
   "id": "9aec734a-3b5d-4a79-b4c5-ab5ef6712a10",
   "metadata": {},
   "outputs": [],
   "source": [
    "custQueue.append(1)\n",
    "custQueue.append(2)\n",
    "custQueue.append(3)"
   ]
  },
  {
   "cell_type": "code",
   "execution_count": 51,
   "id": "6f03035f-2e88-45a2-94f8-6e02d5c91dc4",
   "metadata": {},
   "outputs": [
    {
     "name": "stdout",
     "output_type": "stream",
     "text": [
      "deque([1, 2, 3], maxlen=3)\n"
     ]
    }
   ],
   "source": [
    "print(custQueue)"
   ]
  },
  {
   "cell_type": "code",
   "execution_count": 54,
   "id": "1ab41e75-4045-4a02-bd41-f0a135c559e7",
   "metadata": {},
   "outputs": [],
   "source": [
    "custQueue.append(4)\n",
    "custQueue.append(5)"
   ]
  },
  {
   "cell_type": "code",
   "execution_count": 60,
   "id": "4dc51e40-3f33-4dc0-aded-2ca196eedd25",
   "metadata": {},
   "outputs": [
    {
     "name": "stdout",
     "output_type": "stream",
     "text": [
      "deque([4, 5], maxlen=3)\n"
     ]
    }
   ],
   "source": [
    "print(custQueue)"
   ]
  },
  {
   "cell_type": "code",
   "execution_count": 58,
   "id": "988da60f-5cb4-4d87-a869-c72d76291a22",
   "metadata": {},
   "outputs": [
    {
     "name": "stdout",
     "output_type": "stream",
     "text": [
      "3\n"
     ]
    }
   ],
   "source": [
    "print(custQueue.popleft())"
   ]
  },
  {
   "cell_type": "code",
   "execution_count": 62,
   "id": "205e8314-5ca6-4ad0-aed7-465af7b631a4",
   "metadata": {},
   "outputs": [
    {
     "name": "stdout",
     "output_type": "stream",
     "text": [
      "None\n"
     ]
    }
   ],
   "source": [
    "print(custQueue.clear())"
   ]
  },
  {
   "cell_type": "code",
   "execution_count": 64,
   "id": "22eccc70-cdd3-4c8b-8f1c-53fa90b718d9",
   "metadata": {},
   "outputs": [
    {
     "name": "stdout",
     "output_type": "stream",
     "text": [
      "deque([], maxlen=3)\n"
     ]
    }
   ],
   "source": [
    "print(custQueue)"
   ]
  },
  {
   "cell_type": "code",
   "execution_count": 90,
   "id": "84607281-9c5f-430e-9d59-25590f47e514",
   "metadata": {},
   "outputs": [],
   "source": [
    "# Queue module to create queue (FIFO)\n",
    "import queue as q"
   ]
  },
  {
   "cell_type": "code",
   "execution_count": 70,
   "id": "9eea2c7b-0d30-4d2e-ac97-86bf54d3e612",
   "metadata": {},
   "outputs": [],
   "source": [
    "custQ = q.Queue(maxsize = 3)"
   ]
  },
  {
   "cell_type": "code",
   "execution_count": 72,
   "id": "8faa2f6e-4e71-4733-be25-d7c4e3073223",
   "metadata": {},
   "outputs": [
    {
     "name": "stdout",
     "output_type": "stream",
     "text": [
      "0\n"
     ]
    }
   ],
   "source": [
    "print(custQ.qsize())"
   ]
  },
  {
   "cell_type": "code",
   "execution_count": 74,
   "id": "a921ac12-75e6-4320-a61b-8ab1d57ff4c3",
   "metadata": {},
   "outputs": [
    {
     "name": "stdout",
     "output_type": "stream",
     "text": [
      "3\n"
     ]
    }
   ],
   "source": [
    "custQ.put(1)\n",
    "custQ.put(2)\n",
    "custQ.put(3)\n",
    "print(custQ.qsize())"
   ]
  },
  {
   "cell_type": "code",
   "execution_count": 78,
   "id": "94dd0b1f-ec1d-4268-87ea-fb2f432772ca",
   "metadata": {},
   "outputs": [
    {
     "data": {
      "text/plain": [
       "False"
      ]
     },
     "execution_count": 78,
     "metadata": {},
     "output_type": "execute_result"
    }
   ],
   "source": [
    "custQ.empty()"
   ]
  },
  {
   "cell_type": "code",
   "execution_count": 80,
   "id": "d6bfdccf-6ac4-41f8-8a3c-87e64de705bc",
   "metadata": {},
   "outputs": [
    {
     "data": {
      "text/plain": [
       "True"
      ]
     },
     "execution_count": 80,
     "metadata": {},
     "output_type": "execute_result"
    }
   ],
   "source": [
    "custQ.full()"
   ]
  },
  {
   "cell_type": "code",
   "execution_count": 84,
   "id": "b067cfed-4902-475b-a87e-fbc041038b66",
   "metadata": {},
   "outputs": [
    {
     "name": "stdout",
     "output_type": "stream",
     "text": [
      "2\n"
     ]
    }
   ],
   "source": [
    "print(custQ.get())"
   ]
  },
  {
   "cell_type": "code",
   "execution_count": 88,
   "id": "8df14371-35b0-4c8e-8091-98f412b13476",
   "metadata": {},
   "outputs": [
    {
     "name": "stdout",
     "output_type": "stream",
     "text": [
      "1\n"
     ]
    }
   ],
   "source": [
    "print(custQ.qsize())"
   ]
  },
  {
   "cell_type": "code",
   "execution_count": 94,
   "id": "0e278407-950b-4c9e-8d79-c93b57a61cbb",
   "metadata": {},
   "outputs": [],
   "source": [
    "# Multiprocessing module to create queue\n",
    "from multiprocessing import Queue"
   ]
  },
  {
   "cell_type": "code",
   "execution_count": 96,
   "id": "0567cac4-0c97-4300-9cbe-157cd5680e13",
   "metadata": {},
   "outputs": [],
   "source": [
    "custq = Queue(maxsize = 3)"
   ]
  },
  {
   "cell_type": "code",
   "execution_count": 98,
   "id": "a928d435-88c1-44f4-8f62-3a782a8bc837",
   "metadata": {},
   "outputs": [],
   "source": [
    "custq.put(1)"
   ]
  },
  {
   "cell_type": "code",
   "execution_count": 100,
   "id": "b4ec5af2-7335-4a6a-af49-ffd0bd36a5cf",
   "metadata": {},
   "outputs": [
    {
     "data": {
      "text/plain": [
       "1"
      ]
     },
     "execution_count": 100,
     "metadata": {},
     "output_type": "execute_result"
    }
   ],
   "source": [
    "custq.get()"
   ]
  },
  {
   "cell_type": "markdown",
   "id": "cfcc31cd-d6a0-46d6-8d89-fdff3279f6af",
   "metadata": {},
   "source": [
    "<hr>\n",
    "\n",
    "## Recursion"
   ]
  },
  {
   "cell_type": "code",
   "execution_count": 111,
   "id": "6b7027d7-587a-473b-b5c6-c7703445856c",
   "metadata": {},
   "outputs": [],
   "source": [
    "#Factorial\n",
    "\n",
    "def factorial(n):\n",
    "    assert n >= 0 and int(n)==n, 'The number must be a positive integer only'\n",
    "    if n in [0,1]:\n",
    "        return 1\n",
    "    else:\n",
    "        return n*factorial(n-1)"
   ]
  },
  {
   "cell_type": "code",
   "execution_count": 125,
   "id": "a6fb6e33-804b-42bd-8d1a-8ee372e345c4",
   "metadata": {},
   "outputs": [
    {
     "data": {
      "text/plain": [
       "720"
      ]
     },
     "execution_count": 125,
     "metadata": {},
     "output_type": "execute_result"
    }
   ],
   "source": [
    "factorial(6)"
   ]
  },
  {
   "cell_type": "code",
   "execution_count": 135,
   "id": "509ba93c-be3f-47b4-b1eb-aadcc8afd5bb",
   "metadata": {},
   "outputs": [],
   "source": [
    "#Fibbonacci\n",
    "\n",
    "def fibonacci(n):\n",
    "    assert n>=0 and int(n)==n, 'The number must be a positive integer only'\n",
    "    if n in [0,1]:\n",
    "        return n\n",
    "    else:\n",
    "        return fibonacci(n-1) + fibonacci(n-2)"
   ]
  },
  {
   "cell_type": "code",
   "execution_count": 153,
   "id": "462b06f4-4c1b-477c-be9b-af418e4ec82b",
   "metadata": {},
   "outputs": [
    {
     "data": {
      "text/plain": [
       "24157817"
      ]
     },
     "execution_count": 153,
     "metadata": {},
     "output_type": "execute_result"
    }
   ],
   "source": [
    "fibonacci(37)"
   ]
  },
  {
   "cell_type": "code",
   "execution_count": 155,
   "id": "64657c5e-b38e-4ee5-bbaa-3f6e473defa2",
   "metadata": {},
   "outputs": [],
   "source": [
    "#Find max number in an array using recursion\n",
    "\n",
    "def findMaxNumRec(sampleArray, n):\n",
    "    if n==1:\n",
    "        return sampleArray[0]\n",
    "    else:\n",
    "        return max(sampleArray[n-1], findMaxNumRec(sampleArray, n-1))"
   ]
  },
  {
   "cell_type": "markdown",
   "id": "fbb81665-2fc4-4f5d-b590-a821d232ae78",
   "metadata": {},
   "source": [
    "<hr>\n",
    "\n",
    "## Trees"
   ]
  },
  {
   "cell_type": "code",
   "execution_count": 2,
   "id": "cb938c28-255e-4aa9-855d-b223f51ff5ed",
   "metadata": {},
   "outputs": [],
   "source": [
    "class TreeNode:\n",
    "    def __init__(self, data, children = []):\n",
    "        self.data = data\n",
    "        self.children = children\n",
    "    \n",
    "    def __str__(self, level = 0):\n",
    "        ret = \" \" * level + str(self.data) + \"\\n\"\n",
    "        for child in self.children:\n",
    "            ret += child.__str__(level+1)\n",
    "        return ret\n",
    "    \n",
    "    def addChild(self, TreeNode):\n",
    "        self.children.append(TreeNode)"
   ]
  },
  {
   "cell_type": "code",
   "execution_count": 8,
   "id": "ed181679-6456-4448-8c68-414f0f7a7efe",
   "metadata": {},
   "outputs": [
    {
     "name": "stdout",
     "output_type": "stream",
     "text": [
      "Drinks\n",
      " Cold\n",
      "  Cola\n",
      "  Fanta\n",
      " Hot\n",
      "  Tea\n",
      "  Coffee\n",
      "\n"
     ]
    }
   ],
   "source": [
    "tree = TreeNode('Drinks', [])\n",
    "cold = TreeNode('Cold', [])\n",
    "hot = TreeNode('Hot', [])\n",
    "tree.addChild(cold)\n",
    "tree.addChild(hot)\n",
    "tea = TreeNode('Tea',[])\n",
    "coffee = TreeNode('Coffee',[])\n",
    "cola = TreeNode('Cola', [])\n",
    "fanta = TreeNode('Fanta',[])\n",
    "cold.addChild(cola)\n",
    "cold.addChild(fanta)\n",
    "hot.addChild(tea)\n",
    "hot.addChild(coffee)\n",
    "print(tree)"
   ]
  },
  {
   "cell_type": "markdown",
   "id": "0a05eb50-341b-480c-85b1-f4b3e35b33f9",
   "metadata": {},
   "source": [
    "<hr>\n",
    "\n",
    "### Binary Tree\n",
    "\n",
    "- At most two children per node\n",
    "- This is a family of Data Strucutres\n",
    "- A pre-req for more advanced trees"
   ]
  },
  {
   "cell_type": "markdown",
   "id": "3bd2d60c-466f-4822-ba9f-ca255b2fe8e4",
   "metadata": {},
   "source": [
    "Full Binary Tree:\n",
    "- All nodes have either 0 or 2 children\n",
    "\n",
    "Perfect Binary Tree:\n",
    "- All nodes have two children and all leaf nodes are at the same level\n",
    "\n",
    "Complete Binary Tree:\n",
    "- All levels are completely filled except last.\n",
    "- But all leaf nodes are as to the left as possible.\n",
    "\n",
    "Balanced Binary Tree:\n",
    "- All leaf nodes are at the same depth from the root node."
   ]
  },
  {
   "cell_type": "markdown",
   "id": "e29ae384-3d25-4e80-9874-1a09958d9163",
   "metadata": {},
   "source": [
    "<hr>\n",
    "\n",
    "Two ways to represent binary trees in python:\n",
    "- Linked Lists\n",
    "- Python List (array)"
   ]
  },
  {
   "cell_type": "code",
   "execution_count": 5,
   "id": "201718b9-79eb-4526-b192-07737aee32ad",
   "metadata": {},
   "outputs": [],
   "source": [
    "# USING LINKED LIST\n",
    "class TreeNode:\n",
    "    def __init__(self, data):\n",
    "        self.data = data\n",
    "        self.leftChild = None\n",
    "        self.rightChild = None"
   ]
  },
  {
   "cell_type": "markdown",
   "id": "a16d73c8-1579-42fb-988e-ccc21ba11b43",
   "metadata": {},
   "source": [
    "Types of Traversal:\n",
    "- Depth First Search:\n",
    "    - Preorder\n",
    "    - Inorder\n",
    "    - Postorder\n",
    "- Breadth First Search:\n",
    "    - Level order"
   ]
  },
  {
   "cell_type": "code",
   "execution_count": 7,
   "id": "c5a2385c-28ad-4ecc-8f54-74a7f85263d7",
   "metadata": {},
   "outputs": [],
   "source": [
    "def preOrderTraversal(rootNode):\n",
    "    if not rootNode:\n",
    "        return\n",
    "    print(rootNode.data)\n",
    "    preOrderTraversal(rootNode.leftChild)\n",
    "    preOrderTraversal(rootNode.rightChild)"
   ]
  },
  {
   "cell_type": "code",
   "execution_count": 131,
   "id": "cf9e3e5e-777c-4957-8bf8-2db6cd1549d2",
   "metadata": {},
   "outputs": [],
   "source": [
    "newBT = TreeNode(\"Drinks\")\n",
    "leftChild = TreeNode(\"Hot\")\n",
    "rightChild = TreeNode(\"Cold\")\n",
    "tea = TreeNode(\"Tea\")\n",
    "coffee = TreeNode(\"Coffee\")\n",
    "leftChild.leftChild = tea\n",
    "leftChild.rightChild = coffee\n",
    "newBT.leftChild = leftChild\n",
    "newBT.rightChild = rightChild"
   ]
  },
  {
   "cell_type": "code",
   "execution_count": 34,
   "id": "da78b865-a139-4136-9f79-fec3b5ff8842",
   "metadata": {},
   "outputs": [
    {
     "name": "stdout",
     "output_type": "stream",
     "text": [
      "Drinks\n",
      "Hot\n",
      "Tea\n",
      "Coffee\n",
      "Cold\n"
     ]
    }
   ],
   "source": [
    "preOrderTraversal(newBT)"
   ]
  },
  {
   "cell_type": "code",
   "execution_count": 36,
   "id": "e21f0148-2bf4-4745-ad99-8724e02745a8",
   "metadata": {},
   "outputs": [],
   "source": [
    "def inOrderTraversal(rootNode):\n",
    "    if not rootNode:\n",
    "        return\n",
    "    inOrderTraversal(rootNode.leftChild)\n",
    "    print(rootNode.data)\n",
    "    inOrderTraversal(rootNode.rightChild)"
   ]
  },
  {
   "cell_type": "code",
   "execution_count": 38,
   "id": "d4cbab22-1676-40ef-91b7-a55058421ee4",
   "metadata": {},
   "outputs": [
    {
     "name": "stdout",
     "output_type": "stream",
     "text": [
      "Tea\n",
      "Hot\n",
      "Coffee\n",
      "Drinks\n",
      "Cold\n"
     ]
    }
   ],
   "source": [
    "inOrderTraversal(newBT)"
   ]
  },
  {
   "cell_type": "code",
   "execution_count": 40,
   "id": "f5393380-4d22-420e-9e67-79941c4c3f62",
   "metadata": {},
   "outputs": [],
   "source": [
    "def postOrderTraversal(rootNode):\n",
    "    if not rootNode:\n",
    "        return\n",
    "    postOrderTraversal(rootNode.leftChild)\n",
    "    postOrderTraversal(rootNode.rightChild)\n",
    "    print(rootNode.data)"
   ]
  },
  {
   "cell_type": "code",
   "execution_count": 42,
   "id": "64d8dca2-3ca4-41ff-8359-81d48e6ca14c",
   "metadata": {},
   "outputs": [
    {
     "name": "stdout",
     "output_type": "stream",
     "text": [
      "Tea\n",
      "Coffee\n",
      "Hot\n",
      "Cold\n",
      "Drinks\n"
     ]
    }
   ],
   "source": [
    "postOrderTraversal(newBT)"
   ]
  },
  {
   "cell_type": "code",
   "execution_count": 83,
   "id": "ff31b17d-4fbc-443c-b4b5-1d92aed61493",
   "metadata": {},
   "outputs": [],
   "source": [
    "def levelOrderTraversal(rootNode):\n",
    "    if not rootNode:\n",
    "        return\n",
    "    # We'll be using queue data structure for this. I have it in the same file so I don't need to import it.\n",
    "    custQueue = Queue()\n",
    "    custQueue.enqueue(rootNode)\n",
    "    while not(custQueue.isEmpty()):\n",
    "        root = custQueue.dequeue()\n",
    "        print (root.value.data)\n",
    "        if(root.value.leftChild is not None):\n",
    "            custQueue.enqueue(root.value.leftChild)\n",
    "        if(root.value.rightChild is not None):\n",
    "            custQueue.enqueue(root.value.rightChild)"
   ]
  },
  {
   "cell_type": "code",
   "execution_count": 85,
   "id": "9bfcbd60-622e-4616-8f7f-95a3d4e29e38",
   "metadata": {},
   "outputs": [
    {
     "name": "stdout",
     "output_type": "stream",
     "text": [
      "Drinks\n",
      "Hot\n",
      "Cold\n",
      "Tea\n",
      "Coffee\n"
     ]
    }
   ],
   "source": [
    "levelOrderTraversal(newBT)"
   ]
  },
  {
   "cell_type": "code",
   "execution_count": 87,
   "id": "eafad324-42e6-4170-943b-84850bcfe6c7",
   "metadata": {},
   "outputs": [],
   "source": [
    "# Searching for a node in Binary Tree\n",
    "# Which Traversal to use for this.\n",
    "# Queue, as Queue is better than Stack.\n",
    "# So, we will always use level order traversal."
   ]
  },
  {
   "cell_type": "code",
   "execution_count": 93,
   "id": "15a712c3-0fb8-4b03-888b-a2961d0877e3",
   "metadata": {},
   "outputs": [],
   "source": [
    "def searchBT(rootNode, nodeValue):\n",
    "    if not rootNode:\n",
    "        return \"The BT does not exist\"\n",
    "    custQueue = Queue()\n",
    "    custQueue.enqueue(rootNode)\n",
    "    while not(custQueue.isEmpty()):\n",
    "        root = custQueue.dequeue()\n",
    "        if root.value.data == nodeValue:\n",
    "            return \"Success\"\n",
    "        if (root.value.leftChild is not None):\n",
    "            custQueue.enqueue(root.value.leftChild)\n",
    "        if (root.value.rightChild is not None):\n",
    "            custQueue.enqueue(root.value.rightChild)\n",
    "    return \"Not Found\""
   ]
  },
  {
   "cell_type": "code",
   "execution_count": 95,
   "id": "a1cf810d-f8a5-418e-94c9-a1e8b1d54d0a",
   "metadata": {},
   "outputs": [
    {
     "data": {
      "text/plain": [
       "'Success'"
      ]
     },
     "execution_count": 95,
     "metadata": {},
     "output_type": "execute_result"
    }
   ],
   "source": [
    "searchBT(newBT, \"Tea\")"
   ]
  },
  {
   "cell_type": "code",
   "execution_count": 97,
   "id": "b98ae71b-97dd-4a27-be39-13ca21461b93",
   "metadata": {},
   "outputs": [],
   "source": [
    "# Insert a node in a Binary Tree\n",
    "\n",
    "def insertNodeBT(rootNode, newNode):\n",
    "    if not rootNode:\n",
    "        rootNode = newNode\n",
    "    custQueue = Queue()\n",
    "    custQueue.enqueue(rootNode)\n",
    "    while not(custQueue.isEmpty()):\n",
    "        root = custQueue.dequeue()\n",
    "        if root.value.leftChild is not None:\n",
    "            custQueue.enqueue(root.value.leftChild)\n",
    "        else:\n",
    "            root.value.leftChild = newNode\n",
    "            return \"Successfully inserted\"\n",
    "        \n",
    "        if root.value.rightChild is not None:\n",
    "            custQueue.enqueue(root.value.rightChild)\n",
    "        else:\n",
    "            root.value.rightChild = newNode\n",
    "            return \"Successfully inserted\""
   ]
  },
  {
   "cell_type": "code",
   "execution_count": 99,
   "id": "e4320a1a-1a5f-4a78-b090-138dcbed000f",
   "metadata": {},
   "outputs": [
    {
     "data": {
      "text/plain": [
       "'Successfully inserted'"
      ]
     },
     "execution_count": 99,
     "metadata": {},
     "output_type": "execute_result"
    }
   ],
   "source": [
    "newNode = TreeNode(\"Cola\")\n",
    "\n",
    "insertNodeBT(newBT, newNode)"
   ]
  },
  {
   "cell_type": "code",
   "execution_count": 101,
   "id": "7954110b-8713-42db-80fb-c1ea3d638f08",
   "metadata": {},
   "outputs": [
    {
     "name": "stdout",
     "output_type": "stream",
     "text": [
      "Drinks\n",
      "Hot\n",
      "Cold\n",
      "Tea\n",
      "Coffee\n",
      "Cola\n"
     ]
    }
   ],
   "source": [
    "levelOrderTraversal(newBT)"
   ]
  },
  {
   "cell_type": "code",
   "execution_count": 103,
   "id": "c0e8a518-40b7-4c0a-9cc6-08fb2ddb6df1",
   "metadata": {},
   "outputs": [],
   "source": [
    "def getDeepestNode(rootNode):\n",
    "    if not rootNode:\n",
    "        return\n",
    "    else:\n",
    "        custQueue = Queue()\n",
    "        custQueue.enqueue(rootNode)\n",
    "        while not(custQueue.isEmpty()):\n",
    "            root = custQueue.dequeue()\n",
    "            \n",
    "            if (root.value.leftChild is not None):\n",
    "                custQueue.enqueue(root.value.leftChild)\n",
    "            \n",
    "            if (root.value.rightChild is not None):\n",
    "                custQueue.enqueue(root.value.rightChild)\n",
    "        \n",
    "        deepestNode = root.value\n",
    "        return deepestNode"
   ]
  },
  {
   "cell_type": "code",
   "execution_count": 111,
   "id": "9a1585d0-aeae-44e1-af18-1303419d340c",
   "metadata": {},
   "outputs": [
    {
     "name": "stdout",
     "output_type": "stream",
     "text": [
      "Cola\n"
     ]
    }
   ],
   "source": [
    "deepestNode = getDeepestNode(newBT)\n",
    "print(deepestNode.data)"
   ]
  },
  {
   "cell_type": "code",
   "execution_count": 117,
   "id": "7850894a-a879-41ed-8413-aa86e3c427eb",
   "metadata": {},
   "outputs": [],
   "source": [
    "def deleteDeepestNode(rootNode, dNode):\n",
    "    if not rootNode:\n",
    "        return\n",
    "    else:\n",
    "        custQueue = Queue()\n",
    "        custQueue.enqueue(rootNode)\n",
    "        while not(custQueue.isEmpty()):\n",
    "            root = custQueue.dequeue()\n",
    "            if root.value is dNode:\n",
    "                root.value = None\n",
    "                return\n",
    "            if root.value.rightChild:\n",
    "                if root.value.rightChild is dNode:\n",
    "                    root.value.rightChild = None\n",
    "                    return\n",
    "                else:\n",
    "                    custQueue.enqueue(root.value.rightChild)\n",
    "            if root.value.leftChild:\n",
    "                if root.value.leftChild is dNode:\n",
    "                    root.value.leftChild = None\n",
    "                    return\n",
    "                else:\n",
    "                    custQueue.enqueue(root.value.leftChild)  "
   ]
  },
  {
   "cell_type": "code",
   "execution_count": 119,
   "id": "44db7601-c656-4777-af4a-49f8c109c1bb",
   "metadata": {},
   "outputs": [
    {
     "name": "stdout",
     "output_type": "stream",
     "text": [
      "Drinks\n",
      "Hot\n",
      "Cold\n",
      "Tea\n",
      "Coffee\n"
     ]
    }
   ],
   "source": [
    "newNode = getDeepestNode(newBT)\n",
    "deleteDeepestNode(newBT, newNode)\n",
    "levelOrderTraversal(newBT)"
   ]
  },
  {
   "cell_type": "code",
   "execution_count": 127,
   "id": "c46748e3-b41a-4d6d-ab87-80d727d75cde",
   "metadata": {},
   "outputs": [],
   "source": [
    "def deleteNodeBT(rootNode, node):\n",
    "    if not rootNode:\n",
    "        return \"The BT does not exist.\"\n",
    "    \n",
    "    custQueue = Queue()\n",
    "    custQueue.enqueue(rootNode)\n",
    "    while not(custQueue.isEmpty()):\n",
    "        root = custQueue.dequeue()\n",
    "        if root.value.data == node:\n",
    "            dNode = getDeepestNode(rootNode)\n",
    "            root.value.data = dNode.data\n",
    "            deleteDeepestNode(rootNode, dNode)\n",
    "            return \"The node has been successfully deleted.\"\n",
    "        if(root.value.leftChild is not None):\n",
    "            custQueue.enqueue(root.value.leftChild)\n",
    "        if(root.value.rightChild is not None):\n",
    "            custQueue.enqueue(root.value.rightChild)\n",
    "    return \"Failed to delete\""
   ]
  },
  {
   "cell_type": "code",
   "execution_count": 129,
   "id": "78500473-e1e1-4e13-8299-3bb6119c971c",
   "metadata": {},
   "outputs": [
    {
     "name": "stdout",
     "output_type": "stream",
     "text": [
      "Drinks\n",
      "Hot\n",
      "Cold\n",
      "Coffee\n"
     ]
    }
   ],
   "source": [
    "deleteNodeBT(newBT,\"Tea\")\n",
    "levelOrderTraversal(newBT)"
   ]
  },
  {
   "cell_type": "code",
   "execution_count": 133,
   "id": "07f91e93-de3c-41cc-b8fa-1d93d1e7c68c",
   "metadata": {},
   "outputs": [],
   "source": [
    "#delete entire BT\n",
    "\n",
    "def deleteBT(rootNode):\n",
    "    rootNode.data = None\n",
    "    rootNode.leftChild = None\n",
    "    rootNode.rightChild = None\n",
    "    \n",
    "    return \"The Binary Tree has been successfully deleted.\""
   ]
  },
  {
   "cell_type": "code",
   "execution_count": 135,
   "id": "8ac375ff-242c-44fd-8699-dcc1efc5d158",
   "metadata": {},
   "outputs": [
    {
     "name": "stdout",
     "output_type": "stream",
     "text": [
      "None\n"
     ]
    }
   ],
   "source": [
    "deleteBT(newBT)\n",
    "levelOrderTraversal(newBT)"
   ]
  },
  {
   "cell_type": "code",
   "execution_count": 137,
   "id": "c8699a5f-8b59-4030-b431-b215ee4dd6a4",
   "metadata": {},
   "outputs": [],
   "source": [
    "#BT using Python List\n",
    "# 0 index always empty\n",
    "# Left Child = 2x, Right Child = 2x+1"
   ]
  },
  {
   "cell_type": "code",
   "execution_count": 256,
   "id": "937f7d72-e489-40cf-9dfe-f4a167afa9f1",
   "metadata": {},
   "outputs": [],
   "source": [
    "class BinaryTree:\n",
    "    def __init__(self, size):\n",
    "        self.customList = size * [None]\n",
    "        self.lastUsedIndex = 0\n",
    "        self.maxSize = size\n",
    "    \n",
    "    def insertNode(self, value):\n",
    "        if self.lastUsedIndex + 1 == self.maxSize:\n",
    "            return \"The Binary Tree is full\"\n",
    "        self.customList[self.lastUsedIndex+1]=value\n",
    "        self.lastUsedIndex+=1\n",
    "        return \"The value has been successfully inserted\"\n",
    "    \n",
    "    def searchNode(self, nodeValue):\n",
    "        for i in range(len(self.customList)):\n",
    "            if self.customList[i] == nodeValue:\n",
    "                return \"Success\"\n",
    "        return \"Not Found\"\n",
    "    \n",
    "    def preOrderTraversal(self, index):\n",
    "        if index > self.lastUsedIndex:\n",
    "            return\n",
    "        print(self.customList[index])\n",
    "        self.preOrderTraversal(index*2)\n",
    "        self.preOrderTraversal(index*2 +1)\n",
    "        \n",
    "    def inOrderTraversal(self,index):\n",
    "        if index > self.lastUsedIndex:\n",
    "            return\n",
    "        self.inOrderTraversal(index*2)\n",
    "        print(self.customList[index])\n",
    "        self.inOrderTraversal(index*2 +1)\n",
    "    \n",
    "    def postOrderTraversal(self,index):\n",
    "        if index > self.lastUsedIndex:\n",
    "            return\n",
    "        self.postOrderTraversal(index*2)\n",
    "        self.postOrderTraversal(index*2+1)\n",
    "        print(self.customList[index])\n",
    "        \n",
    "    def levelOrderTraversal(self, index):\n",
    "        for i in range(index,self.lastUsedIndex+1):\n",
    "            print(self.customList[i])\n",
    "            \n",
    "    def deleteNode(self, value):\n",
    "        if self.lastUsedIndex == 0:\n",
    "            return \"There is no node to delete\"\n",
    "        for i in range(1,self.lastUsedIndex+1):\n",
    "            if self.customList[i]==value:\n",
    "                self.customList[i]=self.customList[self.lastUsedIndex]\n",
    "                self.customList[self.lastUsedIndex]=None\n",
    "                self.lastUsedIndex -= 1\n",
    "                return \"The node has been successfully deleted\"\n",
    "    \n",
    "    def deleteBT(self):\n",
    "        self.customList = None\n",
    "        return \"The BT has been successfully deleted\""
   ]
  },
  {
   "cell_type": "code",
   "execution_count": 258,
   "id": "d7e515db-5881-4a27-86ce-2f31de93239f",
   "metadata": {},
   "outputs": [],
   "source": [
    "newBT = BinaryTree(8)"
   ]
  },
  {
   "cell_type": "code",
   "execution_count": 250,
   "id": "80c51161-54c7-45dd-b390-60cffc5e5f0a",
   "metadata": {},
   "outputs": [
    {
     "name": "stdout",
     "output_type": "stream",
     "text": [
      "The value has been successfully inserted\n",
      "The value has been successfully inserted\n",
      "The value has been successfully inserted\n",
      "The value has been successfully inserted\n",
      "The value has been successfully inserted\n"
     ]
    }
   ],
   "source": [
    "print(newBT.insertNode(\"Drinks\"))\n",
    "print(newBT.insertNode(\"Hot\"))\n",
    "print(newBT.insertNode(\"Cold\"))\n",
    "print(newBT.insertNode(\"Tea\"))\n",
    "print(newBT.insertNode(\"Coffee\"))"
   ]
  },
  {
   "cell_type": "code",
   "execution_count": 200,
   "id": "fb11dbc0-7edc-494e-a0b2-3cb8ae529896",
   "metadata": {},
   "outputs": [
    {
     "name": "stdout",
     "output_type": "stream",
     "text": [
      "Not Found\n"
     ]
    }
   ],
   "source": [
    "print(newBT.searchNode(\"warm\"))"
   ]
  },
  {
   "cell_type": "code",
   "execution_count": 202,
   "id": "352b2d04-7767-4c57-affb-496bc844b2b2",
   "metadata": {},
   "outputs": [
    {
     "name": "stdout",
     "output_type": "stream",
     "text": [
      "Drinks\n",
      "Hot\n",
      "Tea\n",
      "Coffee\n",
      "Cold\n"
     ]
    }
   ],
   "source": [
    "newBT.preOrderTraversal(1)"
   ]
  },
  {
   "cell_type": "code",
   "execution_count": 204,
   "id": "b34ee25b-43ef-41e0-bd16-d92447775552",
   "metadata": {},
   "outputs": [
    {
     "name": "stdout",
     "output_type": "stream",
     "text": [
      "Tea\n",
      "Hot\n",
      "Coffee\n",
      "Drinks\n",
      "Cold\n"
     ]
    }
   ],
   "source": [
    "newBT.inOrderTraversal(1)"
   ]
  },
  {
   "cell_type": "code",
   "execution_count": 212,
   "id": "cead7e8c-373f-4add-99cf-8d426c818c0b",
   "metadata": {},
   "outputs": [
    {
     "name": "stdout",
     "output_type": "stream",
     "text": [
      "Tea\n",
      "Coffee\n",
      "Hot\n",
      "Cold\n",
      "Drinks\n"
     ]
    }
   ],
   "source": [
    "newBT.postOrderTraversal(1)"
   ]
  },
  {
   "cell_type": "code",
   "execution_count": 254,
   "id": "569fdd66-ba97-458d-be74-674c893ca5d2",
   "metadata": {},
   "outputs": [
    {
     "name": "stdout",
     "output_type": "stream",
     "text": [
      "Drinks\n",
      "Hot\n",
      "Cold\n",
      "Coffee\n"
     ]
    }
   ],
   "source": [
    "newBT.levelOrderTraversal(1)"
   ]
  },
  {
   "cell_type": "code",
   "execution_count": 252,
   "id": "48ee33c7-1f14-4e3d-b04b-4e050cc1df7b",
   "metadata": {},
   "outputs": [
    {
     "data": {
      "text/plain": [
       "'The node has been successfully deleted'"
      ]
     },
     "execution_count": 252,
     "metadata": {},
     "output_type": "execute_result"
    }
   ],
   "source": [
    "newBT.deleteNode(\"Tea\")"
   ]
  },
  {
   "cell_type": "markdown",
   "id": "18a79a01-1b1f-4104-8b33-3cdc85c26f97",
   "metadata": {},
   "source": [
    "<hr>\n",
    "\n",
    "### Binary Search Tree\n",
    "\n",
    "- In the left subtree the value of a node is less than or equal to its parent's value.\n",
    "- In the right subtree the value of a node is greater than its parent's value."
   ]
  },
  {
   "cell_type": "code",
   "execution_count": 266,
   "id": "8b444543-f70f-415a-9f39-e5fcc94da754",
   "metadata": {},
   "outputs": [],
   "source": [
    "class BSTNode:\n",
    "    def __init__(self, data):\n",
    "        self.data = data\n",
    "        self.leftChild = None\n",
    "        self.rightChild = None"
   ]
  },
  {
   "cell_type": "code",
   "execution_count": 268,
   "id": "579f624d-9d0d-4720-8c18-e1d60234164a",
   "metadata": {},
   "outputs": [],
   "source": [
    "newBST = BSTNode(None)"
   ]
  },
  {
   "cell_type": "code",
   "execution_count": 272,
   "id": "4c623cdc-c79c-438c-a564-91e41e0cec5e",
   "metadata": {},
   "outputs": [],
   "source": [
    "def insertNode(rootNode, nodeValue):\n",
    "    if rootNode.data == None:\n",
    "        rootNode.data = nodeValue\n",
    "    elif nodeValue <= rootNode.data:\n",
    "        if rootNode.leftChild is None:\n",
    "            rootNode.leftChild = BSTNode(nodeValue)\n",
    "        else:\n",
    "            insertNode(rootNode.leftChild, nodeValue)\n",
    "    else:\n",
    "        if rootNode.rightChild is None:\n",
    "            rootNode.rightChild = BSTNode(nodeValue)\n",
    "        else:\n",
    "            insertNode(rootNode.rightChild, nodeValue)\n",
    "    return \"The node has been successfully inserted\""
   ]
  },
  {
   "cell_type": "code",
   "execution_count": 286,
   "id": "f7f92a5d-c71e-4d40-8d45-d0a0f05a8e03",
   "metadata": {},
   "outputs": [],
   "source": [
    "newBST = BSTNode(None)"
   ]
  },
  {
   "cell_type": "code",
   "execution_count": 288,
   "id": "d089053d-d410-4286-9ebd-88186572a598",
   "metadata": {},
   "outputs": [
    {
     "data": {
      "text/plain": [
       "'The node has been successfully inserted'"
      ]
     },
     "execution_count": 288,
     "metadata": {},
     "output_type": "execute_result"
    }
   ],
   "source": [
    "insertNode(newBST, 70)"
   ]
  },
  {
   "cell_type": "code",
   "execution_count": 290,
   "id": "707e7666-b323-4e9f-a60e-d16434b40d17",
   "metadata": {},
   "outputs": [
    {
     "data": {
      "text/plain": [
       "'The node has been successfully inserted'"
      ]
     },
     "execution_count": 290,
     "metadata": {},
     "output_type": "execute_result"
    }
   ],
   "source": [
    "insertNode(newBST, 50)\n",
    "insertNode(newBST, 90)\n",
    "insertNode(newBST, 30)\n",
    "insertNode(newBST, 60)\n",
    "insertNode(newBST, 80)\n",
    "insertNode(newBST, 100)\n",
    "insertNode(newBST, 20)\n",
    "insertNode(newBST, 40)"
   ]
  },
  {
   "cell_type": "code",
   "execution_count": 292,
   "id": "b6a67c9d-6add-410f-902f-301edab2cb7f",
   "metadata": {},
   "outputs": [
    {
     "name": "stdout",
     "output_type": "stream",
     "text": [
      "70\n",
      "50\n"
     ]
    }
   ],
   "source": [
    "print(newBST.data)\n",
    "print(newBST.leftChild.data)"
   ]
  },
  {
   "cell_type": "code",
   "execution_count": 294,
   "id": "6dc3f670-5261-44d0-8995-f89856cbe785",
   "metadata": {},
   "outputs": [],
   "source": [
    "#Traversal\n",
    "\n",
    "def preOrderTraversalBST(rootNode):\n",
    "    if not rootNode:\n",
    "        return\n",
    "    print(rootNode.data)\n",
    "    preOrderTraversalBST(rootNode.leftChild)\n",
    "    preOrderTraversalBST(rootNode.rightChild)"
   ]
  },
  {
   "cell_type": "code",
   "execution_count": 298,
   "id": "379e9598-4fc9-4963-89a0-75edfc901a16",
   "metadata": {},
   "outputs": [
    {
     "name": "stdout",
     "output_type": "stream",
     "text": [
      "70\n",
      "50\n",
      "30\n",
      "20\n",
      "40\n",
      "60\n",
      "90\n",
      "80\n",
      "100\n"
     ]
    }
   ],
   "source": [
    "preOrderTraversalBST(newBST)"
   ]
  },
  {
   "cell_type": "code",
   "execution_count": 300,
   "id": "5f323285-15e4-4bcb-bb16-cbe510f34739",
   "metadata": {},
   "outputs": [],
   "source": [
    "def inOrderTraversalBST(rootNode):\n",
    "    if not rootNode:\n",
    "        return\n",
    "    inOrderTraversalBST(rootNode.leftChild)\n",
    "    print(rootNode.data)\n",
    "    inOrderTraversalBST(rootNode.rightChild)"
   ]
  },
  {
   "cell_type": "code",
   "execution_count": 302,
   "id": "3a2dc4a5-e6f9-459a-b9e8-5ec9a8a23f63",
   "metadata": {},
   "outputs": [
    {
     "name": "stdout",
     "output_type": "stream",
     "text": [
      "20\n",
      "30\n",
      "40\n",
      "50\n",
      "60\n",
      "70\n",
      "80\n",
      "90\n",
      "100\n"
     ]
    }
   ],
   "source": [
    "inOrderTraversalBST(newBST)"
   ]
  },
  {
   "cell_type": "code",
   "execution_count": 304,
   "id": "bbeab379-e520-4a6e-b1fa-c6ce69eb38b9",
   "metadata": {},
   "outputs": [],
   "source": [
    "def postOrderTraversalBST(rootNode):\n",
    "    if not rootNode:\n",
    "        return\n",
    "    postOrderTraversalBST(rootNode.leftChild)\n",
    "    postOrderTraversalBST(rootNode.rightChild)\n",
    "    print(rootNode.data)"
   ]
  },
  {
   "cell_type": "code",
   "execution_count": 306,
   "id": "353a19f7-cc3c-4a64-8e6b-c2feb9b364d6",
   "metadata": {},
   "outputs": [
    {
     "name": "stdout",
     "output_type": "stream",
     "text": [
      "20\n",
      "40\n",
      "30\n",
      "60\n",
      "50\n",
      "80\n",
      "100\n",
      "90\n",
      "70\n"
     ]
    }
   ],
   "source": [
    "postOrderTraversalBST(newBST)"
   ]
  },
  {
   "cell_type": "code",
   "execution_count": 308,
   "id": "d7ba5eec-a9e0-4204-a60f-6df27054c5c7",
   "metadata": {},
   "outputs": [],
   "source": [
    "def levelOrderTraversalBST(rootNode):\n",
    "    if not rootNode:\n",
    "        return\n",
    "    \n",
    "    custQueue = Queue()\n",
    "    custQueue.enqueue(rootNode)\n",
    "    while not(custQueue.isEmpty()):\n",
    "        root = custQueue.dequeue()\n",
    "        print(root.value.data)\n",
    "        if root.value.leftChild is not None:\n",
    "            custQueue.enqueue(root.value.leftChild)\n",
    "        if root.value.rightChild is not None:\n",
    "            custQueue.enqueue(root.value.rightChild)"
   ]
  },
  {
   "cell_type": "code",
   "execution_count": 310,
   "id": "a6a55f2a-0018-41c6-a346-009971e98332",
   "metadata": {},
   "outputs": [
    {
     "name": "stdout",
     "output_type": "stream",
     "text": [
      "70\n",
      "50\n",
      "90\n",
      "30\n",
      "60\n",
      "80\n",
      "100\n",
      "20\n",
      "40\n"
     ]
    }
   ],
   "source": [
    "levelOrderTraversalBST(newBST)"
   ]
  },
  {
   "cell_type": "code",
   "execution_count": 330,
   "id": "6c53794d-b8aa-48f7-a33b-101d6b2e8ed7",
   "metadata": {},
   "outputs": [],
   "source": [
    "def searchBST(rootNode, nodeValue):\n",
    "    if not rootNode:\n",
    "        return \"The BST is empty\"\n",
    "    \n",
    "    if nodeValue==rootNode.data:\n",
    "        return \"found\"\n",
    "    elif nodeValue < rootNode.data:\n",
    "        if rootNode.leftChild.data == nodeValue:\n",
    "            print(\"Found\")\n",
    "        else:\n",
    "            searchBST(rootNode.leftChild, nodeValue)\n",
    "    else:\n",
    "        if rootNode.rightChild.data == nodeValue:\n",
    "            print(\"Found\")\n",
    "        else:\n",
    "            searchBST(rootNode.rightChild, nodeValue)"
   ]
  },
  {
   "cell_type": "code",
   "execution_count": 332,
   "id": "d037d65c-9e20-40cf-a8a9-843e734a0d70",
   "metadata": {},
   "outputs": [
    {
     "name": "stdout",
     "output_type": "stream",
     "text": [
      "Found\n"
     ]
    }
   ],
   "source": [
    "searchBST(newBST, 50)"
   ]
  },
  {
   "cell_type": "code",
   "execution_count": 336,
   "id": "9a90d8fb-155b-4594-9111-d3bcd5efb897",
   "metadata": {},
   "outputs": [],
   "source": [
    "#Successor of a node with two children is the smallest node in the right tree\n",
    "#This code feels a bit advanced\n",
    "def minValueNode(bstNode):\n",
    "    current = bstNode\n",
    "    while (current.leftChild is not None):\n",
    "        current = current.leftChild\n",
    "    return current\n",
    "\n",
    "def deleteNodeBST(rootNode, nodeValue):\n",
    "    if rootNode is None:\n",
    "        return rootNode\n",
    "    if nodeValue < rootNode.data:\n",
    "        rootNode.leftChild = deleteNodeBST(rootNode.leftChild, nodeValue)\n",
    "    elif nodeValue > rootNode.data:\n",
    "        rootNode.rightChild = deleteNodeBST(rootNode.rightChild, nodeValue)\n",
    "    else:\n",
    "        if rootNode.leftChild is None:\n",
    "            temp = rootNode.rightChild\n",
    "            rootNode = None\n",
    "            return temp\n",
    "        \n",
    "        if rootNode.rightChild is None:\n",
    "            temp = rootNode.leftChild\n",
    "            rootNode = None\n",
    "            return temp\n",
    "        \n",
    "        temp = minValueNode(rootNode.rightChild)\n",
    "        rootNode.data = temp.data\n",
    "        rootNode.rightChild = deleteNode(rootNode.rightChild, temp.data)\n",
    "    return rootNode"
   ]
  },
  {
   "cell_type": "code",
   "execution_count": 346,
   "id": "4d646acd-dc28-4e71-9030-98dfd69f933d",
   "metadata": {},
   "outputs": [],
   "source": [
    "def deleteBST(rootNode):\n",
    "    rootNode.data = None\n",
    "    rootNode.leftChild = None\n",
    "    rootNode.rightChild = None\n",
    "    return \"The BST has succeessfully been deleted\""
   ]
  },
  {
   "cell_type": "code",
   "execution_count": 348,
   "id": "0da9077a-a4fd-49a2-a8ed-8366795da49e",
   "metadata": {},
   "outputs": [
    {
     "name": "stdout",
     "output_type": "stream",
     "text": [
      "20\n",
      "40\n",
      "30\n",
      "60\n",
      "50\n",
      "80\n",
      "100\n",
      "90\n",
      "70\n"
     ]
    }
   ],
   "source": [
    "postOrderTraversalBST(newBST)"
   ]
  },
  {
   "cell_type": "code",
   "execution_count": 350,
   "id": "8b340979-d8d1-422b-bdd9-71923a5341af",
   "metadata": {},
   "outputs": [
    {
     "data": {
      "text/plain": [
       "'The BST has succeessfully been deleted'"
      ]
     },
     "execution_count": 350,
     "metadata": {},
     "output_type": "execute_result"
    }
   ],
   "source": [
    "deleteBST(newBST)"
   ]
  },
  {
   "cell_type": "code",
   "execution_count": 352,
   "id": "0813b2f8-70cf-4481-b20f-21e03c24de3a",
   "metadata": {},
   "outputs": [
    {
     "name": "stdout",
     "output_type": "stream",
     "text": [
      "None\n"
     ]
    }
   ],
   "source": [
    "postOrderTraversalBST(newBST)"
   ]
  },
  {
   "cell_type": "markdown",
   "id": "03d11b52-a79c-40c0-8a79-1ce02b512210",
   "metadata": {},
   "source": [
    "<hr>\n",
    "\n",
    "## AVL Tree\n",
    "\n",
    "Self-Balancing BST where difference between left and right subtrees cannot be more than one for all nodes."
   ]
  },
  {
   "cell_type": "code",
   "execution_count": 81,
   "id": "1a649d87-fbf2-4fc8-bad7-24b5ce7a06c3",
   "metadata": {},
   "outputs": [],
   "source": [
    "class AVLNode:\n",
    "    def __init__(self, data):\n",
    "        self.data = data\n",
    "        self.leftChild = None\n",
    "        self.rightChild = None\n",
    "        self.height = 1"
   ]
  },
  {
   "cell_type": "code",
   "execution_count": 83,
   "id": "49ac245e-f62a-4ac4-8ba0-a57930aef2ee",
   "metadata": {},
   "outputs": [],
   "source": [
    "newAVL = AVLNode(10)"
   ]
  },
  {
   "cell_type": "code",
   "execution_count": 85,
   "id": "50ff5a89-a816-43ab-8abb-e5a45a804928",
   "metadata": {},
   "outputs": [],
   "source": [
    "def preOrderTraversalAVL(rootNode):\n",
    "    if not rootNode:\n",
    "        return\n",
    "    print(rootNode.data)\n",
    "    preOrderTraversalAVL(rootNode.leftChild)\n",
    "    preOrderTraversalAVL(rootNode.rightChild)\n",
    "\n",
    "def inOrderTraversalAVL(rootNode):\n",
    "    if not rootNode:\n",
    "        return\n",
    "    inOrderTraversalAVL(rootNode.leftChild)\n",
    "    print(rootNode.data)\n",
    "    inOrderTraversalAVL(rootNode.rightChild)\n",
    "    \n",
    "def postOrderTraversalAVL(rootNode):\n",
    "    if not rootNode:\n",
    "        return\n",
    "    postOrderTraversalAVL(rootNode.leftChild)\n",
    "    postOrderTraversalAVL(rootNode.rightChild)\n",
    "    print(rootNode.data)"
   ]
  },
  {
   "cell_type": "code",
   "execution_count": 87,
   "id": "91c121d2-ec4c-4ba9-8b9e-dd14b7304453",
   "metadata": {},
   "outputs": [],
   "source": [
    "def levelOrderTraversalAVL(rootNode):\n",
    "    if not rootNode:\n",
    "        return\n",
    "    \n",
    "    custQueue = Queue()\n",
    "    custQueue.enqueue(rootNode)\n",
    "    while not(custQueue.isEmpty()):\n",
    "        root = custQueue.dequeue()\n",
    "        print(root.value.data)\n",
    "        if root.value.leftChild is not None:\n",
    "            custQueue.enqueue(root.value.leftChild)\n",
    "        if root.value.rightChild is not None:\n",
    "            custQueue.enqueue(root.value.rightChild)"
   ]
  },
  {
   "cell_type": "code",
   "execution_count": 89,
   "id": "69506448-f45b-48ca-8ce5-b2643e3050bb",
   "metadata": {},
   "outputs": [],
   "source": [
    "def searchAVL(rootNode, nodeValue):\n",
    "    if not rootNode:\n",
    "        return \"The AVL Tree is empty\"\n",
    "    \n",
    "    if nodeValue==rootNode.data:\n",
    "        return \"found\"\n",
    "    elif nodeValue < rootNode.data:\n",
    "        if rootNode.leftChild.data == nodeValue:\n",
    "            print(\"Found\")\n",
    "        else:\n",
    "            searchAVL(rootNode.leftChild, nodeValue)\n",
    "    else:\n",
    "        if rootNode.rightChild.data == nodeValue:\n",
    "            print(\"Found\")\n",
    "        else:\n",
    "            searchAVL(rootNode.rightChild, nodeValue)"
   ]
  },
  {
   "cell_type": "code",
   "execution_count": 91,
   "id": "34a50c06-b555-455f-82d4-eebc73ae58c1",
   "metadata": {},
   "outputs": [],
   "source": [
    "#Insertion is a bit different. Rotation may be required or not.\n",
    "def getHeight(rootNode):\n",
    "    if not rootNode:\n",
    "        return 0\n",
    "    return rootNode.height\n",
    "\n",
    "def rightRotate(disbalancedNode):\n",
    "    newRoot = disbalancedNode.leftChild\n",
    "    disbalancedNode.leftChild = disbalancedNode.leftChild.rightChild\n",
    "    newRoot.rightChild = disbalancedNode\n",
    "    disbalancedNode.height = 1 + max(getHeight(disbalancedNode.leftChild), getHeight(disbalancedNode.rightChild))\n",
    "    newRoot.height = 1 + max(getHeight(newRoot.leftChild), getHeight(newRoot.rightChild))\n",
    "    return newRoot\n",
    "\n",
    "def leftRotate(disbalancedNode):\n",
    "    newRoot = disbalancedNode.rightChild\n",
    "    disbalancedNode.rightChild = disbalancedNode.rightChild.leftChild\n",
    "    newRoot.leftChild = disbalancedNode\n",
    "    disbalancedNode.height = 1 + max(getHeight(disbalancedNode.leftChild), getHeight(disbalancedNode.rightChild))\n",
    "    newRoot.height = 1 + max(getHeight(newRoot.leftChild), getHeight(newRoot.rightChild))\n",
    "    return newRoot\n",
    "\n",
    "def getBalance(rootNode):\n",
    "    if not rootNode:\n",
    "        return 0\n",
    "    return getHeight(rootNode.leftChild) - getHeight(rootNode.rightChild)\n",
    "\n"
   ]
  },
  {
   "cell_type": "code",
   "execution_count": 101,
   "id": "28113b53-b8d2-4748-952f-a2c6ae892423",
   "metadata": {},
   "outputs": [],
   "source": [
    "def insertNodeAVL(rootNode, nodeValue):\n",
    "    if not rootNode:\n",
    "        return AVLNode(nodeValue)\n",
    "    elif nodeValue<rootNode.data:\n",
    "        rootNode.leftChild = insertNodeAVL(rootNode.leftChild, nodeValue)\n",
    "    else:\n",
    "        rootNode.rightChild = insertNodeAVL(rootNode.rightChild, nodeValue)\n",
    "    \n",
    "    rootNode.height = 1 + max(getHeight(rootNode.leftChild), getHeight(rootNode.rightChild))\n",
    "    \n",
    "    balance = getBalance(rootNode)\n",
    "    if balance > 1 and nodeValue < rootNode.leftChild.data: #LL\n",
    "        return rightRotate(rootNode)\n",
    "    if balance > 1 and nodeValue > rootNode.leftChild.data: #LR\n",
    "        rootNode.leftChild = leftRotate(rootNode.leftChild)\n",
    "        return rightRotate(rootNode)\n",
    "    if balance < -1 and nodeValue > rootNode.rightChild.data: #RR\n",
    "        return leftRotate(rootNode)\n",
    "    if balance < -1 and nodeValue < rootNode.rightChild.data: #RL\n",
    "        rootNode.rightChild = rightRotate(rootNode.rightChild)\n",
    "        return leftRotate(rootNode)\n",
    "    return rootNode"
   ]
  },
  {
   "cell_type": "code",
   "execution_count": 113,
   "id": "7df52f61-3379-45ea-9847-692786673734",
   "metadata": {},
   "outputs": [],
   "source": [
    "newAVL = AVLNode(5)"
   ]
  },
  {
   "cell_type": "code",
   "execution_count": 115,
   "id": "ea78a8c6-2d00-418a-861d-9b7fffbbca66",
   "metadata": {},
   "outputs": [],
   "source": [
    "newAVL = insertNodeAVL(newAVL, 10)\n",
    "newAVL = insertNodeAVL(newAVL, 15)\n",
    "newAVL = insertNodeAVL(newAVL, 20)"
   ]
  },
  {
   "cell_type": "code",
   "execution_count": 107,
   "id": "4c35e3eb-61d8-4108-9ebf-76982f4e48c9",
   "metadata": {},
   "outputs": [
    {
     "name": "stdout",
     "output_type": "stream",
     "text": [
      "10\n",
      "5\n",
      "15\n",
      "20\n"
     ]
    }
   ],
   "source": [
    "levelOrderTraversalAVL(newAVL)"
   ]
  },
  {
   "cell_type": "code",
   "execution_count": 117,
   "id": "a72a8123-77e3-480a-a0af-e1b5a89060d8",
   "metadata": {},
   "outputs": [],
   "source": [
    "def getMinValueNodeAVL(rootNode):\n",
    "    if rootNode is None or rootNode.leftChild is None:\n",
    "        return rootNode\n",
    "    return getMinValueNodeAVL(rootNode.leftChild)\n",
    "\n",
    "def deleteNodeAVL(rootNode, nodeValue):\n",
    "    if not rootNode:\n",
    "        return rootNode\n",
    "    elif nodeValue < rootNode.data:\n",
    "        rootNode.leftChild = deleteNodeAVL(rootNode.leftChild, nodeValue)\n",
    "    elif nodeValue > rootNode.data:\n",
    "        rootNode.rightChild = deleteNodeAVL(rootNode.rightChild, nodeValue)\n",
    "    else:\n",
    "        if rootNode.leftChild is None:\n",
    "            temp = rootNode.rightChild\n",
    "            rootNode = None\n",
    "            return temp\n",
    "        if rootNode.rightChild is None:\n",
    "            temp = rootNode.leftChild\n",
    "            rootNode = None\n",
    "            return temp\n",
    "        temp = getMinValueNodeAVL(rootNode.rightChild)\n",
    "        rootNode.data = temp.data\n",
    "        rootNode.rightChild = deleteNode(rootNode.rightChild, temp.data)\n",
    "        rootNode.height = 1+max(getHeight(rootNode.leftChild), getHeight(rootNode.rightChild))\n",
    "    balance = getBalance(rootNode)\n",
    "    if balance > 1 and getBalance(rootNode.leftChild) >= 0: #LL\n",
    "        return rightRotate(rootNode)\n",
    "    if balance < -1 and getBalance(rootNode.rightChild) <= 0: #RR\n",
    "        return leftRotate(rootNode)\n",
    "    if balance > 1 and getBalance(rootNode.leftChild) < 0: #LR\n",
    "        rootNode.leftChild = leftRotate(rootNode.leftChild)\n",
    "        return rightRotate(rootNode)\n",
    "    if balance < -1 and getBalance(rootNode.rightChild) > 0: #RL\n",
    "        rootNode.rightChild = rightRotate(rootNode.rightChild)\n",
    "        return leftRotate(rootNode)\n",
    "    \n",
    "    return rootNode"
   ]
  },
  {
   "cell_type": "code",
   "execution_count": 119,
   "id": "69e76851-32ce-4aa5-a001-781d5e2cdf70",
   "metadata": {},
   "outputs": [],
   "source": [
    "newAVL = deleteNodeAVL(newAVL, 15)"
   ]
  },
  {
   "cell_type": "code",
   "execution_count": 121,
   "id": "7af02943-ffc7-418d-a59a-9d63e6dd4a5f",
   "metadata": {},
   "outputs": [
    {
     "name": "stdout",
     "output_type": "stream",
     "text": [
      "10\n",
      "5\n",
      "20\n"
     ]
    }
   ],
   "source": [
    "levelOrderTraversalAVL(newAVL)"
   ]
  },
  {
   "cell_type": "code",
   "execution_count": 123,
   "id": "d83ee3b4-95d3-4a00-a939-c0f69dfeb5f6",
   "metadata": {},
   "outputs": [],
   "source": [
    "def deleteAVL(rootNode):\n",
    "    rootNode.data = None\n",
    "    rootNode.leftChild = None\n",
    "    rootNode.rightChild = None\n",
    "    \n",
    "    return \"The AVL has been deleted.\""
   ]
  },
  {
   "cell_type": "code",
   "execution_count": 125,
   "id": "093613a4-0e4b-4f94-a172-ed4ef8b62c63",
   "metadata": {},
   "outputs": [
    {
     "data": {
      "text/plain": [
       "'The AVL has been deleted.'"
      ]
     },
     "execution_count": 125,
     "metadata": {},
     "output_type": "execute_result"
    }
   ],
   "source": [
    "deleteAVL(newAVL)"
   ]
  },
  {
   "cell_type": "code",
   "execution_count": 127,
   "id": "46d21472-c435-4f87-81df-4f4d11642507",
   "metadata": {},
   "outputs": [
    {
     "name": "stdout",
     "output_type": "stream",
     "text": [
      "None\n"
     ]
    }
   ],
   "source": [
    "levelOrderTraversalAVL(newAVL)"
   ]
  },
  {
   "cell_type": "markdown",
   "id": "5ebaa2f4-318c-4947-add9-56b7265eb1c7",
   "metadata": {},
   "source": [
    "<hr>\n",
    "\n",
    "## Binary Heap\n",
    "\n",
    "A binary tree with additional properties:\n",
    "- It's either max or min. The root node value should be minimum(or maximum) among all values present in the Heap. True recursively for all nodes.\n",
    "\n",
    "- It is always a complete tree. All levels are filled except, perhaps, the last level but for the last level all nodes are as to the left as possible.\n",
    "\n",
    "Makes them suitable to be stored in arrays."
   ]
  },
  {
   "cell_type": "code",
   "execution_count": 160,
   "id": "2f15f4f0-2864-41fe-8492-b84f2053f8d5",
   "metadata": {},
   "outputs": [],
   "source": [
    "class Heap:\n",
    "    def __init__(self, size):\n",
    "        self.customList = (size+1)*[None]\n",
    "        self.heapSize = 0\n",
    "        self.maxSize = size+1\n",
    "        \n",
    "def peekOfHeap(rootNode):\n",
    "    if not rootNode:\n",
    "        return\n",
    "    return rootNode.customList[1]\n",
    "    \n",
    "def sizeofHeap(rootNode):\n",
    "    if not rootNode:\n",
    "        return\n",
    "    return rootNode.heapSize"
   ]
  },
  {
   "cell_type": "code",
   "execution_count": 162,
   "id": "9d2d1c1e-6485-4da5-92f6-8f20251e88be",
   "metadata": {},
   "outputs": [],
   "source": [
    "newBinaryHeap = Heap(5)"
   ]
  },
  {
   "cell_type": "code",
   "execution_count": 164,
   "id": "b2f92cd1-a376-43f1-bcfc-c245846341ad",
   "metadata": {},
   "outputs": [
    {
     "data": {
      "text/plain": [
       "0"
      ]
     },
     "execution_count": 164,
     "metadata": {},
     "output_type": "execute_result"
    }
   ],
   "source": [
    "sizeofHeap(newBinaryHeap)"
   ]
  },
  {
   "cell_type": "code",
   "execution_count": 166,
   "id": "98b3c48e-a343-4a31-9357-4fcb4d7668e9",
   "metadata": {},
   "outputs": [],
   "source": [
    "def levelOrderTraversalHeap(rootNode):\n",
    "    if not rootNode:\n",
    "        return\n",
    "    else:\n",
    "        for i in range(1, rootNode.heapSize + 1):\n",
    "            print(rootNode.customList[i])"
   ]
  },
  {
   "cell_type": "code",
   "execution_count": 168,
   "id": "63714f5f-2824-4175-8d48-774f3824c0af",
   "metadata": {},
   "outputs": [],
   "source": [
    "def heapifyInsert(rootNode, index, heapType):\n",
    "    parentIndex = int(index/2)\n",
    "    if index<=1:\n",
    "        return\n",
    "    if heapType == \"Min\":\n",
    "        if rootNode.customList[index] < rootNode.customList[parentIndex]:\n",
    "            temp = rootNode.customList[index]\n",
    "            rootNode.customList[index] = rootNode.customList[parentIndex]\n",
    "            rootNode.customList[parentIndex] = temp\n",
    "        heapifyInsert(rootNode,parentIndex,heapType)\n",
    "        \n",
    "    elif heapType == \"Max\":\n",
    "        if rootNode.customList[index] > rootNode.customList[parentIndex]:\n",
    "            temp = rootNode.customList[index]\n",
    "            rootNode.customList[index] = rootNode.customList[parentIndex]\n",
    "            rootNode.customList[parentIndex] = temp\n",
    "        heapifyInsert(rootNode,parentIndex,heapType)"
   ]
  },
  {
   "cell_type": "code",
   "execution_count": 172,
   "id": "ea9c2800-96cd-4453-bf2b-2983b796c99c",
   "metadata": {},
   "outputs": [],
   "source": [
    "def insertHeap(rootNode, nodeValue, heapType):\n",
    "    if rootNode.heapSize + 1 == rootNode.maxSize:\n",
    "        return \"The Binary Heap is full.\"\n",
    "    \n",
    "    rootNode.customList[rootNode.heapSize + 1] = nodeValue\n",
    "    rootNode.heapSize += 1\n",
    "    heapifyInsert(rootNode, rootNode.heapSize, heapType)\n",
    "    return \"The value has been inserted\""
   ]
  },
  {
   "cell_type": "code",
   "execution_count": 184,
   "id": "c96423d8-5bd9-4c01-8e7e-a0d8327624ff",
   "metadata": {},
   "outputs": [],
   "source": [
    "newHeap = Heap(5)"
   ]
  },
  {
   "cell_type": "code",
   "execution_count": 186,
   "id": "7010fc9b-ddb3-4948-bb1e-fb8c5cdab449",
   "metadata": {},
   "outputs": [
    {
     "data": {
      "text/plain": [
       "'The value has been inserted'"
      ]
     },
     "execution_count": 186,
     "metadata": {},
     "output_type": "execute_result"
    }
   ],
   "source": [
    "insertHeap(newHeap, 4,\"Max\")\n",
    "insertHeap(newHeap, 5,\"Max\")\n",
    "insertHeap(newHeap, 2,\"Max\")\n",
    "insertHeap(newHeap, 1,\"Max\")"
   ]
  },
  {
   "cell_type": "code",
   "execution_count": 188,
   "id": "d29f736f-6867-4eca-91f9-fd4a1ed3ad04",
   "metadata": {},
   "outputs": [
    {
     "name": "stdout",
     "output_type": "stream",
     "text": [
      "5\n",
      "4\n",
      "2\n",
      "1\n"
     ]
    }
   ],
   "source": [
    "levelOrderTraversalHeap(newHeap)"
   ]
  },
  {
   "cell_type": "code",
   "execution_count": 180,
   "id": "296a377f-cea6-44c2-990f-70e26e4a78a7",
   "metadata": {},
   "outputs": [],
   "source": [
    "def heapifyExtract(rootNode, index, heapType):\n",
    "    leftIndex = index*2\n",
    "    rightIndex = index * 2 + 1\n",
    "    swapChild = 0\n",
    "    \n",
    "    if rootNode.heapSize < leftIndex:\n",
    "        return\n",
    "    elif rootNode.heapSize == leftIndex:\n",
    "        if heapType == \"Min\":\n",
    "            if rootNode.customList[index] > rootNode.customList[leftIndex]:\n",
    "                temp = rootNode.customList[index]\n",
    "                rootNode.customList[index] = rootNode.customList[leftIndex]\n",
    "                rootNode.customList[leftIndex] = temp\n",
    "            return\n",
    "        else:\n",
    "            if rootNode.customList[index] < rootNode.customList[leftIndex]:\n",
    "                temp = rootNode.customList[index]\n",
    "                rootNode.customList[index] = rootNode.customList[leftIndex]\n",
    "                rootNode.customList[leftIndex] = temp\n",
    "            return\n",
    "    \n",
    "    else:\n",
    "        if heapType == \"Min\":\n",
    "            if rootNode.customList[leftIndex] < rootNode.customList[rightIndex]:\n",
    "                swapChild = leftIndex\n",
    "            else:\n",
    "                swapChild = rightIndex\n",
    "                \n",
    "            if rootNode.customList[index]>rootNode.customList[swapChild]:\n",
    "                temp = rootNode.customList[index]\n",
    "                rootNode.customList[index] = rootNode.customList[swapChild]\n",
    "                rootNode.customList[swapChild] = temp\n",
    "        else:\n",
    "            if rootNode.customList[leftIndex] > rootNode.customList[rightIndex]:\n",
    "                swapChild = leftIndex\n",
    "            else:\n",
    "                swapChild = rightIndex\n",
    "                \n",
    "            if rootNode.customList[index]<rootNode.customList[swapChild]:\n",
    "                temp = rootNode.customList[index]\n",
    "                rootNode.customList[index] = rootNode.customList[swapChild]\n",
    "                rootNode.customList[swapChild] = temp\n",
    "        heapifyExtract(rootNode, swapChild, heapType)"
   ]
  },
  {
   "cell_type": "code",
   "execution_count": 182,
   "id": "6728232b-fc6d-4e93-bdba-09ca8df9d301",
   "metadata": {},
   "outputs": [],
   "source": [
    "def extractHeap(rootNode, heapType):\n",
    "    if rootNode.heapSize == 0:\n",
    "        return\n",
    "    else:\n",
    "        extractedNode = rootNode.customList[1]\n",
    "        rootNode.customList[1] = rootNode.customList[rootNode.heapSize]\n",
    "        rootNode.customList[rootNode.heapSize] = None\n",
    "        rootNode.heapSize -= 1\n",
    "        heapifyExtract(rootNode, 1, heapType)\n",
    "        return extractedNode"
   ]
  },
  {
   "cell_type": "code",
   "execution_count": 190,
   "id": "14810b4a-93e7-4e28-9ef6-4cfb165241e9",
   "metadata": {},
   "outputs": [
    {
     "data": {
      "text/plain": [
       "5"
      ]
     },
     "execution_count": 190,
     "metadata": {},
     "output_type": "execute_result"
    }
   ],
   "source": [
    "extractHeap(newHeap,\"Max\")"
   ]
  },
  {
   "cell_type": "code",
   "execution_count": 194,
   "id": "0d3ee830-d160-43c3-8518-90027014d9ba",
   "metadata": {},
   "outputs": [
    {
     "name": "stdout",
     "output_type": "stream",
     "text": [
      "4\n",
      "1\n",
      "2\n"
     ]
    }
   ],
   "source": [
    "levelOrderTraversalHeap(newHeap)"
   ]
  },
  {
   "cell_type": "code",
   "execution_count": 196,
   "id": "617f0b80-85ff-45e0-a99a-5528fa09e931",
   "metadata": {},
   "outputs": [],
   "source": [
    "def deleteHeap(rootNode):\n",
    "    rootNode.customList = None"
   ]
  },
  {
   "cell_type": "markdown",
   "id": "2ca009be-b3e4-4707-ac74-c0981fad401d",
   "metadata": {},
   "source": [
    "<hr>\n",
    "\n",
    "## Trie\n",
    "\n",
    "Tree based data structure that organizes information in a hierarchy.\n",
    "\n",
    "- Typically used to store strings in space and time efficient way.\n",
    "- Any node can store non repetitive multiple characters.\n",
    "- every node has a link to the next character of the string.\n",
    "- every node keeps track of 'end of string'"
   ]
  },
  {
   "cell_type": "code",
   "execution_count": 218,
   "id": "5bcf7202-203f-4639-a7dc-9407cbdb58bb",
   "metadata": {},
   "outputs": [],
   "source": [
    "class TrieNode:\n",
    "    def __init__(self):\n",
    "        self.children = {}\n",
    "        self.endOfString = False\n",
    "        \n",
    "class Trie:\n",
    "    def __init__(self):\n",
    "        self.root = TrieNode()\n",
    "        \n",
    "    def insertString(self, word):\n",
    "        current = self.root\n",
    "        for i in word:\n",
    "            ch = i\n",
    "            node = current.children.get(ch)\n",
    "            if node == None:\n",
    "                node = TrieNode()\n",
    "                current.children.update({ch:node})\n",
    "            current = node\n",
    "        current.endOfString=True\n",
    "        print(\"Success\")\n",
    "        \n",
    "    def searchString(self, word):\n",
    "        current = self.root\n",
    "        for i in word:\n",
    "            node = current.children.get(i)\n",
    "            if node == None:\n",
    "                return False\n",
    "            current = node\n",
    "        \n",
    "        if current.endOfString == True:\n",
    "            return True\n",
    "        return False"
   ]
  },
  {
   "cell_type": "code",
   "execution_count": 220,
   "id": "b9f8e003-1298-4d19-b35b-a8e0042013c4",
   "metadata": {},
   "outputs": [],
   "source": [
    "newTrie = Trie()"
   ]
  },
  {
   "cell_type": "code",
   "execution_count": 222,
   "id": "92b0c5c0-1abd-400d-a2bf-04b4755080df",
   "metadata": {},
   "outputs": [
    {
     "name": "stdout",
     "output_type": "stream",
     "text": [
      "Success\n",
      "Success\n"
     ]
    }
   ],
   "source": [
    "newTrie.insertString(\"App\")\n",
    "newTrie.insertString(\"Appl\")"
   ]
  },
  {
   "cell_type": "code",
   "execution_count": 230,
   "id": "47b589dd-2d51-4bcc-84d5-416047e64705",
   "metadata": {},
   "outputs": [
    {
     "data": {
      "text/plain": [
       "True"
      ]
     },
     "execution_count": 230,
     "metadata": {},
     "output_type": "execute_result"
    }
   ],
   "source": [
    "newTrie.searchString(\"App\")"
   ]
  },
  {
   "cell_type": "code",
   "execution_count": 234,
   "id": "2155d2c1-af0a-47e1-b351-d0b326770c26",
   "metadata": {},
   "outputs": [],
   "source": [
    "def deleteStringTrie(root, word, index):\n",
    "    ch = word[index]\n",
    "    currentNode = root.children.get(ch)\n",
    "    canThisNodeBeDeleted = False\n",
    "    \n",
    "    if len(currentNode.children) > 1:\n",
    "        deleteStringTrie(currentNode, word, index+1)\n",
    "        return False\n",
    "    \n",
    "    if index == len(word)-1:\n",
    "        if len(currentNode.children) >= 1:\n",
    "            currentNode.endOfString = False\n",
    "            return False\n",
    "        else:\n",
    "            root.children.pop(ch)\n",
    "            return True\n",
    "    \n",
    "    if currentNode.endOfString == True:\n",
    "        deleteStringTrie(currentNode, word, index+1)\n",
    "        return False\n",
    "    \n",
    "    canThisNodeBeDeleted = deleteStringTrie(currentNode, word, index+1)\n",
    "    \n",
    "    if canThisNodeBeDeleted == True:\n",
    "        root.children.pop(ch)\n",
    "        return True\n",
    "    else:\n",
    "        return False"
   ]
  },
  {
   "cell_type": "code",
   "execution_count": 238,
   "id": "bd803c59-c32a-4d74-bc8b-78477596faf0",
   "metadata": {},
   "outputs": [
    {
     "data": {
      "text/plain": [
       "False"
      ]
     },
     "execution_count": 238,
     "metadata": {},
     "output_type": "execute_result"
    }
   ],
   "source": [
    "deleteStringTrie(newTrie.root, \"App\", 0)"
   ]
  },
  {
   "cell_type": "code",
   "execution_count": 242,
   "id": "9c1c3675-27b4-456a-80db-e675797a9021",
   "metadata": {},
   "outputs": [
    {
     "data": {
      "text/plain": [
       "True"
      ]
     },
     "execution_count": 242,
     "metadata": {},
     "output_type": "execute_result"
    }
   ],
   "source": [
    "newTrie.searchString(\"Appl\")"
   ]
  },
  {
   "cell_type": "markdown",
   "id": "61ced5b5-c158-4c64-b0a6-12e3d6d56515",
   "metadata": {},
   "source": [
    "<hr>\n",
    "\n",
    "## Hashing\n",
    "\n",
    "data --> hash function --> hash value"
   ]
  },
  {
   "cell_type": "markdown",
   "id": "f5aa9f66-4a59-4d80-b50a-0090b44354c4",
   "metadata": {},
   "source": [
    "Done.\n",
    "\n",
    "<hr>"
   ]
  },
  {
   "cell_type": "markdown",
   "id": "94345c4d-bb51-4d43-a90c-921c6a8ac2c5",
   "metadata": {},
   "source": [
    "## Sort Algorithms"
   ]
  },
  {
   "cell_type": "markdown",
   "id": "27abc134-d366-4bde-b3ff-20099c78c6f0",
   "metadata": {},
   "source": [
    "### Bubble Sort (Sinking Sort)\n",
    "- Replace adjacent items repeatedly if in wrong order.\n",
    "- Until all elements are sorted."
   ]
  },
  {
   "cell_type": "code",
   "execution_count": 316,
   "id": "179ee0e2-ae0e-45f4-be19-26d3f253a540",
   "metadata": {},
   "outputs": [],
   "source": [
    "def bubbleSort(customList):\n",
    "    for i in range(len(customList)-1):\n",
    "        for j in range(len(customList)-1):\n",
    "            if customList[j] > customList[j+1]:\n",
    "                customList[j], customList[j+1] = customList[j+1], customList[j]\n",
    "    return (customList)"
   ]
  },
  {
   "cell_type": "code",
   "execution_count": 311,
   "id": "5722ca0a-7ece-43bb-9599-1ad53fff6435",
   "metadata": {},
   "outputs": [],
   "source": [
    "cList = [2,1,7,6,5,3,4,9,8]"
   ]
  },
  {
   "cell_type": "code",
   "execution_count": 267,
   "id": "b5456a8c-a610-47e9-aa9b-fededeb8416f",
   "metadata": {},
   "outputs": [
    {
     "name": "stdout",
     "output_type": "stream",
     "text": [
      "[1, 2, 3, 4, 5, 6, 7, 8, 9]\n"
     ]
    }
   ],
   "source": [
    "bubbleSort(cList)"
   ]
  },
  {
   "cell_type": "markdown",
   "id": "f2f312b4-4ac9-420d-883b-4c93cdf26840",
   "metadata": {},
   "source": [
    "<hr>\n",
    "\n",
    "### Selection Sort\n",
    "- find the min element in array and move it to sorted part of array."
   ]
  },
  {
   "cell_type": "code",
   "execution_count": 318,
   "id": "f0aa50af-e5ec-4604-a85f-123941f56143",
   "metadata": {},
   "outputs": [],
   "source": [
    "def selectionSort(customList):\n",
    "    for i in range(len(customList)):\n",
    "        min_index = i\n",
    "        for j in range(i+1, len(customList)):\n",
    "            if customList[min_index] > customList[j]:\n",
    "                min_index = j\n",
    "        customList[i], customList[min_index] = customList[min_index], customList[i]\n",
    "    return (customList)"
   ]
  },
  {
   "cell_type": "code",
   "execution_count": 305,
   "id": "8943be44-8cca-4b54-ace0-2ef138c41e97",
   "metadata": {},
   "outputs": [
    {
     "name": "stdout",
     "output_type": "stream",
     "text": [
      "[1, 2, 3, 4, 5, 6, 7, 8, 9]\n"
     ]
    }
   ],
   "source": [
    "selectionSort(cList)"
   ]
  },
  {
   "cell_type": "markdown",
   "id": "337ab640-d924-44c0-989f-d92c80b78ea1",
   "metadata": {},
   "source": [
    "<hr>\n",
    "\n",
    "### Insertion Sort\n",
    "- divide the array in two parts\n",
    "- pick first element from unsorted array and put it in correct position in sorted array\n",
    "- repeat until unsorted is empty"
   ]
  },
  {
   "cell_type": "code",
   "execution_count": 320,
   "id": "0463be1a-7501-42ce-b019-598c2d0f3824",
   "metadata": {},
   "outputs": [],
   "source": [
    "def insertionSort(custList):\n",
    "    for i in range(1, len(custList)):\n",
    "        key = custList[i]\n",
    "        j = i-1\n",
    "        while j >=0 and key < custList[j]:\n",
    "            custList[j+1] = custList[j]\n",
    "            j-=1\n",
    "        custList[j+1] = key\n",
    "    return custList"
   ]
  },
  {
   "cell_type": "code",
   "execution_count": 313,
   "id": "007b6de4-4948-4ca5-ab38-0db945f26ae0",
   "metadata": {},
   "outputs": [
    {
     "name": "stdout",
     "output_type": "stream",
     "text": [
      "[1, 2, 3, 4, 5, 6, 7, 8, 9]\n"
     ]
    }
   ],
   "source": [
    "insertionSort(cList)"
   ]
  },
  {
   "cell_type": "markdown",
   "id": "010645ca-1dcc-4ec2-aecb-65577209c355",
   "metadata": {},
   "source": [
    "<hr>\n",
    "\n",
    "### Bucket Sort\n",
    "- Create buckets and distribute elements of array into buckets\n",
    "- sort the buckets\n",
    "- merge the buckets\n",
    "- no. of buckets = round(sqrt(number of elements))\n",
    "- appropriate bucket = ceil(Value * number of buckets/ maxValue)"
   ]
  },
  {
   "cell_type": "code",
   "execution_count": 322,
   "id": "37fcb4d1-ceab-4c47-9818-c99c36fd5f3e",
   "metadata": {},
   "outputs": [],
   "source": [
    "import math"
   ]
  },
  {
   "cell_type": "code",
   "execution_count": 324,
   "id": "f4789be1-5867-4042-8455-633f5e4582be",
   "metadata": {},
   "outputs": [],
   "source": [
    "def bucketSort(custList):\n",
    "    numberofBuckets = round(math.sqrt(len(custList)))\n",
    "    maxValue = max(custList)\n",
    "    arr = []\n",
    "    \n",
    "    for i in range(numberofBuckets):\n",
    "        arr.append([])\n",
    "    for j in custList:\n",
    "        index_b = math.ceil(j*numberofBuckets/maxValue)\n",
    "        arr[index_b-1].append(j)\n",
    "    for i in range(numberofBuckets):\n",
    "        arr[i] = insertionSort(arr[i])\n",
    "    \n",
    "    k=0\n",
    "    \n",
    "    for i in range(numberofBuckets):\n",
    "        for j in range(len(arr[i])):\n",
    "            custList[k] = arr[i][j]\n",
    "            k+=1\n",
    "    return custList"
   ]
  },
  {
   "cell_type": "code",
   "execution_count": 326,
   "id": "042b7990-b48d-42f7-b9b3-2da014d5c71f",
   "metadata": {},
   "outputs": [],
   "source": [
    "def bucketSortN(customList): #Bucket Sort for negative values\n",
    "    numberofBuckets = round(math.sqrt(len(customList)))\n",
    "    minValue = min(customList)\n",
    "    maxValue = max(customList)\n",
    "    rangeVal = (maxValue - minValue) / numberofBuckets\n",
    " \n",
    "    buckets = [[] for _ in range(numberofBuckets)]\n",
    " \n",
    "    for j in customList:\n",
    "        if j == maxValue:\n",
    "            buckets[-1].append(j)\n",
    "        else:\n",
    "            index_b = math.floor((j - minValue) / rangeVal)\n",
    "            buckets[index_b].append(j)\n",
    "    \n",
    "    sorted_array = []\n",
    "    for i in range(numberofBuckets):\n",
    "        buckets[i] = insertionSort(buckets[i])\n",
    "        sorted_array.extend(buckets[i])\n",
    "    \n",
    "    return sorted_array"
   ]
  },
  {
   "cell_type": "markdown",
   "id": "418fd47a-b94d-4d00-8a06-c0e6fa5fb464",
   "metadata": {},
   "source": [
    "<hr>\n",
    "\n",
    "### Merge Sort\n",
    "- Divide and Conquer\n",
    "- divide input into half repeatedly until division isnt possible\n",
    "- merge halves while sorting them"
   ]
  },
  {
   "cell_type": "code",
   "execution_count": 342,
   "id": "48c218b3-0bd7-4942-8a84-edc550caa102",
   "metadata": {},
   "outputs": [],
   "source": [
    "def merge(customList, l, m, r):\n",
    "    n1 = m-l+1\n",
    "    n2 = r-m\n",
    "    \n",
    "    L = [0]*(n1)\n",
    "    R = [0]*(n2)\n",
    "    \n",
    "    for i in range(0,n1):\n",
    "        L[i] = customList[l+i]\n",
    "    \n",
    "    for j in range(0,n2):\n",
    "        R[j] = customList[m+1+j]\n",
    "        \n",
    "    i = 0\n",
    "    j = 0\n",
    "    k = l\n",
    "    \n",
    "    while i<n1 and j<n2:\n",
    "        if L[i]<=R[j]:\n",
    "            customList[k]=L[i]\n",
    "            i+=1\n",
    "        else:\n",
    "            customList[k]=R[j]\n",
    "            j+=1\n",
    "        k+=1\n",
    "        \n",
    "    while i<n1:\n",
    "        customList[k]=L[i]\n",
    "        i+=1\n",
    "        k+=1\n",
    "        \n",
    "    while j<n2:\n",
    "        customList[k]=R[j]\n",
    "        j+=1\n",
    "        k+=1\n",
    "\n",
    "def mergeSort(customList, l, r):\n",
    "    if l<r:\n",
    "        m = (l+r-1)//2\n",
    "        mergeSort(customList,l,m)\n",
    "        mergeSort(customList,m+1,r)\n",
    "        merge(customList,l,m,r)\n",
    "    return customList"
   ]
  },
  {
   "cell_type": "code",
   "execution_count": 344,
   "id": "398e071c-bc61-4709-b9ea-6f90101a6d72",
   "metadata": {},
   "outputs": [],
   "source": [
    "cList = [2,1,7,6,5,3,4,9,8]"
   ]
  },
  {
   "cell_type": "code",
   "execution_count": 346,
   "id": "17563bda-3188-40e4-9e70-54a26b42f2f1",
   "metadata": {},
   "outputs": [
    {
     "name": "stdout",
     "output_type": "stream",
     "text": [
      "[1, 2, 3, 4, 5, 6, 7, 8, 9]\n"
     ]
    }
   ],
   "source": [
    "print(mergeSort(cList,0,8))"
   ]
  },
  {
   "cell_type": "markdown",
   "id": "f13bda09-bfc8-4cfa-912f-08909966f0a8",
   "metadata": {},
   "source": [
    "<hr>\n",
    "\n",
    "### Quick Sort"
   ]
  },
  {
   "cell_type": "code",
   "execution_count": 357,
   "id": "3f13ea0f-0ed1-484b-95b5-8c5af1a0da30",
   "metadata": {},
   "outputs": [],
   "source": [
    "def swap(my_list, index1, index2):\n",
    "    my_list[index1], my_list[index2] = my_list[index2], my_list[index1]\n",
    "    \n",
    "def pivot(my_list, pivot_index, end_index):\n",
    "    swap_index = pivot_index\n",
    "    for i in range(pivot_index+1, end_index+1):\n",
    "        if my_list[i]<my_list[pivot_index]:\n",
    "            swap_index+=1\n",
    "            swap(my_list, swap_index, i)\n",
    "    swap(my_list,pivot_index,swap_index)\n",
    "    return swap_index"
   ]
  },
  {
   "cell_type": "code",
   "execution_count": 395,
   "id": "53251496-9ba3-44dc-bcd1-150a678ee301",
   "metadata": {},
   "outputs": [],
   "source": [
    "myList = [3,5,0,6,2,1,4]"
   ]
  },
  {
   "cell_type": "code",
   "execution_count": 361,
   "id": "d463722c-deb8-40b7-9486-2e1b10c84414",
   "metadata": {},
   "outputs": [
    {
     "name": "stdout",
     "output_type": "stream",
     "text": [
      "3\n"
     ]
    }
   ],
   "source": [
    "print(pivot(myList,0,6))"
   ]
  },
  {
   "cell_type": "code",
   "execution_count": 363,
   "id": "22b8b5d9-7ae9-4144-9fc4-1577e9bd1d90",
   "metadata": {},
   "outputs": [
    {
     "name": "stdout",
     "output_type": "stream",
     "text": [
      "[1, 0, 2, 3, 5, 6, 4]\n"
     ]
    }
   ],
   "source": [
    "print(myList)"
   ]
  },
  {
   "cell_type": "code",
   "execution_count": 403,
   "id": "91532ecf-d8e4-4fe3-98a7-65d865c2719b",
   "metadata": {},
   "outputs": [],
   "source": [
    "def quickSort_helper(my_list, left, right):\n",
    "    if left<right:\n",
    "        pivot_index = pivot(my_list, left, right)\n",
    "        quickSort_helper(my_list,left,pivot_index-1)\n",
    "        quickSort_helper(my_list,pivot_index+1, right)\n",
    "    return my_list\n",
    "\n",
    "def quickSort(my_list):\n",
    "    return quickSort_helper(my_list, 0, len(my_list)-1)"
   ]
  },
  {
   "cell_type": "code",
   "execution_count": 405,
   "id": "0abdc53a-58cd-4778-8bfb-cbc7b47fe6d9",
   "metadata": {},
   "outputs": [
    {
     "data": {
      "text/plain": [
       "[0, 1, 2, 3, 4, 5, 6]"
      ]
     },
     "execution_count": 405,
     "metadata": {},
     "output_type": "execute_result"
    }
   ],
   "source": [
    "quickSort(myList)"
   ]
  },
  {
   "cell_type": "code",
   "execution_count": 407,
   "id": "113a1809-b2ce-4b2a-b22d-3e11e99323e0",
   "metadata": {},
   "outputs": [
    {
     "data": {
      "text/plain": [
       "[0, 1, 2, 3, 4, 5, 6]"
      ]
     },
     "execution_count": 407,
     "metadata": {},
     "output_type": "execute_result"
    }
   ],
   "source": [
    "myList"
   ]
  },
  {
   "cell_type": "markdown",
   "id": "b783324c-8461-4b5b-ab36-edbd65159990",
   "metadata": {},
   "source": [
    "<hr>\n",
    "\n",
    "### Heap Sort\n",
    "- Insert data in Binary Heap\n",
    "- Extract data from Binary Heap\n",
    "- Best suited with array and does not work with linked list"
   ]
  },
  {
   "cell_type": "code",
   "execution_count": 410,
   "id": "0b6349c5-4ee3-4ab9-960f-04cfde2a1495",
   "metadata": {},
   "outputs": [],
   "source": [
    "def heapify(customList, n, i):\n",
    "    smallest = i\n",
    "    l = 2*i + 1\n",
    "    r = 2*i + 2\n",
    "    if l<n and customList[l]<customList[smallest]:\n",
    "        smallest = l\n",
    "    if r<n and customList[r]<customList[smallest]:\n",
    "        smallest = r\n",
    "    \n",
    "    if smallest != i:\n",
    "        customList[i], customList[smallest] = customList[smallest], customList[i]\n",
    "        heapify(customList, n, smallest)"
   ]
  },
  {
   "cell_type": "code",
   "execution_count": 426,
   "id": "fa090c19-a303-49b9-954c-5f919e5116c3",
   "metadata": {},
   "outputs": [],
   "source": [
    "def heapSort(customList):\n",
    "    n=len(customList)\n",
    "    for i in range(int(n/2)-1,-1,-1):\n",
    "        heapify(customList, n, i)\n",
    "    \n",
    "    for i in range(n-1,0,-1):\n",
    "        customList[i], customList[0] = customList[0], customList[i]\n",
    "        heapify(customList, i, 0)\n",
    "        \n",
    "    customList.reverse()"
   ]
  },
  {
   "cell_type": "code",
   "execution_count": 428,
   "id": "c078dfbd-8b03-48ad-a5bd-c2f76d1bbb7b",
   "metadata": {},
   "outputs": [],
   "source": [
    "myList = [3,5,0,6,2,1,4]"
   ]
  },
  {
   "cell_type": "code",
   "execution_count": 430,
   "id": "a4a3d9ad-5778-43a9-b5c8-24dfeb4670a0",
   "metadata": {},
   "outputs": [],
   "source": [
    "heapSort(myList)"
   ]
  },
  {
   "cell_type": "code",
   "execution_count": 432,
   "id": "4eb006a4-5512-4fbb-b47a-7fdb2b856ed7",
   "metadata": {},
   "outputs": [
    {
     "data": {
      "text/plain": [
       "[0, 1, 2, 3, 4, 5, 6]"
      ]
     },
     "execution_count": 432,
     "metadata": {},
     "output_type": "execute_result"
    }
   ],
   "source": [
    "myList"
   ]
  },
  {
   "cell_type": "markdown",
   "id": "ade5cc5c-2f29-45bb-a1a7-af97085ed530",
   "metadata": {},
   "source": [
    "<hr>"
   ]
  },
  {
   "cell_type": "markdown",
   "id": "92fc098d-caf9-4d94-86ce-c58641ce42ce",
   "metadata": {},
   "source": [
    "## Search Algorithms\n",
    "\n",
    "### Linear Search"
   ]
  },
  {
   "cell_type": "code",
   "execution_count": 439,
   "id": "91677547-6c13-4198-bd58-2b1d31787389",
   "metadata": {},
   "outputs": [],
   "source": [
    "def linearSearch(array, value):\n",
    "    for i in range(len(array)):\n",
    "        if array[i] == value:\n",
    "            return i\n",
    "    return -1"
   ]
  },
  {
   "cell_type": "code",
   "execution_count": 443,
   "id": "f4cb374a-456b-4574-a160-be88049eeb9b",
   "metadata": {},
   "outputs": [
    {
     "name": "stdout",
     "output_type": "stream",
     "text": [
      "-1\n"
     ]
    }
   ],
   "source": [
    "print(linearSearch([20,40,30,50,90], 10))"
   ]
  },
  {
   "cell_type": "markdown",
   "id": "5426cc35-9232-4e0d-8f76-b668ac278f7d",
   "metadata": {},
   "source": [
    "### Binary Search\n",
    "Only for sorted arrays."
   ]
  },
  {
   "cell_type": "code",
   "execution_count": 453,
   "id": "dbd593e7-74b1-4306-ba2f-3e412e77b311",
   "metadata": {},
   "outputs": [],
   "source": [
    "def binarySearch(array, value):\n",
    "    start = 0\n",
    "    end = len(array)-1\n",
    "    middle = math.floor((start+end)/2)\n",
    "    #print(start, middle, end)\n",
    "    while not(array[middle]==value) and start<=end:\n",
    "        if value<array[middle]:\n",
    "            end = middle-1\n",
    "        else:\n",
    "            start = middle+1\n",
    "        middle = math.floor((start+end)/2)\n",
    "    \n",
    "    if array[middle]==value:\n",
    "        return middle\n",
    "    else:\n",
    "        return -1"
   ]
  },
  {
   "cell_type": "code",
   "execution_count": 455,
   "id": "796b94a6-ff0c-492b-92d1-741b8078ff35",
   "metadata": {},
   "outputs": [],
   "source": [
    "custArray = [8,9,12,15,17,19,20,21,28]"
   ]
  },
  {
   "cell_type": "code",
   "execution_count": 459,
   "id": "eb41b5f6-d99b-4ce9-93b7-0379b6dc41de",
   "metadata": {},
   "outputs": [
    {
     "data": {
      "text/plain": [
       "-1"
      ]
     },
     "execution_count": 459,
     "metadata": {},
     "output_type": "execute_result"
    }
   ],
   "source": [
    "binarySearch(custArray, 1)"
   ]
  },
  {
   "cell_type": "markdown",
   "id": "d26e0347-e2c8-4574-9ec8-4087882d285b",
   "metadata": {},
   "source": [
    "<hr>\n",
    "\n",
    "## Graph Algorithms"
   ]
  },
  {
   "cell_type": "code",
   "execution_count": 4,
   "id": "fc56d79c-03e5-4c3c-8915-c26278d2689e",
   "metadata": {},
   "outputs": [],
   "source": [
    "class Graph:\n",
    "    def __init__(self, gdict=None):\n",
    "        if gdict is None:\n",
    "            gdict={}\n",
    "        self.gdict = gdict\n",
    "    \n",
    "    def addEdge(self, vertex, edge):\n",
    "        self.gdict[vertex].append(edge)"
   ]
  },
  {
   "cell_type": "code",
   "execution_count": 6,
   "id": "3ee1460a-36f4-4b8d-95d4-71cd8a44a80f",
   "metadata": {},
   "outputs": [],
   "source": [
    "customDict = {\"a\": [\"b\", \"c\"],\n",
    "             \"b\": [\"a\", \"d\", \"e\"],\n",
    "             \"c\": [\"a\", \"e\"],\n",
    "             \"d\": [\"b\", \"e\", \"f\"],\n",
    "             \"e\": [\"d\", \"f\", \"c\"],\n",
    "             \"f\": [\"d\",\"e\"]\n",
    "             }"
   ]
  },
  {
   "cell_type": "code",
   "execution_count": 8,
   "id": "b1990b03-8108-4f1f-aee0-26ff56c216da",
   "metadata": {},
   "outputs": [],
   "source": [
    "graph = Graph(customDict)"
   ]
  },
  {
   "cell_type": "code",
   "execution_count": 10,
   "id": "217ea937-749f-4f18-a78d-6f1a8cc99ece",
   "metadata": {},
   "outputs": [
    {
     "name": "stdout",
     "output_type": "stream",
     "text": [
      "{'a': ['b', 'c'], 'b': ['a', 'd', 'e'], 'c': ['a', 'e'], 'd': ['b', 'e', 'f'], 'e': ['d', 'f', 'c'], 'f': ['d', 'e']}\n"
     ]
    }
   ],
   "source": [
    "print(graph.gdict)"
   ]
  },
  {
   "cell_type": "code",
   "execution_count": 60,
   "id": "5bac00b2-8918-4d3a-add2-3f00f9be3f6b",
   "metadata": {},
   "outputs": [],
   "source": [
    "class Graph:\n",
    "    def __init__(self):\n",
    "        self.adjacency_list = {}\n",
    "    \n",
    "    def add_vertex(self, vertex):\n",
    "        if vertex not in self.adjacency_list.keys():\n",
    "            self.adjacency_list[vertex]=[]\n",
    "            return True\n",
    "        return False\n",
    "    \n",
    "    def print_graph(self):\n",
    "        for vertex in self.adjacency_list:\n",
    "            print(vertex,\":\", self.adjacency_list[vertex])\n",
    "            \n",
    "    def add_edge(self, vertex1, vertex2):\n",
    "        if vertex1 in self.adjacency_list.keys() and vertex2 in self.adjacency_list.keys():\n",
    "            self.adjacency_list[vertex1].append(vertex2)\n",
    "            self.adjacency_list[vertex2].append(vertex1)\n",
    "            return True\n",
    "        return False\n",
    "    \n",
    "    def remove_edge(self, vertex1, vertex2):\n",
    "        if vertex1 in self.adjacency_list.keys() and vertex2 in self.adjacency_list.keys():\n",
    "            try:\n",
    "                self.adjacency_list[vertex1].remove(vertex2)\n",
    "                self.adjacency_list[vertex2].remove(vertex1)\n",
    "            except ValueError:\n",
    "                pass\n",
    "            return True\n",
    "        return False\n",
    "    \n",
    "    def remove_vertex(self, vertex):\n",
    "        if vertex in self.adjacency_list.keys():\n",
    "            for other_vertex in self.adjacency_list[vertex]:\n",
    "                self.adjacency_list[other_vertex].remove(vertex)\n",
    "            del self.adjacency_list[vertex]\n",
    "            return True\n",
    "        return False"
   ]
  },
  {
   "cell_type": "code",
   "execution_count": 62,
   "id": "c1be09d7-37dc-4cfa-95ac-ca7a1eae0a40",
   "metadata": {},
   "outputs": [
    {
     "name": "stdout",
     "output_type": "stream",
     "text": [
      "A : ['B', 'C']\n",
      "B : ['A', 'C']\n",
      "C : ['A', 'B']\n"
     ]
    }
   ],
   "source": [
    "graph = Graph()\n",
    "graph.add_vertex(\"A\")\n",
    "graph.add_vertex(\"B\")\n",
    "graph.add_vertex(\"C\")\n",
    "graph.add_edge(\"A\", \"B\")\n",
    "graph.add_edge(\"A\", \"C\")\n",
    "graph.add_edge(\"B\", \"C\")\n",
    "graph.print_graph()"
   ]
  },
  {
   "cell_type": "code",
   "execution_count": 64,
   "id": "98f9c5bf-ce73-4f9a-a824-ab5ae104dbfb",
   "metadata": {},
   "outputs": [
    {
     "name": "stdout",
     "output_type": "stream",
     "text": [
      "A : ['B']\n",
      "B : ['A', 'C']\n",
      "C : ['B']\n"
     ]
    }
   ],
   "source": [
    "graph.remove_edge(\"A\", \"C\")\n",
    "graph.print_graph()"
   ]
  },
  {
   "cell_type": "code",
   "execution_count": 66,
   "id": "04b4c2a9-3f00-4620-9c96-94703f8b1ebe",
   "metadata": {},
   "outputs": [
    {
     "data": {
      "text/plain": [
       "True"
      ]
     },
     "execution_count": 66,
     "metadata": {},
     "output_type": "execute_result"
    }
   ],
   "source": [
    "graph.add_vertex(\"D\")"
   ]
  },
  {
   "cell_type": "code",
   "execution_count": 68,
   "id": "b1a81cb2-b6e3-43d8-9228-0361cb1b55df",
   "metadata": {},
   "outputs": [
    {
     "data": {
      "text/plain": [
       "True"
      ]
     },
     "execution_count": 68,
     "metadata": {},
     "output_type": "execute_result"
    }
   ],
   "source": [
    "graph.remove_edge(\"A\", \"D\")"
   ]
  },
  {
   "cell_type": "code",
   "execution_count": 70,
   "id": "dfd04748-058b-452c-8af7-50ec0dfb126a",
   "metadata": {},
   "outputs": [
    {
     "name": "stdout",
     "output_type": "stream",
     "text": [
      "A : ['B']\n",
      "B : ['A', 'C']\n",
      "C : ['B']\n",
      "D : []\n"
     ]
    }
   ],
   "source": [
    "graph.print_graph()"
   ]
  },
  {
   "cell_type": "code",
   "execution_count": 72,
   "id": "69c636e8-f28c-450a-8891-b358eab121fd",
   "metadata": {},
   "outputs": [
    {
     "data": {
      "text/plain": [
       "True"
      ]
     },
     "execution_count": 72,
     "metadata": {},
     "output_type": "execute_result"
    }
   ],
   "source": [
    "graph.remove_vertex(\"B\")"
   ]
  },
  {
   "cell_type": "code",
   "execution_count": 76,
   "id": "b7bfaee8-5632-41d5-9954-d9c67d9a7f0b",
   "metadata": {},
   "outputs": [
    {
     "name": "stdout",
     "output_type": "stream",
     "text": [
      "A : []\n",
      "C : []\n",
      "D : []\n"
     ]
    }
   ],
   "source": [
    "graph.print_graph()"
   ]
  },
  {
   "cell_type": "markdown",
   "id": "dd1ca210-769a-4b2a-b7ad-f223887ca72c",
   "metadata": {},
   "source": [
    "<hr>\n",
    "\n",
    "## Graph Traversal\n",
    "- BFS & DFS"
   ]
  },
  {
   "cell_type": "code",
   "execution_count": 120,
   "id": "4ff624b2-c42b-4166-a590-785b9e270e45",
   "metadata": {},
   "outputs": [],
   "source": [
    "class Graph:\n",
    "    def __init__(self):\n",
    "        self.adjacency_list = {}\n",
    "    \n",
    "    def add_vertex(self, vertex):\n",
    "        if vertex not in self.adjacency_list.keys():\n",
    "            self.adjacency_list[vertex]=[]\n",
    "            return True\n",
    "        return False\n",
    "    \n",
    "    def print_graph(self):\n",
    "        for vertex in self.adjacency_list:\n",
    "            print(vertex,\":\", self.adjacency_list[vertex])\n",
    "            \n",
    "    def add_edge(self, vertex1, vertex2):\n",
    "        if vertex1 in self.adjacency_list.keys() and vertex2 in self.adjacency_list.keys():\n",
    "            self.adjacency_list[vertex1].append(vertex2)\n",
    "            self.adjacency_list[vertex2].append(vertex1)\n",
    "            return True\n",
    "        return False\n",
    "    \n",
    "    def remove_edge(self, vertex1, vertex2):\n",
    "        if vertex1 in self.adjacency_list.keys() and vertex2 in self.adjacency_list.keys():\n",
    "            try:\n",
    "                self.adjacency_list[vertex1].remove(vertex2)\n",
    "                self.adjacency_list[vertex2].remove(vertex1)\n",
    "            except ValueError:\n",
    "                pass\n",
    "            return True\n",
    "        return False\n",
    "    \n",
    "    def remove_vertex(self, vertex):\n",
    "        if vertex in self.adjacency_list.keys():\n",
    "            for other_vertex in self.adjacency_list[vertex]:\n",
    "                self.adjacency_list[other_vertex].remove(vertex)\n",
    "            del self.adjacency_list[vertex]\n",
    "            return True\n",
    "        return False\n",
    "    \n",
    "    def bfs(self, vertex):\n",
    "        visited = set()\n",
    "        visited.add(vertex)\n",
    "        queue = deque([vertex])\n",
    "        while queue:\n",
    "            current_vertex = queue.popleft()\n",
    "            print(current_vertex)\n",
    "            for adjacent_vertex in self.adjacency_list[current_vertex]:\n",
    "                if adjacent_vertex not in visited:\n",
    "                    visited.add(adjacent_vertex)\n",
    "                    queue.append(adjacent_vertex)\n",
    "    \n",
    "    def dfs(self, vertex):\n",
    "        visited = set()\n",
    "        stack = [vertex]\n",
    "        while stack:\n",
    "            current_vertex = stack.pop()\n",
    "            if current_vertex not in visited:\n",
    "                print(current_vertex)\n",
    "                visited.add(current_vertex)\n",
    "            for adjacent_vertex in self.adjacency_list[current_vertex]:\n",
    "                if adjacent_vertex not in visited:\n",
    "                    stack.append(adjacent_vertex)"
   ]
  },
  {
   "cell_type": "code",
   "execution_count": 122,
   "id": "b42a0db3-a039-4d22-8b31-846b32963436",
   "metadata": {},
   "outputs": [
    {
     "name": "stdout",
     "output_type": "stream",
     "text": [
      "A : ['B', 'C']\n",
      "B : ['A', 'E']\n",
      "C : ['A', 'D']\n",
      "D : ['C', 'E']\n",
      "E : ['B', 'D']\n"
     ]
    }
   ],
   "source": [
    "graph = Graph()\n",
    "graph.add_vertex(\"A\")\n",
    "graph.add_vertex(\"B\")\n",
    "graph.add_vertex(\"C\")\n",
    "graph.add_vertex(\"D\")\n",
    "graph.add_vertex(\"E\")\n",
    "graph.add_edge(\"A\", \"B\")\n",
    "graph.add_edge(\"A\", \"C\")\n",
    "graph.add_edge(\"B\", \"E\")\n",
    "graph.add_edge(\"C\", \"D\")\n",
    "graph.add_edge(\"D\", \"E\")\n",
    "graph.print_graph()"
   ]
  },
  {
   "cell_type": "code",
   "execution_count": 124,
   "id": "661a044f-ad8d-46bf-ae82-2a846665f68a",
   "metadata": {},
   "outputs": [
    {
     "name": "stdout",
     "output_type": "stream",
     "text": [
      "A\n",
      "B\n",
      "C\n",
      "E\n",
      "D\n"
     ]
    }
   ],
   "source": [
    "graph.bfs(\"A\") # O(V+E)"
   ]
  },
  {
   "cell_type": "code",
   "execution_count": 126,
   "id": "9a0b8fdf-03c9-4c3a-8ca5-4d2f70a625b1",
   "metadata": {},
   "outputs": [
    {
     "name": "stdout",
     "output_type": "stream",
     "text": [
      "A\n",
      "C\n",
      "D\n",
      "E\n",
      "B\n"
     ]
    }
   ],
   "source": [
    "graph.dfs(\"A\")"
   ]
  },
  {
   "cell_type": "markdown",
   "id": "f678d079-22b4-4b51-9f6d-52a260423555",
   "metadata": {},
   "source": [
    "<hr>\n",
    "\n",
    "## Topological Sort"
   ]
  },
  {
   "cell_type": "code",
   "execution_count": 129,
   "id": "dcce4e51-b352-47a3-b2dc-4a5f5883869d",
   "metadata": {},
   "outputs": [],
   "source": [
    "from collections import defaultdict"
   ]
  },
  {
   "cell_type": "code",
   "execution_count": 137,
   "id": "ea6f0b54-d81d-45a3-88fe-7e55799afa80",
   "metadata": {},
   "outputs": [],
   "source": [
    "class Graph:\n",
    "    def __init__(self, numberofVertices):\n",
    "        self.graph = defaultdict(list)\n",
    "        self.numberofVertices = numberofVertices\n",
    "    \n",
    "    def addEdge(self, vertex, edge):\n",
    "        self.graph[vertex].append(edge)\n",
    "        \n",
    "    def topologicalSortUtil(self, v, visited, stack):\n",
    "        visited.append(v)\n",
    "        \n",
    "        for i in self.graph[v]:\n",
    "            if i not in visited:\n",
    "                self.topologicalSortUtil(i, visited, stack)\n",
    "        \n",
    "        stack.insert(0,v)\n",
    "        \n",
    "    def topologicalSort(self):\n",
    "        visited = []\n",
    "        stack = []\n",
    "        \n",
    "        for k in list(self.graph):\n",
    "            if k not in visited:\n",
    "                self.topologicalSortUtil(k, visited, stack)\n",
    "            \n",
    "        print(stack)"
   ]
  },
  {
   "cell_type": "code",
   "execution_count": 139,
   "id": "26e4d6e0-7989-4bf2-848a-576038e0c362",
   "metadata": {},
   "outputs": [],
   "source": [
    "graph = Graph(8)\n",
    "graph.addEdge(\"A\",\"C\")\n",
    "graph.addEdge(\"C\",\"E\")\n",
    "graph.addEdge(\"E\",\"H\")\n",
    "graph.addEdge(\"E\",\"F\")\n",
    "graph.addEdge(\"F\",\"G\")\n",
    "graph.addEdge(\"B\",\"D\")\n",
    "graph.addEdge(\"B\",\"C\")\n",
    "graph.addEdge(\"D\",\"F\")"
   ]
  },
  {
   "cell_type": "code",
   "execution_count": 143,
   "id": "7e3152df-da43-463c-b16c-9948c8afc5d7",
   "metadata": {},
   "outputs": [
    {
     "name": "stdout",
     "output_type": "stream",
     "text": [
      "['B', 'D', 'A', 'C', 'E', 'F', 'G', 'H']\n"
     ]
    }
   ],
   "source": [
    "graph.topologicalSort()"
   ]
  },
  {
   "cell_type": "markdown",
   "id": "e1b84514-5924-4d38-b387-122f4496ec78",
   "metadata": {},
   "source": [
    "<hr>\n",
    "\n",
    "## Single Source Shortest Path"
   ]
  },
  {
   "cell_type": "code",
   "execution_count": 146,
   "id": "65255dcb-3d4b-4b5f-9b97-62bcff4ff77d",
   "metadata": {},
   "outputs": [],
   "source": [
    "class Graph:\n",
    "    def __init__(self, gdict=None):\n",
    "        if gdict is None:\n",
    "            gdict = {}\n",
    "        self.gdict = gdict\n",
    "        \n",
    "    def bfs(self, start, end):\n",
    "        queue = []\n",
    "        queue.append([start])\n",
    "        while queue:\n",
    "            path = queue.pop(0)\n",
    "            node = path[-1]\n",
    "            if node == end:\n",
    "                return path\n",
    "            for adjacent in self.gdict.get(node,[]):\n",
    "                new_path = list(path)\n",
    "                new_path.append(adjacent)\n",
    "                queue.append(new_path)"
   ]
  },
  {
   "cell_type": "code",
   "execution_count": 148,
   "id": "2f7c8160-ab0f-4ff7-8547-266a3454a2b6",
   "metadata": {},
   "outputs": [],
   "source": [
    "customDict={\"a\":[\"b\",\"c\"],\n",
    "            \"b\":[\"d\",\"g\"],\n",
    "            \"c\":[\"d\",\"e\"],\n",
    "            \"d\":[\"f\"],\n",
    "            \"e\":[\"f\"],\n",
    "            \"g\":[\"f\"]}"
   ]
  },
  {
   "cell_type": "code",
   "execution_count": 150,
   "id": "60e7d38e-404b-47d3-a935-3eeb71febcb8",
   "metadata": {},
   "outputs": [],
   "source": [
    "g = Graph(customDict)"
   ]
  },
  {
   "cell_type": "code",
   "execution_count": 152,
   "id": "e4f68f58-faf0-4dd1-bce7-a3c1c509ee1b",
   "metadata": {},
   "outputs": [
    {
     "name": "stdout",
     "output_type": "stream",
     "text": [
      "['a', 'c', 'e']\n"
     ]
    }
   ],
   "source": [
    "print(g.bfs(\"a\",\"e\"))"
   ]
  },
  {
   "cell_type": "markdown",
   "id": "da518145-d0b2-4473-abd4-0b8ec165b7eb",
   "metadata": {},
   "source": [
    "### Dijkstra\n",
    "Does not work with negative cycle."
   ]
  },
  {
   "cell_type": "code",
   "execution_count": 181,
   "id": "9bb5ce52-2275-46ff-8020-fedc3877fea0",
   "metadata": {},
   "outputs": [],
   "source": [
    "class Edge:\n",
    "    def __init__(self, weight, start_vertex, target_vertex):\n",
    "        self.weight = weight\n",
    "        self.start_vertex = start_vertex\n",
    "        self.target_vertex = target_vertex\n",
    "\n",
    "class Node:\n",
    "    def __init__(self, name):\n",
    "        self.name = name\n",
    "        self.visited = False\n",
    "        self.predecessor = None\n",
    "        self.neighbors = []\n",
    "        self.min_distance = float(\"inf\")\n",
    "    \n",
    "    def __lt__(self, other_node):\n",
    "        return self.min_distance < other_node.min_distance\n",
    "    \n",
    "    def add_edge(self, weight, destination_vertex):\n",
    "        edge = Edge(weight, self, destination_vertex)\n",
    "        self.neighbors.append(edge)"
   ]
  },
  {
   "cell_type": "code",
   "execution_count": 183,
   "id": "dce33832-9726-44b5-a1d2-e5f3c978bbb3",
   "metadata": {},
   "outputs": [],
   "source": [
    "import heapq"
   ]
  },
  {
   "cell_type": "code",
   "execution_count": 185,
   "id": "35608d17-0818-42c8-afe8-e4f22028cbda",
   "metadata": {},
   "outputs": [],
   "source": [
    "class Dijkstra:\n",
    "    def __init__(self):\n",
    "        self.heap=[]\n",
    "    \n",
    "    def calculate(self, start_vertex):\n",
    "        start_vertex.min_distance = 0\n",
    "        heapq.heappush(self.heap, start_vertex)\n",
    "        while self.heap:\n",
    "            actual_vertex = heapq.heappop(self.heap)\n",
    "            \n",
    "            if actual_vertex.visited:\n",
    "                continue\n",
    "            \n",
    "            for edge in actual_vertex.neighbors:\n",
    "                start = edge.start_vertex\n",
    "                target = edge.target_vertex\n",
    "                new_distance = start.min_distance + edge.weight\n",
    "                if new_distance < target.min_distance:\n",
    "                    target.min_distance = new_distance\n",
    "                    target.predecessor = start\n",
    "                    heapq.heappush(self.heap, target)\n",
    "            \n",
    "            actual_vertex.visited = True\n",
    "    \n",
    "    def get_shortest_path(self, vertex):\n",
    "        print(f\"The shortest path to the vertex is:{vertex.min_distance}\")\n",
    "        actual_vertex = vertex\n",
    "        while actual_vertex is not None:\n",
    "            print(actual_vertex.name, end=\" \")\n",
    "            actual_vertex = actual_vertex.predecessor"
   ]
  },
  {
   "cell_type": "code",
   "execution_count": 187,
   "id": "de45dd92-bf53-407b-9d0c-9bb4228c5515",
   "metadata": {},
   "outputs": [],
   "source": [
    "nodeA = Node(\"A\")\n",
    "nodeB = Node(\"B\")\n",
    "nodeC = Node(\"C\")\n",
    "nodeD = Node(\"D\")\n",
    "nodeE = Node(\"E\")\n",
    "nodeF = Node(\"F\")\n",
    "nodeG = Node(\"G\")\n",
    "nodeH = Node(\"H\")\n",
    "\n",
    "nodeA.add_edge(6, nodeB)\n",
    "nodeA.add_edge(10, nodeC)\n",
    "nodeA.add_edge(9, nodeD)\n",
    "\n",
    "nodeB.add_edge(5, nodeD)\n",
    "nodeB.add_edge(16, nodeE)\n",
    "nodeB.add_edge(13, nodeF)\n",
    "\n",
    "nodeC.add_edge(6, nodeD)\n",
    "nodeC.add_edge(5, nodeH)\n",
    "nodeC.add_edge(21, nodeG)\n",
    "\n",
    "nodeD.add_edge(8 , nodeF)\n",
    "nodeD.add_edge(7 , nodeH)\n",
    "\n",
    "nodeE.add_edge(10, nodeG)\n",
    "\n",
    "nodeF.add_edge(4, nodeE)\n",
    "nodeF.add_edge(12, nodeG)\n",
    "\n",
    "nodeH.add_edge(2, nodeF)\n",
    "nodeH.add_edge(14, nodeG)"
   ]
  },
  {
   "cell_type": "code",
   "execution_count": 189,
   "id": "77fef0a2-6d98-402f-8bdb-1f7160cd5624",
   "metadata": {},
   "outputs": [],
   "source": [
    "algorithm = Dijkstra()"
   ]
  },
  {
   "cell_type": "code",
   "execution_count": 191,
   "id": "a189bcdf-a3d8-489a-949c-111fc6a28c96",
   "metadata": {},
   "outputs": [],
   "source": [
    "algorithm.calculate(nodeA)"
   ]
  },
  {
   "cell_type": "code",
   "execution_count": 199,
   "id": "e45124f7-66f7-46bf-a493-c0bd7e4972dc",
   "metadata": {},
   "outputs": [
    {
     "name": "stdout",
     "output_type": "stream",
     "text": [
      "The shortest path to the vertex is:29\n",
      "G H C A "
     ]
    }
   ],
   "source": [
    "algorithm.get_shortest_path(nodeG)"
   ]
  },
  {
   "cell_type": "markdown",
   "id": "513328ee-0c2b-4fee-a72a-84756b6bf848",
   "metadata": {},
   "source": [
    "### Bellman Ford"
   ]
  },
  {
   "cell_type": "code",
   "execution_count": 220,
   "id": "31b88e3f-410a-4ec6-a478-464294a42fc1",
   "metadata": {},
   "outputs": [],
   "source": [
    "class Graph:\n",
    "    def __init__(self, vertices):\n",
    "        self.v = vertices\n",
    "        self.graph = []\n",
    "        self.nodes = []\n",
    "    \n",
    "    def add_edge(self, s, d, w):\n",
    "        self.graph.append([s,d,w])\n",
    "    \n",
    "    def addNode(self, value):\n",
    "        self.nodes.append(value)\n",
    "    \n",
    "    def print_solution(self, dist):\n",
    "        print(\"Vertex Distance from Source\")\n",
    "        for key, value in dist.items():\n",
    "            print(' ' + key, ':  ', value)\n",
    "    \n",
    "    def bellmanFord(self, src):\n",
    "        dist = {i: float(\"inf\") for i in self.nodes}\n",
    "        dist[src] = 0\n",
    "        \n",
    "        for _ in range(self.v-1):\n",
    "            for s,d,w in self.graph:\n",
    "                if dist[s]!=float(\"inf\") and dist[s] + w < dist[d]:\n",
    "                    dist[d] = dist[s] + w\n",
    "        \n",
    "        for s,d,w in self.graph:\n",
    "            if dist[s] != float(\"inf\") and dist[s] + w < dist[d]:\n",
    "                print(\"Graph contains negative cycle\")\n",
    "                return\n",
    "        \n",
    "        self.print_solution(dist)"
   ]
  },
  {
   "cell_type": "code",
   "execution_count": 230,
   "id": "4934ae09-b8d9-4cee-af1b-cd4a0ade5a3c",
   "metadata": {},
   "outputs": [],
   "source": [
    "g = Graph(5)\n",
    "g.addNode(\"A\")\n",
    "g.addNode(\"B\")\n",
    "g.addNode(\"C\")\n",
    "g.addNode(\"D\")\n",
    "g.addNode(\"E\")\n",
    "g.add_edge(\"A\", \"C\", 6)\n",
    "g.add_edge(\"A\", \"D\", 6)\n",
    "g.add_edge(\"B\", \"A\", 3)\n",
    "g.add_edge(\"C\", \"D\", 1)\n",
    "g.add_edge(\"D\", \"C\", 2)\n",
    "g.add_edge(\"D\", \"B\", 1)\n",
    "g.add_edge(\"E\", \"B\", 4)\n",
    "g.add_edge(\"E\", \"D\", 2)"
   ]
  },
  {
   "cell_type": "code",
   "execution_count": 232,
   "id": "4ce3213a-1bd5-4bc4-9de0-765a1bb9223b",
   "metadata": {},
   "outputs": [
    {
     "name": "stdout",
     "output_type": "stream",
     "text": [
      "Vertex Distance from Source\n",
      " A :   6\n",
      " B :   3\n",
      " C :   4\n",
      " D :   2\n",
      " E :   0\n"
     ]
    }
   ],
   "source": [
    "g.bellmanFord(\"E\")"
   ]
  },
  {
   "cell_type": "markdown",
   "id": "0f3be436-2e44-4a50-afb7-c0e84c3675cd",
   "metadata": {},
   "source": [
    "### Floyd Warshall Algorithm"
   ]
  },
  {
   "cell_type": "code",
   "execution_count": 235,
   "id": "264529f2-863d-4938-89bf-2a60204954ce",
   "metadata": {},
   "outputs": [],
   "source": [
    "def printSolution(nV, distance):\n",
    "    for i in range(nV):\n",
    "        for j in range(nV):\n",
    "            if(distance[i][j] == INF):\n",
    "                print(\"INF\", end=\" \")\n",
    "            else:\n",
    "                print(distance[i][j], end=\" \")\n",
    "        print(\" \")\n",
    "\n",
    "def floydWarshall(nV, G):\n",
    "    distance = G\n",
    "    for k in range(nV):\n",
    "        for i in range(nV):\n",
    "            for j in range(nV):\n",
    "                distance[i][j] = min(distance[i][j], distance[i][k] + distance[k][j])\n",
    "    \n",
    "    printSolution(nV, distance)"
   ]
  },
  {
   "cell_type": "code",
   "execution_count": 237,
   "id": "580cdf09-5ce0-4638-b0a2-a2cb5b403c34",
   "metadata": {},
   "outputs": [],
   "source": [
    "INF = 9999"
   ]
  },
  {
   "cell_type": "code",
   "execution_count": 239,
   "id": "cdc245d2-3c72-4752-adc3-57f683670120",
   "metadata": {},
   "outputs": [],
   "source": [
    "G = [[0, 8, INF, 1],\n",
    "    [INF, 0, 1, INF],\n",
    "    [4, INF, 0, INF],\n",
    "    [INF, 2, 9, 1]]"
   ]
  },
  {
   "cell_type": "code",
   "execution_count": 241,
   "id": "b63b83f7-2c12-4582-aeb8-2eca6e3eaef1",
   "metadata": {},
   "outputs": [
    {
     "name": "stdout",
     "output_type": "stream",
     "text": [
      "0 3 4 1  \n",
      "5 0 1 6  \n",
      "4 7 0 5  \n",
      "7 2 3 1  \n"
     ]
    }
   ],
   "source": [
    "floydWarshall(4, G)"
   ]
  },
  {
   "cell_type": "markdown",
   "id": "bb33a245-8249-4e7a-9b30-38f3223b6040",
   "metadata": {},
   "source": [
    "### Minimum Spanning Tree\n",
    "- All vertices connected with lowest number of edges possible.\n",
    "- No cycle"
   ]
  },
  {
   "cell_type": "code",
   "execution_count": 244,
   "id": "a97c489f-1851-4284-9de5-64709a4aa694",
   "metadata": {},
   "outputs": [],
   "source": [
    "class DisjointSet:\n",
    "    def __init__(self, vertices):\n",
    "        self.vertices = vertices\n",
    "        self.parent = {}\n",
    "        for v in vertices:\n",
    "            self.parent[v] = v\n",
    "        self.rank = dict.fromkeys(vertices, 0)\n",
    "    \n",
    "    def find(self, item):\n",
    "        if self.parent[item] == item:\n",
    "            return item\n",
    "        else:\n",
    "            return self.find(self.parent[item])\n",
    "    \n",
    "    def union(self, x, y):\n",
    "        xroot = self.find(x)\n",
    "        yroot = self.find(y)\n",
    "        \n",
    "        if self.rank[xroot] < self.rank[yroot]:\n",
    "            self.parent[xroot] = yroot\n",
    "        elif self.rank[xroot] > self.rank[yroot]:\n",
    "            self.parent[yroot] = xroot\n",
    "        else:\n",
    "            self.parent[yroot] = xroot\n",
    "            self.rank[xroot] += 1"
   ]
  },
  {
   "cell_type": "code",
   "execution_count": 246,
   "id": "e3df8aa1-738c-4a76-8584-0df7a282cb15",
   "metadata": {},
   "outputs": [],
   "source": [
    "vertices = [\"A\", \"B\", \"C\", \"D\", \"E\"]"
   ]
  },
  {
   "cell_type": "code",
   "execution_count": 248,
   "id": "1d0583a9-b4f4-4fd1-a8f9-478ea082e11f",
   "metadata": {},
   "outputs": [],
   "source": [
    "ds = DisjointSet(vertices)"
   ]
  },
  {
   "cell_type": "code",
   "execution_count": 250,
   "id": "0d8f72f0-fd85-4579-8b2d-d1f79c189e6a",
   "metadata": {},
   "outputs": [
    {
     "data": {
      "text/plain": [
       "'A'"
      ]
     },
     "execution_count": 250,
     "metadata": {},
     "output_type": "execute_result"
    }
   ],
   "source": [
    "ds.find(\"A\")"
   ]
  },
  {
   "cell_type": "code",
   "execution_count": 252,
   "id": "b74e78e1-542e-497e-b52a-91532b868e5b",
   "metadata": {},
   "outputs": [],
   "source": [
    "ds.union(\"A\",\"B\")"
   ]
  },
  {
   "cell_type": "code",
   "execution_count": 260,
   "id": "ab7724b7-049f-4998-a650-de9efa865d87",
   "metadata": {},
   "outputs": [
    {
     "data": {
      "text/plain": [
       "'A'"
      ]
     },
     "execution_count": 260,
     "metadata": {},
     "output_type": "execute_result"
    }
   ],
   "source": [
    "ds.find(\"B\")"
   ]
  },
  {
   "cell_type": "markdown",
   "id": "e109750a-a838-46ae-8a0b-8a5432366243",
   "metadata": {},
   "source": [
    "### Kruskal's Algorithm"
   ]
  },
  {
   "cell_type": "code",
   "execution_count": 269,
   "id": "185567f7-e217-4069-b96f-a0d9ca506e7d",
   "metadata": {},
   "outputs": [],
   "source": [
    "class Graph:\n",
    "    def __init__(self, vertices):\n",
    "        self.V = vertices\n",
    "        self.graph = []\n",
    "        self.nodes = []\n",
    "        self.MST = []\n",
    "    \n",
    "    def addEdge(self, s, d, w):\n",
    "        self.graph.append([s,d,w])\n",
    "    \n",
    "    def addNode(self, value):\n",
    "        self.nodes.append(value)\n",
    "    \n",
    "    def printSolution(self,s,d,w):\n",
    "        for s, d, w in self.MST:\n",
    "            print(\"%s - %s : %s\" % (s, d, w))\n",
    "            \n",
    "    def kruskalAlgo(self):\n",
    "        i, e = 0, 0\n",
    "        ds = DisjointSet(self.nodes)\n",
    "        self.graph = sorted(self.graph, key=lambda item: item[2])\n",
    "        while e < self.V - 1:\n",
    "            s, d, w  = self.graph[i]\n",
    "            i+=1\n",
    "            x = ds.find(s)\n",
    "            y = ds.find(d)\n",
    "            if x!=y:\n",
    "                e+=1\n",
    "                self.MST.append([s,d,w])\n",
    "                ds.union(x,y)\n",
    "        self.printSolution(s,d,w)"
   ]
  },
  {
   "cell_type": "code",
   "execution_count": 273,
   "id": "87f2f790-603c-4ed0-921d-fdd5d3e59f74",
   "metadata": {},
   "outputs": [],
   "source": [
    "g = Graph(5)\n",
    "g.addNode(\"A\")\n",
    "g.addNode(\"B\")\n",
    "g.addNode(\"C\")\n",
    "g.addNode(\"D\")\n",
    "g.addNode(\"E\")\n",
    "g.addEdge(\"A\", \"B\", 5)\n",
    "g.addEdge(\"A\", \"C\", 13)\n",
    "g.addEdge(\"A\", \"E\", 15)\n",
    "g.addEdge(\"B\", \"A\", 5)\n",
    "g.addEdge(\"B\", \"C\", 10)\n",
    "g.addEdge(\"B\", \"D\", 8)\n",
    "g.addEdge(\"C\", \"A\", 13)\n",
    "g.addEdge(\"C\", \"B\", 10)\n",
    "g.addEdge(\"C\", \"E\", 20)\n",
    "g.addEdge(\"C\", \"D\", 6)\n",
    "g.addEdge(\"D\", \"B\", 8)\n",
    "g.addEdge(\"D\", \"C\", 6)\n",
    "g.addEdge(\"E\", \"A\", 15)\n",
    "g.addEdge(\"E\", \"C\", 20)"
   ]
  },
  {
   "cell_type": "code",
   "execution_count": 275,
   "id": "b15a85b6-2f4a-4a5c-848d-e14272abd021",
   "metadata": {},
   "outputs": [
    {
     "name": "stdout",
     "output_type": "stream",
     "text": [
      "A - B : 5\n",
      "C - D : 6\n",
      "B - D : 8\n",
      "A - E : 15\n"
     ]
    }
   ],
   "source": [
    "g.kruskalAlgo()"
   ]
  },
  {
   "cell_type": "markdown",
   "id": "b0ba9b54-563c-4460-89d6-94012f8aa952",
   "metadata": {},
   "source": [
    "### Prim's Algorithm"
   ]
  },
  {
   "cell_type": "code",
   "execution_count": 278,
   "id": "eb1f058c-3fe4-4538-9817-491af607e183",
   "metadata": {},
   "outputs": [],
   "source": [
    "import sys"
   ]
  },
  {
   "cell_type": "code",
   "execution_count": 298,
   "id": "97cfcb26-7bb8-4c6d-93d8-7ebfa99f0fdc",
   "metadata": {},
   "outputs": [],
   "source": [
    "class Graph:\n",
    "    def __init__(self, vertexNum, edges, nodes):\n",
    "        self.edges = edges\n",
    "        self.nodes = nodes\n",
    "        self.vertexNum = vertexNum\n",
    "        self.MST = []\n",
    "        \n",
    "    def printSolution(self):\n",
    "        print(\"Edge : Weight\")\n",
    "        for s, d, w in self.MST:\n",
    "            print(\"%s - %s : %s\" % (s, d, w))\n",
    "            \n",
    "    def primsAlgo(self):\n",
    "        visited = [0]*self.vertexNum\n",
    "        edgeNum = 0\n",
    "        visited[0] = True\n",
    "        while edgeNum<self.vertexNum - 1:\n",
    "            min = sys.maxsize\n",
    "            for i in range(self.vertexNum):\n",
    "                if visited[i]:\n",
    "                    for j in range(self.vertexNum):\n",
    "                        if((not visited[j]) and self.edges[i][j]):\n",
    "                            if min > self.edges[i][j]:\n",
    "                                min = self.edges[i][j]\n",
    "                                s = i\n",
    "                                d = j\n",
    "            self.MST.append([self.nodes[s],self.nodes[d],self.edges[s][d]])\n",
    "            visited[d] = True\n",
    "            edgeNum += 1\n",
    "        self.printSolution()"
   ]
  },
  {
   "cell_type": "code",
   "execution_count": 300,
   "id": "d61311b9-ac55-4485-bd34-865b0cf4271e",
   "metadata": {},
   "outputs": [],
   "source": [
    "edges = [[0, 10, 20, 0, 0],\n",
    "        [10, 0, 30, 5, 0],\n",
    "        [20, 30, 0, 15, 16],\n",
    "        [0, 5, 15, 0, 8],\n",
    "        [0, 0, 6, 8, 0]]\n",
    "\n",
    "nodes = [\"A\", \"B\", \"C\", \"D\", \"E\"]\n",
    "\n",
    "g=Graph(5, edges, nodes)"
   ]
  },
  {
   "cell_type": "code",
   "execution_count": 302,
   "id": "95feb1a2-c46a-42c8-9cc0-d63945f781ac",
   "metadata": {},
   "outputs": [
    {
     "name": "stdout",
     "output_type": "stream",
     "text": [
      "Edge : Weight\n",
      "A - B : 10\n",
      "B - D : 5\n",
      "D - E : 8\n",
      "E - C : 6\n"
     ]
    }
   ],
   "source": [
    "g.primsAlgo()"
   ]
  },
  {
   "cell_type": "markdown",
   "id": "03968a49-a043-4a67-835d-a5e10dbb9117",
   "metadata": {},
   "source": [
    "<hr>\n",
    "\n",
    "## Greedy Algorithms\n",
    "- Best possibility at each step"
   ]
  },
  {
   "cell_type": "markdown",
   "id": "46238650-f7dc-4c85-b835-1615fa40e062",
   "metadata": {},
   "source": [
    "### Activity Selection Problem"
   ]
  },
  {
   "cell_type": "code",
   "execution_count": 312,
   "id": "60e1d067-4656-419a-9bb9-f0b9eb64bebc",
   "metadata": {},
   "outputs": [],
   "source": [
    "activities = [[\"A1\", 0, 6],\n",
    "             [\"A2\", 3, 4],\n",
    "             [\"A3\", 1, 2],\n",
    "             [\"A4\", 5, 8],\n",
    "             [\"A5\", 5, 7],\n",
    "             [\"A6\", 8, 9]]"
   ]
  },
  {
   "cell_type": "code",
   "execution_count": 318,
   "id": "a0ac06db-8eea-4027-8733-ed033b00c848",
   "metadata": {},
   "outputs": [],
   "source": [
    "def printMaxActivities(activities):\n",
    "    activities.sort(key = lambda x: x[2])\n",
    "    i=0\n",
    "    firstA = activities[i][0]\n",
    "    print(firstA)\n",
    "    for j in range(len(activities)):\n",
    "        if activities[j][1] > activities[i][2]:\n",
    "            print(activities[j][0])\n",
    "            i = j"
   ]
  },
  {
   "cell_type": "code",
   "execution_count": 320,
   "id": "a380ca34-88d9-4d4f-b915-8179b0944187",
   "metadata": {},
   "outputs": [
    {
     "name": "stdout",
     "output_type": "stream",
     "text": [
      "A3\n",
      "A2\n",
      "A5\n",
      "A6\n"
     ]
    }
   ],
   "source": [
    "printMaxActivities(activities)"
   ]
  },
  {
   "cell_type": "markdown",
   "id": "1b53d92a-fae4-42e1-a76f-367ef158b0b5",
   "metadata": {},
   "source": [
    "### Coin Change Problem"
   ]
  },
  {
   "cell_type": "code",
   "execution_count": 331,
   "id": "3873f7e8-2761-4eca-93e6-951a55d11029",
   "metadata": {},
   "outputs": [],
   "source": [
    "def coinChange(totalNumber, coins):\n",
    "    N = totalNumber\n",
    "    coins.sort()\n",
    "    index = len(coins)-1\n",
    "    while True:\n",
    "        coinValue = coins[index]\n",
    "        if N >= coinValue:\n",
    "            print(coinValue)\n",
    "            N = N - coinValue\n",
    "        if N < coinValue:\n",
    "            index -= 1\n",
    "        \n",
    "        if N == 0:\n",
    "            break"
   ]
  },
  {
   "cell_type": "code",
   "execution_count": 335,
   "id": "be36a3d0-6115-469e-a44b-d142d6d87770",
   "metadata": {},
   "outputs": [
    {
     "name": "stdout",
     "output_type": "stream",
     "text": [
      "100\n",
      "100\n",
      "100\n",
      "100\n",
      "100\n",
      "100\n",
      "100\n",
      "100\n",
      "100\n",
      "50\n",
      "20\n",
      "2\n",
      "1\n"
     ]
    }
   ],
   "source": [
    "coins = [1,2,5,20,50,100]\n",
    "coinChange(973, coins)"
   ]
  },
  {
   "cell_type": "markdown",
   "id": "001253cf-da40-4c11-ba5e-82bfb3d0b2b7",
   "metadata": {},
   "source": [
    "### Fractional Knapsack Problem"
   ]
  },
  {
   "cell_type": "code",
   "execution_count": 344,
   "id": "1201b3c3-93a5-49be-8bc2-a7d990dede92",
   "metadata": {},
   "outputs": [],
   "source": [
    "class Item:\n",
    "    def __init__(self, weight, value):\n",
    "        self.weight = weight\n",
    "        self.value = value\n",
    "        self.ratio = value/weight"
   ]
  },
  {
   "cell_type": "code",
   "execution_count": 346,
   "id": "a7e17084-09c5-4cb8-8c99-aac22bd6395f",
   "metadata": {},
   "outputs": [],
   "source": [
    "def knapsackMethod(items, capacity):\n",
    "    item.sort(key=lambda x: x.ratio, reverse = True)\n",
    "    usedCapacity = 0\n",
    "    totalValue = 0\n",
    "    for i in items:\n",
    "        if usedCapacity + i.weight <= capacity:\n",
    "            usedCapacity += i.weight\n",
    "            totalValue += i.value\n",
    "        else:\n",
    "            unusedWeight = capacity-usedCapacity\n",
    "            value = i.ratio * unusedWeight\n",
    "            usedCapacity += unusedWeight\n",
    "            totalValue += value\n",
    "        \n",
    "        if usedCapacity == capacity:\n",
    "            break\n",
    "    \n",
    "    print(\"Total value obtained: \" + str(totalValue))"
   ]
  },
  {
   "cell_type": "code",
   "execution_count": 348,
   "id": "1635dd22-ae7b-4f6e-99f9-3bdf7a655e1e",
   "metadata": {},
   "outputs": [],
   "source": [
    "item1 = Item(20,100)\n",
    "item2 = Item(30,120)\n",
    "item3 = Item(10,60)"
   ]
  },
  {
   "cell_type": "code",
   "execution_count": null,
   "id": "090eee85-bc21-426e-ac0d-68942d0701aa",
   "metadata": {},
   "outputs": [],
   "source": [
    "cList = []"
   ]
  }
 ],
 "metadata": {
  "kernelspec": {
   "display_name": "Python 3 (ipykernel)",
   "language": "python",
   "name": "python3"
  },
  "language_info": {
   "codemirror_mode": {
    "name": "ipython",
    "version": 3
   },
   "file_extension": ".py",
   "mimetype": "text/x-python",
   "name": "python",
   "nbconvert_exporter": "python",
   "pygments_lexer": "ipython3",
   "version": "3.9.18"
  }
 },
 "nbformat": 4,
 "nbformat_minor": 5
}
