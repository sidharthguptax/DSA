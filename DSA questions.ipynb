{
 "cells": [
  {
   "cell_type": "markdown",
   "id": "207bcc0f-9e5e-401b-ae8c-af09ca2c40b7",
   "metadata": {},
   "source": [
    "# Interview Questions"
   ]
  },
  {
   "cell_type": "markdown",
   "id": "4e52d0c2-d9ca-4c8b-a0b1-0f7cb0176308",
   "metadata": {},
   "source": [
    "<hr>\n",
    "\n",
    "## Linked Lists"
   ]
  },
  {
   "cell_type": "code",
   "execution_count": 32,
   "id": "e6444c18-a50c-4e2f-b58e-5b2e176b4d1b",
   "metadata": {},
   "outputs": [],
   "source": [
    "from random import randint"
   ]
  },
  {
   "cell_type": "code",
   "execution_count": 34,
   "id": "c51e8d54-e4d1-46e0-9c91-46f97c6cdca3",
   "metadata": {},
   "outputs": [],
   "source": [
    "class Node:\n",
    "    def __init__(self, value=None):\n",
    "        self.value = value\n",
    "        self.next = None\n",
    "        self.prev = None\n",
    "    \n",
    "    def __str__(self):\n",
    "        return str(self.value)\n",
    "    \n",
    "\n",
    "class LinkedList:\n",
    "    def __init__(self,values=None):\n",
    "        self.head = None\n",
    "        self.tail = None\n",
    "        \n",
    "    def __iter__(self):\n",
    "        curNode = self.head\n",
    "        while curNode:\n",
    "            yield curNode\n",
    "            curNode = curNode.next\n",
    "            \n",
    "    def __str__(self):\n",
    "        values = [str(x.value) for x in self]\n",
    "        return ' -> '.join(values)\n",
    "    \n",
    "    def __len__(self):\n",
    "        result = 0\n",
    "        node = self.head\n",
    "        while node:\n",
    "            result+=1\n",
    "            node = node.next\n",
    "        return result\n",
    "    \n",
    "    def add(self, value):\n",
    "        if self.head is None:\n",
    "            newNode = Node(value)\n",
    "            self.head = newNode\n",
    "            self.tail = newNode\n",
    "        else:\n",
    "            self.tail.next = Node(value)\n",
    "            self.tail = self.tail.next\n",
    "        return self.tail\n",
    "    \n",
    "    def generate(self, n, min_value, max_value):\n",
    "        self.head = None\n",
    "        self.tail = None\n",
    "        for i in range(n):\n",
    "            self.add(randint(min_value,max_value))\n",
    "        return self"
   ]
  },
  {
   "cell_type": "code",
   "execution_count": 57,
   "id": "f34253be-3a7b-4057-b542-7ddb3643374e",
   "metadata": {},
   "outputs": [
    {
     "name": "stdout",
     "output_type": "stream",
     "text": [
      "46 -> 73 -> 59 -> 34 -> 0 -> 40 -> 34 -> 13 -> 8 -> 51\n"
     ]
    }
   ],
   "source": [
    "custLL = LinkedList()\n",
    "custLL.generate(10,0,99)\n",
    "print(custLL)"
   ]
  },
  {
   "cell_type": "code",
   "execution_count": 38,
   "id": "4a0a05f5-2710-4e30-aeb5-533eecc97f2e",
   "metadata": {},
   "outputs": [
    {
     "data": {
      "text/plain": [
       "10"
      ]
     },
     "execution_count": 38,
     "metadata": {},
     "output_type": "execute_result"
    }
   ],
   "source": [
    "len(custLL)"
   ]
  },
  {
   "cell_type": "markdown",
   "id": "82abcf7d-ba6f-4126-8c82-14dfb3c9f4a7",
   "metadata": {},
   "source": [
    "<hr>\n",
    "\n",
    "### Question 1\n",
    "Remove Duplicates"
   ]
  },
  {
   "cell_type": "code",
   "execution_count": 41,
   "id": "d1b87671-9d55-40de-8b69-b55c1d0e1bbe",
   "metadata": {},
   "outputs": [],
   "source": [
    "def remove_duplicates(ll):\n",
    "    if ll.head is None:\n",
    "        return\n",
    " \n",
    "    current_node = ll.head\n",
    "    prev_node = None\n",
    " \n",
    "    while current_node:\n",
    "        runner = current_node\n",
    "        while runner.next:\n",
    "            if runner.next.value == current_node.value:\n",
    "                runner.next = runner.next.next\n",
    "            else:\n",
    "                runner = runner.next\n",
    "        prev_node = current_node\n",
    "        current_node = current_node.next\n",
    " \n",
    "    ll.tail = prev_node  \n",
    "    return ll.head"
   ]
  },
  {
   "cell_type": "markdown",
   "id": "85549440-b512-4cba-b8ac-de5dd5443068",
   "metadata": {},
   "source": [
    "<hr>\n",
    "\n",
    "### Question 2\n",
    "Return Kth to Last"
   ]
  },
  {
   "cell_type": "code",
   "execution_count": 44,
   "id": "1c4b23ba-9b22-430b-a328-6560f821f890",
   "metadata": {},
   "outputs": [],
   "source": [
    "def nthToLast(ll, n):\n",
    "    p1 = ll.head\n",
    "    p2 = ll.head\n",
    "    \n",
    "    for i in range(n): #setting the two pointers n nodes apart\n",
    "        if p2 is None:\n",
    "            return None\n",
    "        p2 = p2.next\n",
    "    \n",
    "    while p2:\n",
    "        p1 = p1.next\n",
    "        p2 = p2.next\n",
    "    return p1"
   ]
  },
  {
   "cell_type": "code",
   "execution_count": 46,
   "id": "9fda1fb3-32bb-49bc-9897-3fb2bb3bb424",
   "metadata": {},
   "outputs": [
    {
     "name": "stdout",
     "output_type": "stream",
     "text": [
      "60\n"
     ]
    }
   ],
   "source": [
    "print(nthToLast(custLL, 3))"
   ]
  },
  {
   "cell_type": "markdown",
   "id": "1995b14a-fcf5-4729-916d-0d5612916947",
   "metadata": {},
   "source": [
    "<hr>\n",
    "\n",
    "### Question 3\n",
    "Partition the linked list around a certain value x"
   ]
  },
  {
   "cell_type": "code",
   "execution_count": 53,
   "id": "7c9a2241-a40f-4be1-90c1-d3a6ff884da8",
   "metadata": {},
   "outputs": [],
   "source": [
    "def partition(ll, x):\n",
    "    curNode = ll.head\n",
    "    ll.tail = ll.head\n",
    "    while curNode:\n",
    "        nextNode = curNode.next\n",
    "        curNode.next = None\n",
    "        if curNode.value < x:\n",
    "            curNode.next = ll.head\n",
    "            ll.head = curNode\n",
    "        else:\n",
    "            ll.tail.next = curNode\n",
    "            ll.tail = curNode\n",
    "        curNode = nextNode\n",
    "        \n",
    "    if ll.tail.next is not None:\n",
    "        ll.tail.next = None"
   ]
  },
  {
   "cell_type": "code",
   "execution_count": 59,
   "id": "1aca3b40-41ac-4d57-ada0-470c645221c7",
   "metadata": {},
   "outputs": [
    {
     "name": "stdout",
     "output_type": "stream",
     "text": [
      "8 -> 13 -> 0 -> 46 -> 73 -> 59 -> 34 -> 40 -> 34 -> 51\n"
     ]
    }
   ],
   "source": [
    "partition(custLL,30)\n",
    "print(custLL)"
   ]
  },
  {
   "cell_type": "markdown",
   "id": "69458328-6fab-4de9-ab2e-bb88f8b238a7",
   "metadata": {},
   "source": [
    "<hr>\n",
    "\n",
    "### Question 4\n",
    "\n",
    "Sum Lists"
   ]
  },
  {
   "cell_type": "code",
   "execution_count": 71,
   "id": "a30a560a-ba46-4dc6-8789-66033367fdba",
   "metadata": {},
   "outputs": [],
   "source": [
    "def sumList(l1,l2):\n",
    "    n1 = l1.head\n",
    "    n2 = l2.head\n",
    "    carry = 0\n",
    "    ll = LinkedList()\n",
    "    \n",
    "    while n1 or n2:\n",
    "        result = carry\n",
    "        if n1:\n",
    "            result += n1.value\n",
    "            n1 = n1.next\n",
    "        if n2:\n",
    "            result+=n2.value\n",
    "            n2=n2.next\n",
    "        ll.add(int(result%10))\n",
    "        carry = result/10\n",
    "        \n",
    "    return ll"
   ]
  },
  {
   "cell_type": "code",
   "execution_count": 73,
   "id": "0bdbf9da-d821-469f-a864-6219c016fe5e",
   "metadata": {},
   "outputs": [
    {
     "data": {
      "text/plain": [
       "<__main__.Node at 0x7f93cc8b9fa0>"
      ]
     },
     "execution_count": 73,
     "metadata": {},
     "output_type": "execute_result"
    }
   ],
   "source": [
    "l1 = LinkedList()\n",
    "l1.add(7)\n",
    "l1.add(1)\n",
    "l1.add(6)"
   ]
  },
  {
   "cell_type": "code",
   "execution_count": 75,
   "id": "7ffb3552-14e6-4d49-9c8c-f8dffa6247be",
   "metadata": {},
   "outputs": [
    {
     "data": {
      "text/plain": [
       "<__main__.Node at 0x7f93cc8b2b20>"
      ]
     },
     "execution_count": 75,
     "metadata": {},
     "output_type": "execute_result"
    }
   ],
   "source": [
    "l2 = LinkedList()\n",
    "l2.add(5)\n",
    "l2.add(9)\n",
    "l2.add(2)"
   ]
  },
  {
   "cell_type": "code",
   "execution_count": 77,
   "id": "29659561-e108-401d-842b-367a0aa96ee8",
   "metadata": {},
   "outputs": [
    {
     "name": "stdout",
     "output_type": "stream",
     "text": [
      "7 -> 1 -> 6\n",
      "5 -> 9 -> 2\n"
     ]
    }
   ],
   "source": [
    "print(l1)\n",
    "print(l2)"
   ]
  },
  {
   "cell_type": "code",
   "execution_count": 79,
   "id": "506e99fb-f2ae-4c68-9f6d-efe40cf22526",
   "metadata": {},
   "outputs": [
    {
     "name": "stdout",
     "output_type": "stream",
     "text": [
      "2 -> 1 -> 9\n"
     ]
    }
   ],
   "source": [
    "print(sumList(l1,l2))"
   ]
  },
  {
   "cell_type": "markdown",
   "id": "dc49f177-5a6b-4964-8ec2-e1d686178cc2",
   "metadata": {},
   "source": [
    "<hr>\n",
    "\n",
    "### Question 5\n",
    "Intersection"
   ]
  },
  {
   "cell_type": "code",
   "execution_count": 114,
   "id": "27d2865f-5226-43c6-9d25-dfdbcc1ddb10",
   "metadata": {},
   "outputs": [],
   "source": [
    "def intersection(l1,l2):\n",
    "    if l1.tail is not l2.tail:\n",
    "        return False\n",
    "    \n",
    "    len1 = len(l1)\n",
    "    len2 = len(l2)\n",
    "    \n",
    "    shorter = l1 if len1<len2 else l2\n",
    "    longer = l2 if len1<len2 else l1\n",
    "    \n",
    "    diff = len(longer) - len(shorter)\n",
    "    longerNode = longer.head\n",
    "    shorterNode = shorter.head\n",
    "    \n",
    "    for i in range(diff):\n",
    "        longerNode=longerNode.next\n",
    "        \n",
    "    while shorterNode is not longerNode:\n",
    "        shorterNode = shorterNode.next\n",
    "        longerNode = longerNode.next\n",
    "        \n",
    "    return longerNode\n",
    "\n",
    "def addSameNode(l1, l2, value):\n",
    "    tempNode = Node(value)\n",
    "    l1.tail.next = tempNode\n",
    "    l1.tail = tempNode\n",
    "    l2.tail.next = tempNode\n",
    "    l2.tail = tempNode"
   ]
  },
  {
   "cell_type": "code",
   "execution_count": 116,
   "id": "b947833f-dee6-4f70-bc51-61ff6d18a82c",
   "metadata": {},
   "outputs": [
    {
     "data": {
      "text/plain": [
       "<__main__.LinkedList at 0x7f93cc5be580>"
      ]
     },
     "execution_count": 116,
     "metadata": {},
     "output_type": "execute_result"
    }
   ],
   "source": [
    "l1 = LinkedList()\n",
    "l1.generate(3,0,10)"
   ]
  },
  {
   "cell_type": "code",
   "execution_count": 118,
   "id": "b3233444-de3f-4134-9358-7ce383fcdbbf",
   "metadata": {},
   "outputs": [
    {
     "data": {
      "text/plain": [
       "<__main__.LinkedList at 0x7f93cc89b040>"
      ]
     },
     "execution_count": 118,
     "metadata": {},
     "output_type": "execute_result"
    }
   ],
   "source": [
    "l2 = LinkedList()\n",
    "l2.generate(4,0,10)"
   ]
  },
  {
   "cell_type": "code",
   "execution_count": 120,
   "id": "ed07c86b-b6d3-4114-8d23-e1bc44d6d1b9",
   "metadata": {},
   "outputs": [],
   "source": [
    "addSameNode(l1,l2,7)\n",
    "addSameNode(l1,l2,14)\n",
    "addSameNode(l1,l2,11)"
   ]
  },
  {
   "cell_type": "code",
   "execution_count": 122,
   "id": "3ebb0400-bb5d-48c9-91a2-5faef571cd4a",
   "metadata": {},
   "outputs": [
    {
     "name": "stdout",
     "output_type": "stream",
     "text": [
      "0 -> 5 -> 6 -> 7 -> 14 -> 11\n",
      "8 -> 6 -> 8 -> 3 -> 7 -> 14 -> 11\n"
     ]
    }
   ],
   "source": [
    "print(l1)\n",
    "print(l2)"
   ]
  },
  {
   "cell_type": "code",
   "execution_count": 126,
   "id": "427a30e0-3abb-4128-a628-2ae8ed66dc6f",
   "metadata": {},
   "outputs": [
    {
     "name": "stdout",
     "output_type": "stream",
     "text": [
      "7\n"
     ]
    }
   ],
   "source": [
    "print(intersection(l1,l2))  #O(A+B)"
   ]
  },
  {
   "cell_type": "markdown",
   "id": "194c8a72-26ee-4a8e-af00-ce4616935a0e",
   "metadata": {},
   "source": [
    "<hr>\n",
    "\n",
    "## Stack and Queue"
   ]
  },
  {
   "cell_type": "markdown",
   "id": "0f797871-6b29-4a97-9e38-73e76a904c6a",
   "metadata": {},
   "source": [
    "### Question 1\n",
    "Describe how you could use a single Python list to implement three stacks."
   ]
  },
  {
   "cell_type": "code",
   "execution_count": 5,
   "id": "14b5dcef-9efd-4df7-8ac5-fcaf16096d7a",
   "metadata": {},
   "outputs": [],
   "source": [
    "class MultiStack:\n",
    "    def __init__(self, stacksize):\n",
    "        self.numberstacks = 3\n",
    "        self.custList = [0] * [stacksize] * self.numberstacks\n",
    "        self.sizes = [0] * self.numberstacks\n",
    "        self.stacksize = stacksize\n",
    "        \n",
    "    def isFull(self, stacknum):\n",
    "        if self.sizes[stacknum] == self.stacksize:\n",
    "            return True\n",
    "        return False\n",
    "    \n",
    "    def isEmpty(self, stacknum):\n",
    "        if self.sizes[stacknum] == 0:\n",
    "            return True\n",
    "        return False\n",
    "    \n",
    "    def indexOfTop(self, stacknum):\n",
    "        offset = stacknum * self.stacksize\n",
    "        return offset + self.sizes[stacknum] - 1\n",
    "    \n",
    "    def push(self, item, stacknum):\n",
    "        if self.isFull(stacknum):\n",
    "            return \"The stack is full\"\n",
    "        else:\n",
    "            self.sizes[stacknum] +=1\n",
    "            self.custList[self.indexOfTop(stacknum)] = item\n",
    "            \n",
    "    def pop(self, stacknum):\n",
    "        if self.isEmpty(stacknum):\n",
    "            return \"This stack is empty\"\n",
    "        else:\n",
    "            value = self.custList[self.indexOfTop(stacknum)] = item\n",
    "            self.custList[self.indexOfTop(stacknum)] = 0\n",
    "            self.sizes[stacknum] -= 1\n",
    "            return value\n",
    "    \n",
    "    def peek(self, stacknum):\n",
    "        if self.isEmpty(stacknum):\n",
    "            return \"This stack is empty\"\n",
    "        else:\n",
    "            value = self.custList[self.indexOfTop(stacknum)]\n",
    "            return value"
   ]
  },
  {
   "cell_type": "markdown",
   "id": "a2e7a307-bc75-47e2-a2c1-e850b1ad74f8",
   "metadata": {},
   "source": [
    "<hr>\n",
    "\n",
    "### Question 2 Stack Min\n",
    "\n",
    "Push, pop, min should all operate in O(1)."
   ]
  },
  {
   "cell_type": "code",
   "execution_count": 16,
   "id": "fce45d5c-6c12-4cda-b273-a335a85b55c2",
   "metadata": {},
   "outputs": [],
   "source": [
    "class Node:\n",
    "    def __init__(self, value=None, next = None):\n",
    "        self.value = value\n",
    "        self.next = next\n",
    "        \n",
    "    def __str__(self):\n",
    "        string = str(self.value)\n",
    "        if self.next:\n",
    "            string += ',' + str(self.next)\n",
    "        return string"
   ]
  },
  {
   "cell_type": "code",
   "execution_count": 20,
   "id": "79913a34-0f94-47a0-bff8-24f7b6f09184",
   "metadata": {},
   "outputs": [],
   "source": [
    "class Stack:\n",
    "    def __init__(self):\n",
    "        self.top = None\n",
    "        self.minNode = None\n",
    "        # self.minNode is essentially another stack that keeps track in parallel the min values.\n",
    "    def min(self):\n",
    "        if not self.minNode:\n",
    "            return None\n",
    "        return self.minNode.value\n",
    "    \n",
    "    def push(self, item):\n",
    "        if self.minNode and self.minNode.value<item:\n",
    "            self.minNode = Node(value=self.minNode.value, next = self.minNode)\n",
    "        else:\n",
    "            self.minNode = Node(value = item, next = self.minNode)\n",
    "        self.top = Node(value = item, next = self.top)\n",
    "    \n",
    "    def pop(self):\n",
    "        if not self.top:\n",
    "            return None\n",
    "        self.minNode = self.minNode.next\n",
    "        item = self.top.value\n",
    "        self.top = self.top.next\n",
    "        return item"
   ]
  },
  {
   "cell_type": "markdown",
   "id": "ffad6501-9224-431b-9ec0-a47798683780",
   "metadata": {},
   "source": [
    "<hr>\n",
    "\n",
    "### Question 3 Stack of Plates\n",
    "SetOfStacks, should create a new stack once previous stack is full."
   ]
  },
  {
   "cell_type": "code",
   "execution_count": 27,
   "id": "842d2e39-5acf-4110-b916-7866d1cebeaf",
   "metadata": {},
   "outputs": [],
   "source": [
    "class PlateStack():\n",
    "    def __init__(self, capacity):\n",
    "        self.capacity = capacity\n",
    "        self.stacks = []\n",
    "    \n",
    "    def __str__(self):\n",
    "        return self.stacks\n",
    "    \n",
    "    def push(self,item):\n",
    "        if len(self.stacks) > 0 and len(self.stacks[-1]) < self.capacity:\n",
    "            self.stacks[-1].append(item)\n",
    "        else:\n",
    "            self.stacks.append([item])\n",
    "        \n",
    "    def pop(self):\n",
    "        while len(self.stacks) and len(self.stacks[-1]) == 0:\n",
    "            self.stacks.pop()\n",
    "        if len(self.stacks) == 0:\n",
    "            return None\n",
    "        else:\n",
    "            return self.stacks[-1].pop()\n",
    "        \n",
    "    def pop_at(self, stackNumber):\n",
    "        if len(self.stacks[stackNumber]) > 0:\n",
    "            return self.stacks[stackNumber].pop()\n",
    "        else:\n",
    "            return None"
   ]
  },
  {
   "cell_type": "markdown",
   "id": "8d407fc7-b9bc-48a6-992f-1e6fa14afdc7",
   "metadata": {},
   "source": [
    "<hr>\n",
    "\n",
    "### Question 4 Queue via Stacks\n",
    "Implement queue class which implements a queue using two stacks."
   ]
  },
  {
   "cell_type": "code",
   "execution_count": 34,
   "id": "ec1eca6e-990e-458b-aaef-71265a251bde",
   "metadata": {},
   "outputs": [],
   "source": [
    "class Stack():\n",
    "    def __init__(self):\n",
    "        self.list = []\n",
    "        \n",
    "    def __len__(self):\n",
    "        return len(self.list)\n",
    "    \n",
    "    def push(self, item):\n",
    "        self.list.append(item)\n",
    "        \n",
    "    def pop(self):\n",
    "        if len(self.list) == 0:\n",
    "            return None\n",
    "        return self.list.pop()"
   ]
  },
  {
   "cell_type": "code",
   "execution_count": 36,
   "id": "2d089f32-6707-4106-ba4a-5b3fd2323a06",
   "metadata": {},
   "outputs": [],
   "source": [
    "class QueueViaStack():\n",
    "    def __init__(self):\n",
    "        self.inStack = Stack()\n",
    "        self.outStack = Stack()\n",
    "    \n",
    "    def enqueue(self,item):\n",
    "        self.inStack.push(item)\n",
    "    \n",
    "    def dequeue(self):\n",
    "        while len(self.inStack):\n",
    "            self.outStack.push(self.inStack.pop())\n",
    "        result = self.outStack.pop()\n",
    "        while len(self.outStack):\n",
    "            self.inStack.push(self.outStack.pop())\n",
    "        return result"
   ]
  },
  {
   "cell_type": "markdown",
   "id": "5fd9c5a5-f42d-46dd-accb-3ce0e0e9e304",
   "metadata": {},
   "source": [
    "<hr>\n",
    "\n",
    "### Question 5 Animal Shelter"
   ]
  },
  {
   "cell_type": "code",
   "execution_count": 2,
   "id": "9283f6ea-0548-4650-9c04-59cee25c930b",
   "metadata": {},
   "outputs": [],
   "source": [
    "class AnimalShelter():\n",
    "    def __init__(self):\n",
    "        self.cats = []\n",
    "        self.dogs = []\n",
    "    \n",
    "    def enqueue(self,animal,type):\n",
    "        if type == 'Cat':\n",
    "            self.cats.append(animal)\n",
    "        self.dogs.append(animal)\n",
    "    \n",
    "    def dequeueCat(self):\n",
    "        if len(self.cats) == 0:\n",
    "            return None\n",
    "        else:\n",
    "            cat = self.cats.pop(0)\n",
    "            return cat\n",
    "    \n",
    "    def dequeueDog(self):\n",
    "        if len(self.dogs) == 0:\n",
    "            return None\n",
    "        else:\n",
    "            dog = self.dogs.pop(0)\n",
    "            return dog\n",
    "    \n",
    "    def dequeueAny(self):\n",
    "        if len(self.cats) == 0:\n",
    "            result = self.dogs.pop(0)\n",
    "        else:\n",
    "            result = self.cats.pop(0)\n",
    "        return result"
   ]
  },
  {
   "cell_type": "markdown",
   "id": "e70b3df1-0ef7-4723-af76-730aa962be7c",
   "metadata": {},
   "source": [
    "<hr>"
   ]
  },
  {
   "cell_type": "markdown",
   "id": "4746ee48-ffe9-41d2-a057-8a9f5f690212",
   "metadata": {},
   "source": [
    "## Recursion\n",
    "\n",
    "### Question 1\n",
    "Sum of digits of a number"
   ]
  },
  {
   "cell_type": "code",
   "execution_count": 17,
   "id": "059f97bb-f3a0-442e-a93c-7b391c8349aa",
   "metadata": {},
   "outputs": [],
   "source": [
    "def sumOfDigits(n):\n",
    "    assert n>=0 and int(n) == n, 'The number has to be positive integer only!'\n",
    "    if n == 0:\n",
    "        return 0\n",
    "    return int(n%10) + sumOfDigits(int(n//10))"
   ]
  },
  {
   "cell_type": "code",
   "execution_count": 27,
   "id": "c43e1a64-6cb4-4630-80b7-835f11234654",
   "metadata": {},
   "outputs": [
    {
     "data": {
      "text/plain": [
       "3"
      ]
     },
     "execution_count": 27,
     "metadata": {},
     "output_type": "execute_result"
    }
   ],
   "source": [
    "sumOfDigits(12)"
   ]
  },
  {
   "cell_type": "markdown",
   "id": "3a92ef30-a467-41be-9392-3e6efc028cba",
   "metadata": {},
   "source": [
    "<hr>\n",
    "\n",
    "### Question 2\n",
    "\n",
    "Power of a number using recursion"
   ]
  },
  {
   "cell_type": "code",
   "execution_count": 43,
   "id": "3aea3472-fe45-4c0b-a260-8fdd37318c0a",
   "metadata": {},
   "outputs": [],
   "source": [
    "def power(x,n):\n",
    "    assert int(n) == n, 'The exp should be an integer'\n",
    "    if n == 0:\n",
    "        return 1\n",
    "    elif n<0:\n",
    "        return (1/x)*power(x,n+1)\n",
    "    return x*power(x,n-1)"
   ]
  },
  {
   "cell_type": "code",
   "execution_count": 45,
   "id": "76e589c5-5bd8-4533-9014-42b14f6509b7",
   "metadata": {},
   "outputs": [
    {
     "data": {
      "text/plain": [
       "16"
      ]
     },
     "execution_count": 45,
     "metadata": {},
     "output_type": "execute_result"
    }
   ],
   "source": [
    "power(2,4)"
   ]
  },
  {
   "cell_type": "markdown",
   "id": "0c900f53-5db3-4272-8df5-259d1a3b2c05",
   "metadata": {},
   "source": [
    "<hr>\n",
    "\n",
    "### Question 3\n",
    "\n",
    "GCD of two numbers"
   ]
  },
  {
   "cell_type": "code",
   "execution_count": 77,
   "id": "aa4e9253-78b5-4ed9-a588-66a93f308876",
   "metadata": {},
   "outputs": [],
   "source": [
    "def gcd(a,b):\n",
    "    assert int(a)==a and int(b)==b, \"The numbers must be integer only!\"\n",
    "    if a<0:\n",
    "        a = -1*a\n",
    "    if b<0:\n",
    "        b = -1*b\n",
    "    if b == 0:\n",
    "        return a\n",
    "    else:\n",
    "        return gcd(b,a%b)"
   ]
  },
  {
   "cell_type": "code",
   "execution_count": 83,
   "id": "8fcd755d-1aae-4c09-a197-872380027e70",
   "metadata": {},
   "outputs": [
    {
     "data": {
      "text/plain": [
       "3"
      ]
     },
     "execution_count": 83,
     "metadata": {},
     "output_type": "execute_result"
    }
   ],
   "source": [
    "gcd(57,6)"
   ]
  },
  {
   "cell_type": "markdown",
   "id": "bb010fba-65e4-436c-a742-233c04aaeb0a",
   "metadata": {},
   "source": [
    "<hr>\n",
    "\n",
    "### Question 4\n",
    "Decimal to Binary"
   ]
  },
  {
   "cell_type": "code",
   "execution_count": 106,
   "id": "a6159a61-736a-4ce7-9d34-1cbf5bb124c7",
   "metadata": {},
   "outputs": [],
   "source": [
    "def decToBin(n):\n",
    "    assert int(n)==n, \"The number must be an integer!\"\n",
    "    if n==0:\n",
    "        return 1\n",
    "    else:\n",
    "        return n%2 + 10*decToBin(int(n/2))"
   ]
  },
  {
   "cell_type": "code",
   "execution_count": 108,
   "id": "1bef2d50-5fe2-4e1c-a654-10dc9645b672",
   "metadata": {},
   "outputs": [
    {
     "data": {
      "text/plain": [
       "11101"
      ]
     },
     "execution_count": 108,
     "metadata": {},
     "output_type": "execute_result"
    }
   ],
   "source": [
    "decToBin(13)"
   ]
  },
  {
   "cell_type": "code",
   "execution_count": null,
   "id": "9df71917-2c4d-4459-aab5-19a4fe4c9845",
   "metadata": {},
   "outputs": [],
   "source": []
  },
  {
   "cell_type": "code",
   "execution_count": null,
   "id": "3c850696-2974-4b87-9c01-be8b29c4427f",
   "metadata": {},
   "outputs": [],
   "source": []
  }
 ],
 "metadata": {
  "kernelspec": {
   "display_name": "Python 3 (ipykernel)",
   "language": "python",
   "name": "python3"
  },
  "language_info": {
   "codemirror_mode": {
    "name": "ipython",
    "version": 3
   },
   "file_extension": ".py",
   "mimetype": "text/x-python",
   "name": "python",
   "nbconvert_exporter": "python",
   "pygments_lexer": "ipython3",
   "version": "3.9.18"
  }
 },
 "nbformat": 4,
 "nbformat_minor": 5
}
