{
 "cells": [
  {
   "cell_type": "markdown",
   "id": "207bcc0f-9e5e-401b-ae8c-af09ca2c40b7",
   "metadata": {},
   "source": [
    "# Interview Questions"
   ]
  },
  {
   "cell_type": "markdown",
   "id": "4e52d0c2-d9ca-4c8b-a0b1-0f7cb0176308",
   "metadata": {},
   "source": [
    "<hr>\n",
    "\n",
    "## Linked Lists"
   ]
  },
  {
   "cell_type": "code",
   "execution_count": 32,
   "id": "e6444c18-a50c-4e2f-b58e-5b2e176b4d1b",
   "metadata": {},
   "outputs": [],
   "source": [
    "from random import randint"
   ]
  },
  {
   "cell_type": "code",
   "execution_count": 34,
   "id": "c51e8d54-e4d1-46e0-9c91-46f97c6cdca3",
   "metadata": {},
   "outputs": [],
   "source": [
    "class Node:\n",
    "    def __init__(self, value=None):\n",
    "        self.value = value\n",
    "        self.next = None\n",
    "        self.prev = None\n",
    "    \n",
    "    def __str__(self):\n",
    "        return str(self.value)\n",
    "    \n",
    "\n",
    "class LinkedList:\n",
    "    def __init__(self,values=None):\n",
    "        self.head = None\n",
    "        self.tail = None\n",
    "        \n",
    "    def __iter__(self):\n",
    "        curNode = self.head\n",
    "        while curNode:\n",
    "            yield curNode\n",
    "            curNode = curNode.next\n",
    "            \n",
    "    def __str__(self):\n",
    "        values = [str(x.value) for x in self]\n",
    "        return ' -> '.join(values)\n",
    "    \n",
    "    def __len__(self):\n",
    "        result = 0\n",
    "        node = self.head\n",
    "        while node:\n",
    "            result+=1\n",
    "            node = node.next\n",
    "        return result\n",
    "    \n",
    "    def add(self, value):\n",
    "        if self.head is None:\n",
    "            newNode = Node(value)\n",
    "            self.head = newNode\n",
    "            self.tail = newNode\n",
    "        else:\n",
    "            self.tail.next = Node(value)\n",
    "            self.tail = self.tail.next\n",
    "        return self.tail\n",
    "    \n",
    "    def generate(self, n, min_value, max_value):\n",
    "        self.head = None\n",
    "        self.tail = None\n",
    "        for i in range(n):\n",
    "            self.add(randint(min_value,max_value))\n",
    "        return self"
   ]
  },
  {
   "cell_type": "code",
   "execution_count": 57,
   "id": "f34253be-3a7b-4057-b542-7ddb3643374e",
   "metadata": {},
   "outputs": [
    {
     "name": "stdout",
     "output_type": "stream",
     "text": [
      "46 -> 73 -> 59 -> 34 -> 0 -> 40 -> 34 -> 13 -> 8 -> 51\n"
     ]
    }
   ],
   "source": [
    "custLL = LinkedList()\n",
    "custLL.generate(10,0,99)\n",
    "print(custLL)"
   ]
  },
  {
   "cell_type": "code",
   "execution_count": 38,
   "id": "4a0a05f5-2710-4e30-aeb5-533eecc97f2e",
   "metadata": {},
   "outputs": [
    {
     "data": {
      "text/plain": [
       "10"
      ]
     },
     "execution_count": 38,
     "metadata": {},
     "output_type": "execute_result"
    }
   ],
   "source": [
    "len(custLL)"
   ]
  },
  {
   "cell_type": "markdown",
   "id": "82abcf7d-ba6f-4126-8c82-14dfb3c9f4a7",
   "metadata": {},
   "source": [
    "<hr>\n",
    "\n",
    "### Question 1\n",
    "Remove Duplicates"
   ]
  },
  {
   "cell_type": "code",
   "execution_count": 41,
   "id": "d1b87671-9d55-40de-8b69-b55c1d0e1bbe",
   "metadata": {},
   "outputs": [],
   "source": [
    "def remove_duplicates(ll):\n",
    "    if ll.head is None:\n",
    "        return\n",
    " \n",
    "    current_node = ll.head\n",
    "    prev_node = None\n",
    " \n",
    "    while current_node:\n",
    "        runner = current_node\n",
    "        while runner.next:\n",
    "            if runner.next.value == current_node.value:\n",
    "                runner.next = runner.next.next\n",
    "            else:\n",
    "                runner = runner.next\n",
    "        prev_node = current_node\n",
    "        current_node = current_node.next\n",
    " \n",
    "    ll.tail = prev_node  \n",
    "    return ll.head"
   ]
  },
  {
   "cell_type": "markdown",
   "id": "85549440-b512-4cba-b8ac-de5dd5443068",
   "metadata": {},
   "source": [
    "<hr>\n",
    "\n",
    "### Question 2\n",
    "Return Kth to Last"
   ]
  },
  {
   "cell_type": "code",
   "execution_count": 44,
   "id": "1c4b23ba-9b22-430b-a328-6560f821f890",
   "metadata": {},
   "outputs": [],
   "source": [
    "def nthToLast(ll, n):\n",
    "    p1 = ll.head\n",
    "    p2 = ll.head\n",
    "    \n",
    "    for i in range(n): #setting the two pointers n nodes apart\n",
    "        if p2 is None:\n",
    "            return None\n",
    "        p2 = p2.next\n",
    "    \n",
    "    while p2:\n",
    "        p1 = p1.next\n",
    "        p2 = p2.next\n",
    "    return p1"
   ]
  },
  {
   "cell_type": "code",
   "execution_count": 46,
   "id": "9fda1fb3-32bb-49bc-9897-3fb2bb3bb424",
   "metadata": {},
   "outputs": [
    {
     "name": "stdout",
     "output_type": "stream",
     "text": [
      "60\n"
     ]
    }
   ],
   "source": [
    "print(nthToLast(custLL, 3))"
   ]
  },
  {
   "cell_type": "markdown",
   "id": "1995b14a-fcf5-4729-916d-0d5612916947",
   "metadata": {},
   "source": [
    "<hr>\n",
    "\n",
    "### Question 3\n",
    "Partition the linked list around a certain value x"
   ]
  },
  {
   "cell_type": "code",
   "execution_count": 53,
   "id": "7c9a2241-a40f-4be1-90c1-d3a6ff884da8",
   "metadata": {},
   "outputs": [],
   "source": [
    "def partition(ll, x):\n",
    "    curNode = ll.head\n",
    "    ll.tail = ll.head\n",
    "    while curNode:\n",
    "        nextNode = curNode.next\n",
    "        curNode.next = None\n",
    "        if curNode.value < x:\n",
    "            curNode.next = ll.head\n",
    "            ll.head = curNode\n",
    "        else:\n",
    "            ll.tail.next = curNode\n",
    "            ll.tail = curNode\n",
    "        curNode = nextNode\n",
    "        \n",
    "    if ll.tail.next is not None:\n",
    "        ll.tail.next = None"
   ]
  },
  {
   "cell_type": "code",
   "execution_count": 59,
   "id": "1aca3b40-41ac-4d57-ada0-470c645221c7",
   "metadata": {},
   "outputs": [
    {
     "name": "stdout",
     "output_type": "stream",
     "text": [
      "8 -> 13 -> 0 -> 46 -> 73 -> 59 -> 34 -> 40 -> 34 -> 51\n"
     ]
    }
   ],
   "source": [
    "partition(custLL,30)\n",
    "print(custLL)"
   ]
  },
  {
   "cell_type": "markdown",
   "id": "69458328-6fab-4de9-ab2e-bb88f8b238a7",
   "metadata": {},
   "source": [
    "<hr>\n",
    "\n",
    "### Question 4\n",
    "\n",
    "Sum Lists"
   ]
  },
  {
   "cell_type": "code",
   "execution_count": 71,
   "id": "a30a560a-ba46-4dc6-8789-66033367fdba",
   "metadata": {},
   "outputs": [],
   "source": [
    "def sumList(l1,l2):\n",
    "    n1 = l1.head\n",
    "    n2 = l2.head\n",
    "    carry = 0\n",
    "    ll = LinkedList()\n",
    "    \n",
    "    while n1 or n2:\n",
    "        result = carry\n",
    "        if n1:\n",
    "            result += n1.value\n",
    "            n1 = n1.next\n",
    "        if n2:\n",
    "            result+=n2.value\n",
    "            n2=n2.next\n",
    "        ll.add(int(result%10))\n",
    "        carry = result/10\n",
    "        \n",
    "    return ll"
   ]
  },
  {
   "cell_type": "code",
   "execution_count": 73,
   "id": "0bdbf9da-d821-469f-a864-6219c016fe5e",
   "metadata": {},
   "outputs": [
    {
     "data": {
      "text/plain": [
       "<__main__.Node at 0x7f93cc8b9fa0>"
      ]
     },
     "execution_count": 73,
     "metadata": {},
     "output_type": "execute_result"
    }
   ],
   "source": [
    "l1 = LinkedList()\n",
    "l1.add(7)\n",
    "l1.add(1)\n",
    "l1.add(6)"
   ]
  },
  {
   "cell_type": "code",
   "execution_count": 75,
   "id": "7ffb3552-14e6-4d49-9c8c-f8dffa6247be",
   "metadata": {},
   "outputs": [
    {
     "data": {
      "text/plain": [
       "<__main__.Node at 0x7f93cc8b2b20>"
      ]
     },
     "execution_count": 75,
     "metadata": {},
     "output_type": "execute_result"
    }
   ],
   "source": [
    "l2 = LinkedList()\n",
    "l2.add(5)\n",
    "l2.add(9)\n",
    "l2.add(2)"
   ]
  },
  {
   "cell_type": "code",
   "execution_count": 77,
   "id": "29659561-e108-401d-842b-367a0aa96ee8",
   "metadata": {},
   "outputs": [
    {
     "name": "stdout",
     "output_type": "stream",
     "text": [
      "7 -> 1 -> 6\n",
      "5 -> 9 -> 2\n"
     ]
    }
   ],
   "source": [
    "print(l1)\n",
    "print(l2)"
   ]
  },
  {
   "cell_type": "code",
   "execution_count": 79,
   "id": "506e99fb-f2ae-4c68-9f6d-efe40cf22526",
   "metadata": {},
   "outputs": [
    {
     "name": "stdout",
     "output_type": "stream",
     "text": [
      "2 -> 1 -> 9\n"
     ]
    }
   ],
   "source": [
    "print(sumList(l1,l2))"
   ]
  },
  {
   "cell_type": "markdown",
   "id": "dc49f177-5a6b-4964-8ec2-e1d686178cc2",
   "metadata": {},
   "source": [
    "<hr>\n",
    "\n",
    "### Question 5\n",
    "Intersection"
   ]
  },
  {
   "cell_type": "code",
   "execution_count": 114,
   "id": "27d2865f-5226-43c6-9d25-dfdbcc1ddb10",
   "metadata": {},
   "outputs": [],
   "source": [
    "def intersection(l1,l2):\n",
    "    if l1.tail is not l2.tail:\n",
    "        return False\n",
    "    \n",
    "    len1 = len(l1)\n",
    "    len2 = len(l2)\n",
    "    \n",
    "    shorter = l1 if len1<len2 else l2\n",
    "    longer = l2 if len1<len2 else l1\n",
    "    \n",
    "    diff = len(longer) - len(shorter)\n",
    "    longerNode = longer.head\n",
    "    shorterNode = shorter.head\n",
    "    \n",
    "    for i in range(diff):\n",
    "        longerNode=longerNode.next\n",
    "        \n",
    "    while shorterNode is not longerNode:\n",
    "        shorterNode = shorterNode.next\n",
    "        longerNode = longerNode.next\n",
    "        \n",
    "    return longerNode\n",
    "\n",
    "def addSameNode(l1, l2, value):\n",
    "    tempNode = Node(value)\n",
    "    l1.tail.next = tempNode\n",
    "    l1.tail = tempNode\n",
    "    l2.tail.next = tempNode\n",
    "    l2.tail = tempNode"
   ]
  },
  {
   "cell_type": "code",
   "execution_count": 116,
   "id": "b947833f-dee6-4f70-bc51-61ff6d18a82c",
   "metadata": {},
   "outputs": [
    {
     "data": {
      "text/plain": [
       "<__main__.LinkedList at 0x7f93cc5be580>"
      ]
     },
     "execution_count": 116,
     "metadata": {},
     "output_type": "execute_result"
    }
   ],
   "source": [
    "l1 = LinkedList()\n",
    "l1.generate(3,0,10)"
   ]
  },
  {
   "cell_type": "code",
   "execution_count": 118,
   "id": "b3233444-de3f-4134-9358-7ce383fcdbbf",
   "metadata": {},
   "outputs": [
    {
     "data": {
      "text/plain": [
       "<__main__.LinkedList at 0x7f93cc89b040>"
      ]
     },
     "execution_count": 118,
     "metadata": {},
     "output_type": "execute_result"
    }
   ],
   "source": [
    "l2 = LinkedList()\n",
    "l2.generate(4,0,10)"
   ]
  },
  {
   "cell_type": "code",
   "execution_count": 120,
   "id": "ed07c86b-b6d3-4114-8d23-e1bc44d6d1b9",
   "metadata": {},
   "outputs": [],
   "source": [
    "addSameNode(l1,l2,7)\n",
    "addSameNode(l1,l2,14)\n",
    "addSameNode(l1,l2,11)"
   ]
  },
  {
   "cell_type": "code",
   "execution_count": 122,
   "id": "3ebb0400-bb5d-48c9-91a2-5faef571cd4a",
   "metadata": {},
   "outputs": [
    {
     "name": "stdout",
     "output_type": "stream",
     "text": [
      "0 -> 5 -> 6 -> 7 -> 14 -> 11\n",
      "8 -> 6 -> 8 -> 3 -> 7 -> 14 -> 11\n"
     ]
    }
   ],
   "source": [
    "print(l1)\n",
    "print(l2)"
   ]
  },
  {
   "cell_type": "code",
   "execution_count": 126,
   "id": "427a30e0-3abb-4128-a628-2ae8ed66dc6f",
   "metadata": {},
   "outputs": [
    {
     "name": "stdout",
     "output_type": "stream",
     "text": [
      "7\n"
     ]
    }
   ],
   "source": [
    "print(intersection(l1,l2))  #O(A+B)"
   ]
  },
  {
   "cell_type": "markdown",
   "id": "194c8a72-26ee-4a8e-af00-ce4616935a0e",
   "metadata": {},
   "source": [
    "<hr>\n",
    "\n",
    "## Stack and Queue"
   ]
  },
  {
   "cell_type": "markdown",
   "id": "0f797871-6b29-4a97-9e38-73e76a904c6a",
   "metadata": {},
   "source": [
    "### Question 1\n",
    "Describe how you could use a single Python list to implement three stacks."
   ]
  },
  {
   "cell_type": "code",
   "execution_count": 5,
   "id": "14b5dcef-9efd-4df7-8ac5-fcaf16096d7a",
   "metadata": {},
   "outputs": [],
   "source": [
    "class MultiStack:\n",
    "    def __init__(self, stacksize):\n",
    "        self.numberstacks = 3\n",
    "        self.custList = [0] * [stacksize] * self.numberstacks\n",
    "        self.sizes = [0] * self.numberstacks\n",
    "        self.stacksize = stacksize\n",
    "        \n",
    "    def isFull(self, stacknum):\n",
    "        if self.sizes[stacknum] == self.stacksize:\n",
    "            return True\n",
    "        return False\n",
    "    \n",
    "    def isEmpty(self, stacknum):\n",
    "        if self.sizes[stacknum] == 0:\n",
    "            return True\n",
    "        return False\n",
    "    \n",
    "    def indexOfTop(self, stacknum):\n",
    "        offset = stacknum * self.stacksize\n",
    "        return offset + self.sizes[stacknum] - 1\n",
    "    \n",
    "    def push(self, item, stacknum):\n",
    "        if self.isFull(stacknum):\n",
    "            return \"The stack is full\"\n",
    "        else:\n",
    "            self.sizes[stacknum] +=1\n",
    "            self.custList[self.indexOfTop(stacknum)] = item\n",
    "            \n",
    "    def pop(self, stacknum):\n",
    "        if self.isEmpty(stacknum):\n",
    "            return \"This stack is empty\"\n",
    "        else:\n",
    "            value = self.custList[self.indexOfTop(stacknum)] = item\n",
    "            self.custList[self.indexOfTop(stacknum)] = 0\n",
    "            self.sizes[stacknum] -= 1\n",
    "            return value\n",
    "    \n",
    "    def peek(self, stacknum):\n",
    "        if self.isEmpty(stacknum):\n",
    "            return \"This stack is empty\"\n",
    "        else:\n",
    "            value = self.custList[self.indexOfTop(stacknum)]\n",
    "            return value"
   ]
  },
  {
   "cell_type": "markdown",
   "id": "a2e7a307-bc75-47e2-a2c1-e850b1ad74f8",
   "metadata": {},
   "source": [
    "<hr>\n",
    "\n",
    "### Question 2 Stack Min\n",
    "\n",
    "Push, pop, min should all operate in O(1)."
   ]
  },
  {
   "cell_type": "code",
   "execution_count": 12,
   "id": "fce45d5c-6c12-4cda-b273-a335a85b55c2",
   "metadata": {},
   "outputs": [],
   "source": [
    "class Node:\n",
    "    def __init__(self, value=None):\n",
    "        self.value = value\n",
    "        self.next = None\n",
    "        \n",
    "    def __str__(self):\n",
    "        return str(self.value)\n",
    "    \n",
    "class LinkedList:\n",
    "    def __init__(self):\n",
    "        self.head = None\n",
    "        self.tail = None\n",
    "    \n",
    "    def __str__(self):\n",
    "        curNode = self.head\n",
    "        while curNode:\n",
    "            yield curNode\n",
    "            curNode = curNode.next"
   ]
  },
  {
   "cell_type": "code",
   "execution_count": null,
   "id": "79913a34-0f94-47a0-bff8-24f7b6f09184",
   "metadata": {},
   "outputs": [],
   "source": [
    "class Stack:\n",
    "    def __init__(self):\n",
    "        "
   ]
  }
 ],
 "metadata": {
  "kernelspec": {
   "display_name": "Python 3 (ipykernel)",
   "language": "python",
   "name": "python3"
  },
  "language_info": {
   "codemirror_mode": {
    "name": "ipython",
    "version": 3
   },
   "file_extension": ".py",
   "mimetype": "text/x-python",
   "name": "python",
   "nbconvert_exporter": "python",
   "pygments_lexer": "ipython3",
   "version": "3.9.18"
  }
 },
 "nbformat": 4,
 "nbformat_minor": 5
}
