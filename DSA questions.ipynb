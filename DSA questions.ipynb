{
 "cells": [
  {
   "cell_type": "markdown",
   "id": "207bcc0f-9e5e-401b-ae8c-af09ca2c40b7",
   "metadata": {},
   "source": [
    "# Interview Questions"
   ]
  },
  {
   "cell_type": "markdown",
   "id": "4e52d0c2-d9ca-4c8b-a0b1-0f7cb0176308",
   "metadata": {},
   "source": [
    "<hr>\n",
    "\n",
    "## Linked Lists"
   ]
  },
  {
   "cell_type": "code",
   "execution_count": 32,
   "id": "e6444c18-a50c-4e2f-b58e-5b2e176b4d1b",
   "metadata": {},
   "outputs": [],
   "source": [
    "from random import randint"
   ]
  },
  {
   "cell_type": "code",
   "execution_count": 34,
   "id": "c51e8d54-e4d1-46e0-9c91-46f97c6cdca3",
   "metadata": {},
   "outputs": [],
   "source": [
    "class Node:\n",
    "    def __init__(self, value=None):\n",
    "        self.value = value\n",
    "        self.next = None\n",
    "        self.prev = None\n",
    "    \n",
    "    def __str__(self):\n",
    "        return str(self.value)\n",
    "    \n",
    "\n",
    "class LinkedList:\n",
    "    def __init__(self,values=None):\n",
    "        self.head = None\n",
    "        self.tail = None\n",
    "        \n",
    "    def __iter__(self):\n",
    "        curNode = self.head\n",
    "        while curNode:\n",
    "            yield curNode\n",
    "            curNode = curNode.next\n",
    "            \n",
    "    def __str__(self):\n",
    "        values = [str(x.value) for x in self]\n",
    "        return ' -> '.join(values)\n",
    "    \n",
    "    def __len__(self):\n",
    "        result = 0\n",
    "        node = self.head\n",
    "        while node:\n",
    "            result+=1\n",
    "            node = node.next\n",
    "        return result\n",
    "    \n",
    "    def add(self, value):\n",
    "        if self.head is None:\n",
    "            newNode = Node(value)\n",
    "            self.head = newNode\n",
    "            self.tail = newNode\n",
    "        else:\n",
    "            self.tail.next = Node(value)\n",
    "            self.tail = self.tail.next\n",
    "        return self.tail\n",
    "    \n",
    "    def generate(self, n, min_value, max_value):\n",
    "        self.head = None\n",
    "        self.tail = None\n",
    "        for i in range(n):\n",
    "            self.add(randint(min_value,max_value))\n",
    "        return self"
   ]
  },
  {
   "cell_type": "code",
   "execution_count": 57,
   "id": "f34253be-3a7b-4057-b542-7ddb3643374e",
   "metadata": {},
   "outputs": [
    {
     "name": "stdout",
     "output_type": "stream",
     "text": [
      "46 -> 73 -> 59 -> 34 -> 0 -> 40 -> 34 -> 13 -> 8 -> 51\n"
     ]
    }
   ],
   "source": [
    "custLL = LinkedList()\n",
    "custLL.generate(10,0,99)\n",
    "print(custLL)"
   ]
  },
  {
   "cell_type": "code",
   "execution_count": 38,
   "id": "4a0a05f5-2710-4e30-aeb5-533eecc97f2e",
   "metadata": {},
   "outputs": [
    {
     "data": {
      "text/plain": [
       "10"
      ]
     },
     "execution_count": 38,
     "metadata": {},
     "output_type": "execute_result"
    }
   ],
   "source": [
    "len(custLL)"
   ]
  },
  {
   "cell_type": "markdown",
   "id": "82abcf7d-ba6f-4126-8c82-14dfb3c9f4a7",
   "metadata": {},
   "source": [
    "<hr>\n",
    "\n",
    "### Question 1\n",
    "Remove Duplicates"
   ]
  },
  {
   "cell_type": "code",
   "execution_count": 41,
   "id": "d1b87671-9d55-40de-8b69-b55c1d0e1bbe",
   "metadata": {},
   "outputs": [],
   "source": [
    "def remove_duplicates(ll):\n",
    "    if ll.head is None:\n",
    "        return\n",
    " \n",
    "    current_node = ll.head\n",
    "    prev_node = None\n",
    " \n",
    "    while current_node:\n",
    "        runner = current_node\n",
    "        while runner.next:\n",
    "            if runner.next.value == current_node.value:\n",
    "                runner.next = runner.next.next\n",
    "            else:\n",
    "                runner = runner.next\n",
    "        prev_node = current_node\n",
    "        current_node = current_node.next\n",
    " \n",
    "    ll.tail = prev_node  \n",
    "    return ll.head"
   ]
  },
  {
   "cell_type": "markdown",
   "id": "85549440-b512-4cba-b8ac-de5dd5443068",
   "metadata": {},
   "source": [
    "<hr>\n",
    "\n",
    "### Question 2\n",
    "Return Kth to Last"
   ]
  },
  {
   "cell_type": "code",
   "execution_count": 44,
   "id": "1c4b23ba-9b22-430b-a328-6560f821f890",
   "metadata": {},
   "outputs": [],
   "source": [
    "def nthToLast(ll, n):\n",
    "    p1 = ll.head\n",
    "    p2 = ll.head\n",
    "    \n",
    "    for i in range(n): #setting the two pointers n nodes apart\n",
    "        if p2 is None:\n",
    "            return None\n",
    "        p2 = p2.next\n",
    "    \n",
    "    while p2:\n",
    "        p1 = p1.next\n",
    "        p2 = p2.next\n",
    "    return p1"
   ]
  },
  {
   "cell_type": "code",
   "execution_count": 46,
   "id": "9fda1fb3-32bb-49bc-9897-3fb2bb3bb424",
   "metadata": {},
   "outputs": [
    {
     "name": "stdout",
     "output_type": "stream",
     "text": [
      "60\n"
     ]
    }
   ],
   "source": [
    "print(nthToLast(custLL, 3))"
   ]
  },
  {
   "cell_type": "markdown",
   "id": "1995b14a-fcf5-4729-916d-0d5612916947",
   "metadata": {},
   "source": [
    "<hr>\n",
    "\n",
    "### Question 3\n",
    "Partition the linked list around a certain value x"
   ]
  },
  {
   "cell_type": "code",
   "execution_count": 53,
   "id": "7c9a2241-a40f-4be1-90c1-d3a6ff884da8",
   "metadata": {},
   "outputs": [],
   "source": [
    "def partition(ll, x):\n",
    "    curNode = ll.head\n",
    "    ll.tail = ll.head\n",
    "    while curNode:\n",
    "        nextNode = curNode.next\n",
    "        curNode.next = None\n",
    "        if curNode.value < x:\n",
    "            curNode.next = ll.head\n",
    "            ll.head = curNode\n",
    "        else:\n",
    "            ll.tail.next = curNode\n",
    "            ll.tail = curNode\n",
    "        curNode = nextNode\n",
    "        \n",
    "    if ll.tail.next is not None:\n",
    "        ll.tail.next = None"
   ]
  },
  {
   "cell_type": "code",
   "execution_count": 59,
   "id": "1aca3b40-41ac-4d57-ada0-470c645221c7",
   "metadata": {},
   "outputs": [
    {
     "name": "stdout",
     "output_type": "stream",
     "text": [
      "8 -> 13 -> 0 -> 46 -> 73 -> 59 -> 34 -> 40 -> 34 -> 51\n"
     ]
    }
   ],
   "source": [
    "partition(custLL,30)\n",
    "print(custLL)"
   ]
  },
  {
   "cell_type": "markdown",
   "id": "69458328-6fab-4de9-ab2e-bb88f8b238a7",
   "metadata": {},
   "source": [
    "<hr>\n",
    "\n",
    "### Question 4\n",
    "\n",
    "Sum Lists"
   ]
  },
  {
   "cell_type": "code",
   "execution_count": 71,
   "id": "a30a560a-ba46-4dc6-8789-66033367fdba",
   "metadata": {},
   "outputs": [],
   "source": [
    "def sumList(l1,l2):\n",
    "    n1 = l1.head\n",
    "    n2 = l2.head\n",
    "    carry = 0\n",
    "    ll = LinkedList()\n",
    "    \n",
    "    while n1 or n2:\n",
    "        result = carry\n",
    "        if n1:\n",
    "            result += n1.value\n",
    "            n1 = n1.next\n",
    "        if n2:\n",
    "            result+=n2.value\n",
    "            n2=n2.next\n",
    "        ll.add(int(result%10))\n",
    "        carry = result/10\n",
    "        \n",
    "    return ll"
   ]
  },
  {
   "cell_type": "code",
   "execution_count": 73,
   "id": "0bdbf9da-d821-469f-a864-6219c016fe5e",
   "metadata": {},
   "outputs": [
    {
     "data": {
      "text/plain": [
       "<__main__.Node at 0x7f93cc8b9fa0>"
      ]
     },
     "execution_count": 73,
     "metadata": {},
     "output_type": "execute_result"
    }
   ],
   "source": [
    "l1 = LinkedList()\n",
    "l1.add(7)\n",
    "l1.add(1)\n",
    "l1.add(6)"
   ]
  },
  {
   "cell_type": "code",
   "execution_count": 75,
   "id": "7ffb3552-14e6-4d49-9c8c-f8dffa6247be",
   "metadata": {},
   "outputs": [
    {
     "data": {
      "text/plain": [
       "<__main__.Node at 0x7f93cc8b2b20>"
      ]
     },
     "execution_count": 75,
     "metadata": {},
     "output_type": "execute_result"
    }
   ],
   "source": [
    "l2 = LinkedList()\n",
    "l2.add(5)\n",
    "l2.add(9)\n",
    "l2.add(2)"
   ]
  },
  {
   "cell_type": "code",
   "execution_count": 77,
   "id": "29659561-e108-401d-842b-367a0aa96ee8",
   "metadata": {},
   "outputs": [
    {
     "name": "stdout",
     "output_type": "stream",
     "text": [
      "7 -> 1 -> 6\n",
      "5 -> 9 -> 2\n"
     ]
    }
   ],
   "source": [
    "print(l1)\n",
    "print(l2)"
   ]
  },
  {
   "cell_type": "code",
   "execution_count": 79,
   "id": "506e99fb-f2ae-4c68-9f6d-efe40cf22526",
   "metadata": {},
   "outputs": [
    {
     "name": "stdout",
     "output_type": "stream",
     "text": [
      "2 -> 1 -> 9\n"
     ]
    }
   ],
   "source": [
    "print(sumList(l1,l2))"
   ]
  },
  {
   "cell_type": "markdown",
   "id": "dc49f177-5a6b-4964-8ec2-e1d686178cc2",
   "metadata": {},
   "source": [
    "<hr>\n",
    "\n",
    "### Question 5\n",
    "Intersection"
   ]
  },
  {
   "cell_type": "code",
   "execution_count": 114,
   "id": "27d2865f-5226-43c6-9d25-dfdbcc1ddb10",
   "metadata": {},
   "outputs": [],
   "source": [
    "def intersection(l1,l2):\n",
    "    if l1.tail is not l2.tail:\n",
    "        return False\n",
    "    \n",
    "    len1 = len(l1)\n",
    "    len2 = len(l2)\n",
    "    \n",
    "    shorter = l1 if len1<len2 else l2\n",
    "    longer = l2 if len1<len2 else l1\n",
    "    \n",
    "    diff = len(longer) - len(shorter)\n",
    "    longerNode = longer.head\n",
    "    shorterNode = shorter.head\n",
    "    \n",
    "    for i in range(diff):\n",
    "        longerNode=longerNode.next\n",
    "        \n",
    "    while shorterNode is not longerNode:\n",
    "        shorterNode = shorterNode.next\n",
    "        longerNode = longerNode.next\n",
    "        \n",
    "    return longerNode\n",
    "\n",
    "def addSameNode(l1, l2, value):\n",
    "    tempNode = Node(value)\n",
    "    l1.tail.next = tempNode\n",
    "    l1.tail = tempNode\n",
    "    l2.tail.next = tempNode\n",
    "    l2.tail = tempNode"
   ]
  },
  {
   "cell_type": "code",
   "execution_count": 116,
   "id": "b947833f-dee6-4f70-bc51-61ff6d18a82c",
   "metadata": {},
   "outputs": [
    {
     "data": {
      "text/plain": [
       "<__main__.LinkedList at 0x7f93cc5be580>"
      ]
     },
     "execution_count": 116,
     "metadata": {},
     "output_type": "execute_result"
    }
   ],
   "source": [
    "l1 = LinkedList()\n",
    "l1.generate(3,0,10)"
   ]
  },
  {
   "cell_type": "code",
   "execution_count": 118,
   "id": "b3233444-de3f-4134-9358-7ce383fcdbbf",
   "metadata": {},
   "outputs": [
    {
     "data": {
      "text/plain": [
       "<__main__.LinkedList at 0x7f93cc89b040>"
      ]
     },
     "execution_count": 118,
     "metadata": {},
     "output_type": "execute_result"
    }
   ],
   "source": [
    "l2 = LinkedList()\n",
    "l2.generate(4,0,10)"
   ]
  },
  {
   "cell_type": "code",
   "execution_count": 120,
   "id": "ed07c86b-b6d3-4114-8d23-e1bc44d6d1b9",
   "metadata": {},
   "outputs": [],
   "source": [
    "addSameNode(l1,l2,7)\n",
    "addSameNode(l1,l2,14)\n",
    "addSameNode(l1,l2,11)"
   ]
  },
  {
   "cell_type": "code",
   "execution_count": 122,
   "id": "3ebb0400-bb5d-48c9-91a2-5faef571cd4a",
   "metadata": {},
   "outputs": [
    {
     "name": "stdout",
     "output_type": "stream",
     "text": [
      "0 -> 5 -> 6 -> 7 -> 14 -> 11\n",
      "8 -> 6 -> 8 -> 3 -> 7 -> 14 -> 11\n"
     ]
    }
   ],
   "source": [
    "print(l1)\n",
    "print(l2)"
   ]
  },
  {
   "cell_type": "code",
   "execution_count": 126,
   "id": "427a30e0-3abb-4128-a628-2ae8ed66dc6f",
   "metadata": {},
   "outputs": [
    {
     "name": "stdout",
     "output_type": "stream",
     "text": [
      "7\n"
     ]
    }
   ],
   "source": [
    "print(intersection(l1,l2))  #O(A+B)"
   ]
  },
  {
   "cell_type": "markdown",
   "id": "194c8a72-26ee-4a8e-af00-ce4616935a0e",
   "metadata": {},
   "source": [
    "<hr>\n",
    "\n",
    "## Stack and Queue"
   ]
  },
  {
   "cell_type": "markdown",
   "id": "0f797871-6b29-4a97-9e38-73e76a904c6a",
   "metadata": {},
   "source": [
    "### Question 1\n",
    "Describe how you could use a single Python list to implement three stacks."
   ]
  },
  {
   "cell_type": "code",
   "execution_count": 5,
   "id": "14b5dcef-9efd-4df7-8ac5-fcaf16096d7a",
   "metadata": {},
   "outputs": [],
   "source": [
    "class MultiStack:\n",
    "    def __init__(self, stacksize):\n",
    "        self.numberstacks = 3\n",
    "        self.custList = [0] * [stacksize] * self.numberstacks\n",
    "        self.sizes = [0] * self.numberstacks\n",
    "        self.stacksize = stacksize\n",
    "        \n",
    "    def isFull(self, stacknum):\n",
    "        if self.sizes[stacknum] == self.stacksize:\n",
    "            return True\n",
    "        return False\n",
    "    \n",
    "    def isEmpty(self, stacknum):\n",
    "        if self.sizes[stacknum] == 0:\n",
    "            return True\n",
    "        return False\n",
    "    \n",
    "    def indexOfTop(self, stacknum):\n",
    "        offset = stacknum * self.stacksize\n",
    "        return offset + self.sizes[stacknum] - 1\n",
    "    \n",
    "    def push(self, item, stacknum):\n",
    "        if self.isFull(stacknum):\n",
    "            return \"The stack is full\"\n",
    "        else:\n",
    "            self.sizes[stacknum] +=1\n",
    "            self.custList[self.indexOfTop(stacknum)] = item\n",
    "            \n",
    "    def pop(self, stacknum):\n",
    "        if self.isEmpty(stacknum):\n",
    "            return \"This stack is empty\"\n",
    "        else:\n",
    "            value = self.custList[self.indexOfTop(stacknum)] = item\n",
    "            self.custList[self.indexOfTop(stacknum)] = 0\n",
    "            self.sizes[stacknum] -= 1\n",
    "            return value\n",
    "    \n",
    "    def peek(self, stacknum):\n",
    "        if self.isEmpty(stacknum):\n",
    "            return \"This stack is empty\"\n",
    "        else:\n",
    "            value = self.custList[self.indexOfTop(stacknum)]\n",
    "            return value"
   ]
  },
  {
   "cell_type": "markdown",
   "id": "a2e7a307-bc75-47e2-a2c1-e850b1ad74f8",
   "metadata": {},
   "source": [
    "<hr>\n",
    "\n",
    "### Question 2 Stack Min\n",
    "\n",
    "Push, pop, min should all operate in O(1)."
   ]
  },
  {
   "cell_type": "code",
   "execution_count": 16,
   "id": "fce45d5c-6c12-4cda-b273-a335a85b55c2",
   "metadata": {},
   "outputs": [],
   "source": [
    "class Node:\n",
    "    def __init__(self, value=None, next = None):\n",
    "        self.value = value\n",
    "        self.next = next\n",
    "        \n",
    "    def __str__(self):\n",
    "        string = str(self.value)\n",
    "        if self.next:\n",
    "            string += ',' + str(self.next)\n",
    "        return string"
   ]
  },
  {
   "cell_type": "code",
   "execution_count": 20,
   "id": "79913a34-0f94-47a0-bff8-24f7b6f09184",
   "metadata": {},
   "outputs": [],
   "source": [
    "class Stack:\n",
    "    def __init__(self):\n",
    "        self.top = None\n",
    "        self.minNode = None\n",
    "        # self.minNode is essentially another stack that keeps track in parallel the min values.\n",
    "    def min(self):\n",
    "        if not self.minNode:\n",
    "            return None\n",
    "        return self.minNode.value\n",
    "    \n",
    "    def push(self, item):\n",
    "        if self.minNode and self.minNode.value<item:\n",
    "            self.minNode = Node(value=self.minNode.value, next = self.minNode)\n",
    "        else:\n",
    "            self.minNode = Node(value = item, next = self.minNode)\n",
    "        self.top = Node(value = item, next = self.top)\n",
    "    \n",
    "    def pop(self):\n",
    "        if not self.top:\n",
    "            return None\n",
    "        self.minNode = self.minNode.next\n",
    "        item = self.top.value\n",
    "        self.top = self.top.next\n",
    "        return item"
   ]
  },
  {
   "cell_type": "markdown",
   "id": "ffad6501-9224-431b-9ec0-a47798683780",
   "metadata": {},
   "source": [
    "<hr>\n",
    "\n",
    "### Question 3 Stack of Plates\n",
    "SetOfStacks, should create a new stack once previous stack is full."
   ]
  },
  {
   "cell_type": "code",
   "execution_count": 27,
   "id": "842d2e39-5acf-4110-b916-7866d1cebeaf",
   "metadata": {},
   "outputs": [],
   "source": [
    "class PlateStack():\n",
    "    def __init__(self, capacity):\n",
    "        self.capacity = capacity\n",
    "        self.stacks = []\n",
    "    \n",
    "    def __str__(self):\n",
    "        return self.stacks\n",
    "    \n",
    "    def push(self,item):\n",
    "        if len(self.stacks) > 0 and len(self.stacks[-1]) < self.capacity:\n",
    "            self.stacks[-1].append(item)\n",
    "        else:\n",
    "            self.stacks.append([item])\n",
    "        \n",
    "    def pop(self):\n",
    "        while len(self.stacks) and len(self.stacks[-1]) == 0:\n",
    "            self.stacks.pop()\n",
    "        if len(self.stacks) == 0:\n",
    "            return None\n",
    "        else:\n",
    "            return self.stacks[-1].pop()\n",
    "        \n",
    "    def pop_at(self, stackNumber):\n",
    "        if len(self.stacks[stackNumber]) > 0:\n",
    "            return self.stacks[stackNumber].pop()\n",
    "        else:\n",
    "            return None"
   ]
  },
  {
   "cell_type": "markdown",
   "id": "8d407fc7-b9bc-48a6-992f-1e6fa14afdc7",
   "metadata": {},
   "source": [
    "<hr>\n",
    "\n",
    "### Question 4 Queue via Stacks\n",
    "Implement queue class which implements a queue using two stacks."
   ]
  },
  {
   "cell_type": "code",
   "execution_count": 34,
   "id": "ec1eca6e-990e-458b-aaef-71265a251bde",
   "metadata": {},
   "outputs": [],
   "source": [
    "class Stack():\n",
    "    def __init__(self):\n",
    "        self.list = []\n",
    "        \n",
    "    def __len__(self):\n",
    "        return len(self.list)\n",
    "    \n",
    "    def push(self, item):\n",
    "        self.list.append(item)\n",
    "        \n",
    "    def pop(self):\n",
    "        if len(self.list) == 0:\n",
    "            return None\n",
    "        return self.list.pop()"
   ]
  },
  {
   "cell_type": "code",
   "execution_count": 36,
   "id": "2d089f32-6707-4106-ba4a-5b3fd2323a06",
   "metadata": {},
   "outputs": [],
   "source": [
    "class QueueViaStack():\n",
    "    def __init__(self):\n",
    "        self.inStack = Stack()\n",
    "        self.outStack = Stack()\n",
    "    \n",
    "    def enqueue(self,item):\n",
    "        self.inStack.push(item)\n",
    "    \n",
    "    def dequeue(self):\n",
    "        while len(self.inStack):\n",
    "            self.outStack.push(self.inStack.pop())\n",
    "        result = self.outStack.pop()\n",
    "        while len(self.outStack):\n",
    "            self.inStack.push(self.outStack.pop())\n",
    "        return result"
   ]
  },
  {
   "cell_type": "markdown",
   "id": "5fd9c5a5-f42d-46dd-accb-3ce0e0e9e304",
   "metadata": {},
   "source": [
    "<hr>\n",
    "\n",
    "### Question 5 Animal Shelter"
   ]
  },
  {
   "cell_type": "code",
   "execution_count": 2,
   "id": "9283f6ea-0548-4650-9c04-59cee25c930b",
   "metadata": {},
   "outputs": [],
   "source": [
    "class AnimalShelter():\n",
    "    def __init__(self):\n",
    "        self.cats = []\n",
    "        self.dogs = []\n",
    "    \n",
    "    def enqueue(self,animal,type):\n",
    "        if type == 'Cat':\n",
    "            self.cats.append(animal)\n",
    "        self.dogs.append(animal)\n",
    "    \n",
    "    def dequeueCat(self):\n",
    "        if len(self.cats) == 0:\n",
    "            return None\n",
    "        else:\n",
    "            cat = self.cats.pop(0)\n",
    "            return cat\n",
    "    \n",
    "    def dequeueDog(self):\n",
    "        if len(self.dogs) == 0:\n",
    "            return None\n",
    "        else:\n",
    "            dog = self.dogs.pop(0)\n",
    "            return dog\n",
    "    \n",
    "    def dequeueAny(self):\n",
    "        if len(self.cats) == 0:\n",
    "            result = self.dogs.pop(0)\n",
    "        else:\n",
    "            result = self.cats.pop(0)\n",
    "        return result"
   ]
  },
  {
   "cell_type": "markdown",
   "id": "e70b3df1-0ef7-4723-af76-730aa962be7c",
   "metadata": {},
   "source": [
    "<hr>"
   ]
  },
  {
   "cell_type": "markdown",
   "id": "4746ee48-ffe9-41d2-a057-8a9f5f690212",
   "metadata": {},
   "source": [
    "## Recursion\n",
    "\n",
    "### Question 1\n",
    "Sum of digits of a number"
   ]
  },
  {
   "cell_type": "code",
   "execution_count": 17,
   "id": "059f97bb-f3a0-442e-a93c-7b391c8349aa",
   "metadata": {},
   "outputs": [],
   "source": [
    "def sumOfDigits(n):\n",
    "    assert n>=0 and int(n) == n, 'The number has to be positive integer only!'\n",
    "    if n == 0:\n",
    "        return 0\n",
    "    return int(n%10) + sumOfDigits(int(n//10))"
   ]
  },
  {
   "cell_type": "code",
   "execution_count": 27,
   "id": "c43e1a64-6cb4-4630-80b7-835f11234654",
   "metadata": {},
   "outputs": [
    {
     "data": {
      "text/plain": [
       "3"
      ]
     },
     "execution_count": 27,
     "metadata": {},
     "output_type": "execute_result"
    }
   ],
   "source": [
    "sumOfDigits(12)"
   ]
  },
  {
   "cell_type": "markdown",
   "id": "3a92ef30-a467-41be-9392-3e6efc028cba",
   "metadata": {},
   "source": [
    "<hr>\n",
    "\n",
    "### Question 2\n",
    "\n",
    "Power of a number using recursion"
   ]
  },
  {
   "cell_type": "code",
   "execution_count": 43,
   "id": "3aea3472-fe45-4c0b-a260-8fdd37318c0a",
   "metadata": {},
   "outputs": [],
   "source": [
    "def power(x,n):\n",
    "    assert int(n) == n, 'The exp should be an integer'\n",
    "    if n == 0:\n",
    "        return 1\n",
    "    elif n<0:\n",
    "        return (1/x)*power(x,n+1)\n",
    "    return x*power(x,n-1)"
   ]
  },
  {
   "cell_type": "code",
   "execution_count": 45,
   "id": "76e589c5-5bd8-4533-9014-42b14f6509b7",
   "metadata": {},
   "outputs": [
    {
     "data": {
      "text/plain": [
       "16"
      ]
     },
     "execution_count": 45,
     "metadata": {},
     "output_type": "execute_result"
    }
   ],
   "source": [
    "power(2,4)"
   ]
  },
  {
   "cell_type": "markdown",
   "id": "0c900f53-5db3-4272-8df5-259d1a3b2c05",
   "metadata": {},
   "source": [
    "<hr>\n",
    "\n",
    "### Question 3\n",
    "\n",
    "GCD of two numbers"
   ]
  },
  {
   "cell_type": "code",
   "execution_count": 77,
   "id": "aa4e9253-78b5-4ed9-a588-66a93f308876",
   "metadata": {},
   "outputs": [],
   "source": [
    "def gcd(a,b):\n",
    "    assert int(a)==a and int(b)==b, \"The numbers must be integer only!\"\n",
    "    if a<0:\n",
    "        a = -1*a\n",
    "    if b<0:\n",
    "        b = -1*b\n",
    "    if b == 0:\n",
    "        return a\n",
    "    else:\n",
    "        return gcd(b,a%b)"
   ]
  },
  {
   "cell_type": "code",
   "execution_count": 83,
   "id": "8fcd755d-1aae-4c09-a197-872380027e70",
   "metadata": {},
   "outputs": [
    {
     "data": {
      "text/plain": [
       "3"
      ]
     },
     "execution_count": 83,
     "metadata": {},
     "output_type": "execute_result"
    }
   ],
   "source": [
    "gcd(57,6)"
   ]
  },
  {
   "cell_type": "markdown",
   "id": "bb010fba-65e4-436c-a742-233c04aaeb0a",
   "metadata": {},
   "source": [
    "<hr>\n",
    "\n",
    "### Question 4\n",
    "Decimal to Binary"
   ]
  },
  {
   "cell_type": "code",
   "execution_count": 106,
   "id": "a6159a61-736a-4ce7-9d34-1cbf5bb124c7",
   "metadata": {},
   "outputs": [],
   "source": [
    "def decToBin(n):\n",
    "    assert int(n)==n, \"The number must be an integer!\"\n",
    "    if n==0:\n",
    "        return 1\n",
    "    else:\n",
    "        return n%2 + 10*decToBin(int(n/2))"
   ]
  },
  {
   "cell_type": "code",
   "execution_count": 108,
   "id": "1bef2d50-5fe2-4e1c-a654-10dc9645b672",
   "metadata": {},
   "outputs": [
    {
     "data": {
      "text/plain": [
       "11101"
      ]
     },
     "execution_count": 108,
     "metadata": {},
     "output_type": "execute_result"
    }
   ],
   "source": [
    "decToBin(13)"
   ]
  },
  {
   "cell_type": "markdown",
   "id": "7fbcb540-b26b-427a-b632-291c324aa5fb",
   "metadata": {},
   "source": [
    "### Recursion Challenging Problems"
   ]
  },
  {
   "cell_type": "code",
   "execution_count": 2,
   "id": "9df71917-2c4d-4459-aab5-19a4fe4c9845",
   "metadata": {},
   "outputs": [],
   "source": [
    "def power(base, exponent):\n",
    "    if exponent == 0:\n",
    "        return 1\n",
    "    return base * power(base, exponent-1)"
   ]
  },
  {
   "cell_type": "code",
   "execution_count": 4,
   "id": "3c850696-2974-4b87-9c01-be8b29c4427f",
   "metadata": {},
   "outputs": [],
   "source": [
    "def factorial(num):\n",
    "    if num==1:\n",
    "        return 1 \n",
    "    return num*(factorial(num-1))"
   ]
  },
  {
   "cell_type": "code",
   "execution_count": 6,
   "id": "2ea871ae-79ef-4490-98cf-899643360114",
   "metadata": {},
   "outputs": [],
   "source": [
    "def productOfArray(arr):\n",
    "    if len(arr) == 0:\n",
    "        return 1\n",
    "    return arr[0] * productOfArray(arr[1:])"
   ]
  },
  {
   "cell_type": "code",
   "execution_count": 8,
   "id": "125e03aa-0b74-45ab-9c00-df7a4c04f9f9",
   "metadata": {},
   "outputs": [],
   "source": [
    "def recursiveRange(num):\n",
    "    if num == 0:\n",
    "        return 0\n",
    "    return num + recursiveRange(num-1)"
   ]
  },
  {
   "cell_type": "code",
   "execution_count": 10,
   "id": "9f61b90d-d050-4bf8-a88b-04ce9ff7bd42",
   "metadata": {},
   "outputs": [],
   "source": [
    "def fib(num):\n",
    "    if (num < 2):\n",
    "        return num\n",
    "    return fib(num - 1) + fib(num - 2)"
   ]
  },
  {
   "cell_type": "code",
   "execution_count": 12,
   "id": "f1656efc-ffdf-4b96-ba70-f4457d42cbdc",
   "metadata": {},
   "outputs": [],
   "source": [
    "def reverse(strng):\n",
    "    if len(strng) <= 1:\n",
    "        return strng\n",
    "    return strng[len(strng)-1] + reverse(strng[0:len(strng)-1])"
   ]
  },
  {
   "cell_type": "code",
   "execution_count": 14,
   "id": "a65fbeff-771e-4c92-82c8-b56f6f505ea8",
   "metadata": {},
   "outputs": [],
   "source": [
    "def isPalindrome(strng):\n",
    "    if len(strng) == 0:\n",
    "        return True\n",
    "    if strng[0] != strng[len(strng)-1]:\n",
    "        return False\n",
    "    return isPalindrome(strng[1:-1])"
   ]
  },
  {
   "cell_type": "code",
   "execution_count": 16,
   "id": "30987b92-b33c-427e-8dfe-5d19970378bd",
   "metadata": {},
   "outputs": [],
   "source": [
    "def isOdd(num):\n",
    "    if num%2==0:\n",
    "        return False\n",
    "    else:\n",
    "        return True\n",
    "        \n",
    "def someRecursive(arr, cb):\n",
    "    if len(arr) == 0:\n",
    "        return False\n",
    "    return isOdd(arr[0]) or someRecursive(arr[1:], cb)"
   ]
  },
  {
   "cell_type": "code",
   "execution_count": 18,
   "id": "f58f113f-4e72-40ee-9869-a2552fb52fb5",
   "metadata": {},
   "outputs": [],
   "source": [
    "def flatten(arr):\n",
    "    resultArr = []\n",
    "    for custItem in arr:\n",
    "        if type(custItem) is list:\n",
    "            resultArr.extend(flatten(custItem))\n",
    "        else: \n",
    "            resultArr.append(custItem)\n",
    "    return resultArr"
   ]
  },
  {
   "cell_type": "code",
   "execution_count": 20,
   "id": "bdc845e9-f5fd-4735-bd89-efd0647b4ff1",
   "metadata": {},
   "outputs": [],
   "source": [
    "def capitalizeFirst(arr):\n",
    "    result = []\n",
    "    if len(arr) == 0:\n",
    "        return result\n",
    "    result.append(arr[0][0].upper() + arr[0][1:])\n",
    "    return result + capitalizeFirst(arr[1:]) "
   ]
  },
  {
   "cell_type": "code",
   "execution_count": 22,
   "id": "26ab1b94-b44b-451b-9481-18265695d691",
   "metadata": {},
   "outputs": [],
   "source": [
    "obj1 = {\n",
    "  \"outer\": 2,\n",
    "  \"obj\": {\n",
    "    \"inner\": 2,\n",
    "    \"otherObj\": {\n",
    "      \"superInner\": 2,\n",
    "      \"notANumber\": True,\n",
    "      \"alsoNotANumber\": \"yup\"\n",
    "    }\n",
    "  }\n",
    "}\n",
    "\n",
    "obj2 = {\n",
    "  \"a\": 2,\n",
    "  \"b\": {\"b\": 2, \"bb\": {\"b\": 3, \"bb\": {\"b\": 2}}},\n",
    "  \"c\": {\"c\": {\"c\": 2}, \"cc\": 'ball', \"ccc\": 5},\n",
    "  \"d\": 1,\n",
    "  \"e\": {\"e\": {\"e\": 2}, \"ee\": 'car'}\n",
    "}\n",
    "\n",
    "def nestedEvenSum(obj, sum=0):\n",
    "    for key in obj:\n",
    "        if type(obj[key]) is dict:\n",
    "            sum += nestedEvenSum(obj[key])\n",
    "        elif type(obj[key]) is int and obj[key]%2==0:\n",
    "            sum+=obj[key]\n",
    "    return sum"
   ]
  },
  {
   "cell_type": "code",
   "execution_count": 24,
   "id": "5be91d8f-d603-4e00-9a99-1103496f3fba",
   "metadata": {},
   "outputs": [],
   "source": [
    "def capitalizeWords(arr):\n",
    "    result = []\n",
    "    if len(arr) == 0:\n",
    "        return result\n",
    "    result.append(arr[0].upper())\n",
    "    return result + capitalizeWords(arr[1:])"
   ]
  },
  {
   "cell_type": "code",
   "execution_count": 28,
   "id": "dacaf4e3-1109-4528-86d9-2fba27d31def",
   "metadata": {},
   "outputs": [],
   "source": [
    "def stringifyNumbers(obj): # Dict Object\n",
    "    newObj = obj\n",
    "    for key in newObj:\n",
    "        if type(newObj[key]) is int:\n",
    "            newObj[key] = str(newObj[key])\n",
    "        if type(newObj[key]) is dict:\n",
    "            newObj[key] = stringifyNumbers(newObj[key])\n",
    "    return newObj"
   ]
  },
  {
   "cell_type": "code",
   "execution_count": 33,
   "id": "5e7bb0f2-245d-4174-93d6-b65a3196c810",
   "metadata": {},
   "outputs": [],
   "source": [
    "def collectStrings(obj): # Dict Object\n",
    "    resultArr = []\n",
    "    for key in obj:\n",
    "        if type(obj[key]) is str:\n",
    "            resultArr.append(obj[key])\n",
    "        if type(obj[key]) is dict:\n",
    "            resultArr = resultArr + collectStrings(obj[key])\n",
    "    return resultArr"
   ]
  },
  {
   "cell_type": "markdown",
   "id": "9babf0fe-4b67-471e-a73c-5f42b6b3bda1",
   "metadata": {},
   "source": [
    "<hr>\n",
    "\n",
    "## Trees & Graphs Interview Questions"
   ]
  },
  {
   "cell_type": "code",
   "execution_count": 2,
   "id": "e357f5c1-79a4-44ec-92a3-a402b9778f4f",
   "metadata": {},
   "outputs": [],
   "source": [
    "import queue as q"
   ]
  },
  {
   "cell_type": "code",
   "execution_count": 5,
   "id": "54c91857-e4ce-4b59-b965-8c87ec9af8cf",
   "metadata": {},
   "outputs": [],
   "source": [
    "from collections import deque"
   ]
  },
  {
   "cell_type": "markdown",
   "id": "ec8f8cca-6ff8-4046-8b2a-e2a61b0c1216",
   "metadata": {},
   "source": [
    "<hr>\n",
    "\n",
    "### Question 1\n",
    "#### Check if route exists between startNode and endNode in a directed graph"
   ]
  },
  {
   "cell_type": "code",
   "execution_count": null,
   "id": "83278077-440d-4d76-8802-b3ea364fb627",
   "metadata": {},
   "outputs": [],
   "source": [
    "class Graph:\n",
    "    def __init__(self, gdict=None):\n",
    "        if gdict is None:\n",
    "            gdict = {}\n",
    "        self.gdict = gdict\n",
    "    \n",
    "    def addEdge(self, vertex, edge):\n",
    "        self.gdict[vertex].append(edge)\n",
    "    \n",
    "    def checkRoute(self, startNode, endNode):\n",
    "        visited = [startNode]\n",
    "        queue = [startNode]\n",
    "        path = False\n",
    "        while queue:\n",
    "            deVertex = queue.pop(0)\n",
    "            for adjacentVertex in self.gdict[deVertex]:\n",
    "                if adjacentVertex not in visited:\n",
    "                    if adjacentVertex == endNode:\n",
    "                        path = True\n",
    "                        break\n",
    "                    else:\n",
    "                        visited.append(adjacentVertex)\n",
    "                        queue.append(adjacentVertex)\n",
    "        return path"
   ]
  },
  {
   "cell_type": "markdown",
   "id": "4c4cd8aa-3069-40a0-8e40-cd2b7a98776f",
   "metadata": {},
   "source": [
    "### Question 2\n",
    "#### Minimal Height Binary Search Tree from a given sorted array"
   ]
  },
  {
   "cell_type": "code",
   "execution_count": 14,
   "id": "63fb1cd6-6c78-44a8-a13a-42835d6a5e8d",
   "metadata": {},
   "outputs": [],
   "source": [
    "class BSTNode:\n",
    "    def __init__(self, data=None, left = None, right= None):\n",
    "        self.data = data\n",
    "        self.left = left\n",
    "        self.right = right\n",
    "\n",
    "def minimalTree(sortedArray): # My solution\n",
    "    if not sortedArray:\n",
    "        return None\n",
    "    mid = len(sortedArray)//2\n",
    "    root = BSTNode(sortedArray[mid], minimalTree(sortedArray[0:mid]), minimalTree(sortedArray[mid+1:]))\n",
    "    return root"
   ]
  },
  {
   "cell_type": "markdown",
   "id": "0c6e370b-ea61-4dd5-9f15-5832319093a9",
   "metadata": {},
   "source": [
    "### Question 3\n",
    "#### BST to Linked lists, one for each level."
   ]
  },
  {
   "cell_type": "code",
   "execution_count": 19,
   "id": "3c727c4c-4da7-45ca-892c-e887e5fe6adb",
   "metadata": {},
   "outputs": [],
   "source": [
    "class LinkedList:\n",
    "    def __init__(self, val):\n",
    "        self.val = val\n",
    "        self.next = None\n",
    "    \n",
    "    def add(self, val):\n",
    "        if self.next == None:\n",
    "            self.next = LinkedList(val)\n",
    "        else:\n",
    "            self.next.add(val)\n",
    "    \n",
    "    def __str__(self):\n",
    "        return \"({val})\".format(val = self.val) + str(self.next)\n",
    "    \n",
    "class BinaryTree:\n",
    "    def __init__(self, val):\n",
    "        self.val = val\n",
    "        self.left = None\n",
    "        self.right = None\n",
    "    \n",
    "    def depth(tree):\n",
    "        if tree==None:\n",
    "            return 0\n",
    "        if tree.left == None and tree.right==None:\n",
    "            return 1\n",
    "        else:\n",
    "            depthLeft = 1 + depth(tree.left)\n",
    "            depthRight = 1 + depth(tree.right)\n",
    "            if depthLeft > depthRight:\n",
    "                return depthLeft\n",
    "            else:\n",
    "                return depthRight\n",
    "\n",
    "def treeToLinkedList(tree, custDict = {}, d=None):\n",
    "    if d == None:\n",
    "        d = depth(tree)\n",
    "    \n",
    "    if custDict.get(d) == None:\n",
    "        custDict[d] = LinkedList(tree.val)\n",
    "    else:\n",
    "        custDict[d].add(tree.val)\n",
    "        if d==1:\n",
    "            return custDict\n",
    "\n",
    "    \n",
    "    if tree.left!=None:\n",
    "        custDict = treeToLinkedList(tree.left, custDict, d-1)\n",
    "    if tree.right!=None:\n",
    "        custDict = treeToLinkedList(tree.right, custDict, d-1)\n",
    "    return custDict"
   ]
  },
  {
   "cell_type": "markdown",
   "id": "48106f31-5d51-4a2d-9f36-f43040795ea1",
   "metadata": {},
   "source": [
    "### Question 4\n",
    "#### Check Balanced"
   ]
  },
  {
   "cell_type": "code",
   "execution_count": 24,
   "id": "6bf14254-a260-4884-a57a-8dfdb733e937",
   "metadata": {},
   "outputs": [],
   "source": [
    "def isBalancedHelper(root): # Course Solution\n",
    "    if root is None:\n",
    "        return 0\n",
    "    leftHeight = isBalancedHelper(root.left)\n",
    "    if leftHeight == -1:\n",
    "        return -1\n",
    "    rightHeight = isBalancedHelper(root.right)\n",
    "    if rightHeight == -1:\n",
    "        return -1\n",
    "    if abs(leftHeight-rightHeight)>1:\n",
    "        return -1\n",
    "    \n",
    "    return max(leftHeight, rightHeight) + 1\n",
    "\n",
    "def isBalanced(root):\n",
    "    return isBalancedHelper(root) > -1"
   ]
  },
  {
   "cell_type": "markdown",
   "id": "293acc34-db32-4bc3-9f05-dbb9ea973ae6",
   "metadata": {},
   "source": [
    "### Question 5\n",
    "#### Validate BST"
   ]
  },
  {
   "cell_type": "code",
   "execution_count": 29,
   "id": "7616c27a-4e29-4007-a1d8-e0d3481e2532",
   "metadata": {},
   "outputs": [],
   "source": [
    "class TreeNode:\n",
    "    def __init__(self, value):\n",
    "        self.val = value\n",
    "        self.left = None\n",
    "        self.right = None\n",
    "\n",
    "\n",
    "def helper(node, minValue = float('inf'), maxValue = float('inf')):\n",
    "    if not node:\n",
    "        return True\n",
    "    val = node.val\n",
    "    if val<minValue or val>=maxValue:\n",
    "        return False\n",
    "    if not helper(node.right, val, maxValue):\n",
    "        return False\n",
    "    if not helper(node.left, minValue, val):\n",
    "        return False\n",
    "    \n",
    "    return True\n",
    "\n",
    "def isValidBST(root):\n",
    "    return helper(root)"
   ]
  },
  {
   "cell_type": "markdown",
   "id": "d7ffcf6a-a109-460a-9592-b8f67e5ab52c",
   "metadata": {},
   "source": [
    "### Question 6\n",
    "#### In order successor"
   ]
  },
  {
   "cell_type": "code",
   "execution_count": 57,
   "id": "6b25d1a9-f910-4821-ae3e-6f88e1e72a47",
   "metadata": {},
   "outputs": [],
   "source": [
    "class Node:\n",
    "    def __init__(self, key):\n",
    "        self.data = key\n",
    "        self.left = None\n",
    "        self.right = None\n",
    "    \n",
    "def minValue(node):\n",
    "    current = node\n",
    "    while (current is not None):\n",
    "        if current.left is None:\n",
    "            break\n",
    "        current = current.left\n",
    "    return current\n",
    "    \n",
    "def inOrderSuccessor(root, n):\n",
    "    if n.right is not None:\n",
    "        return minValue(n.right)\n",
    "        \n",
    "    p = n.parent\n",
    "    while p is not None:\n",
    "        if n!=p.right:\n",
    "            break\n",
    "        n=p\n",
    "        p=p.parent\n",
    "    return p\n",
    "    \n",
    "def insert(node, data):\n",
    "    if node is None:\n",
    "        return Node(data)\n",
    "    else:\n",
    "        if data<= node.data:\n",
    "            temp = insert(node.left, data)\n",
    "            node.left = temp\n",
    "            temp.parent = node\n",
    "        else:\n",
    "            temp = insert(node.right, data)\n",
    "            node.right = temp\n",
    "            temp.parent = node\n",
    "        return node"
   ]
  },
  {
   "cell_type": "code",
   "execution_count": 59,
   "id": "39830578-50c8-48ac-9356-3609440e51aa",
   "metadata": {},
   "outputs": [],
   "source": [
    "root = None\n",
    "root = insert(root,4)\n",
    "root = insert(root,2)\n",
    "root = insert(root,8)\n",
    "root = insert(root,1)\n",
    "root = insert(root,3)\n",
    "root = insert(root,5)\n",
    "root = insert(root,9)"
   ]
  },
  {
   "cell_type": "code",
   "execution_count": 67,
   "id": "cd943904-26db-4eda-9d1e-d7c5f7bc45b2",
   "metadata": {},
   "outputs": [
    {
     "data": {
      "text/plain": [
       "5"
      ]
     },
     "execution_count": 67,
     "metadata": {},
     "output_type": "execute_result"
    }
   ],
   "source": [
    "temp=root\n",
    "successor = inOrderSuccessor(root, temp)\n",
    "successor.data"
   ]
  },
  {
   "cell_type": "markdown",
   "id": "5027d102-ee05-475b-8da9-9aacd6a71e7d",
   "metadata": {},
   "source": [
    "### Question 7\n",
    "#### Dependent projects build order"
   ]
  },
  {
   "cell_type": "code",
   "execution_count": 75,
   "id": "2af9d649-bcc1-4f35-b264-3f97ef3e50f9",
   "metadata": {},
   "outputs": [],
   "source": [
    "def createGraph(projects, dependencies):\n",
    "    projectGraph = {}\n",
    "    for project in projects:\n",
    "        projectGraph[project] = []\n",
    "    for pairs in dependencies:\n",
    "        projectGraph[pairs[0]].extend(pairs[1])\n",
    "    return projectGraph"
   ]
  },
  {
   "cell_type": "code",
   "execution_count": 77,
   "id": "e40d3c3e-8508-420e-a105-d31ef61b91ee",
   "metadata": {},
   "outputs": [],
   "source": [
    "project = ['a','b','c','d','e','f']\n",
    "dependencies = [('a','d'), ('f','b'), ('b','d'), ('f','a'), ('d','c')]\n",
    "customGraph = createGraph(project, dependencies)"
   ]
  },
  {
   "cell_type": "code",
   "execution_count": 79,
   "id": "298d1e64-39b2-493e-8338-a4b42aceb09d",
   "metadata": {},
   "outputs": [
    {
     "data": {
      "text/plain": [
       "{'a': ['d'], 'b': ['d'], 'c': [], 'd': ['c'], 'e': [], 'f': ['b', 'a']}"
      ]
     },
     "execution_count": 79,
     "metadata": {},
     "output_type": "execute_result"
    }
   ],
   "source": [
    "customGraph"
   ]
  },
  {
   "cell_type": "code",
   "execution_count": 81,
   "id": "361934d3-e322-49f0-89aa-b5c8dc5c7d2d",
   "metadata": {},
   "outputs": [],
   "source": [
    "def getProjectsWithDependencies(graph):\n",
    "    projectsWithDependencies = set()\n",
    "    for project in graph:\n",
    "        projectsWithDependencies = projectsWithDependencies.union(set(graph[project]))\n",
    "    return projectsWithDependencies"
   ]
  },
  {
   "cell_type": "code",
   "execution_count": 83,
   "id": "431eb477-2a3c-46f6-a43f-b3226e4010a7",
   "metadata": {},
   "outputs": [
    {
     "data": {
      "text/plain": [
       "{'a', 'b', 'c', 'd'}"
      ]
     },
     "execution_count": 83,
     "metadata": {},
     "output_type": "execute_result"
    }
   ],
   "source": [
    "projectsWithDependencies = getProjectsWithDependencies(customGraph)\n",
    "projectsWithDependencies"
   ]
  },
  {
   "cell_type": "code",
   "execution_count": 85,
   "id": "eae81e1f-3514-4d14-aa05-61ccf6dbfca7",
   "metadata": {},
   "outputs": [],
   "source": [
    "def getProjectsWODependencies(projectWD, graph):\n",
    "    projectsWODependencies = set()\n",
    "    for project in graph:\n",
    "        if not project in projectWD:\n",
    "            projectsWODependencies.add(project)\n",
    "    return projectsWODependencies"
   ]
  },
  {
   "cell_type": "code",
   "execution_count": 89,
   "id": "cafcb8e1-31c4-47b5-a5ad-1a687a5ca4a7",
   "metadata": {},
   "outputs": [
    {
     "data": {
      "text/plain": [
       "{'e', 'f'}"
      ]
     },
     "execution_count": 89,
     "metadata": {},
     "output_type": "execute_result"
    }
   ],
   "source": [
    "projectsWODependencies = getProjectsWODependencies(projectsWithDependencies, customGraph)\n",
    "projectsWODependencies"
   ]
  },
  {
   "cell_type": "code",
   "execution_count": 97,
   "id": "112fc28e-2ce3-4e6f-a0d3-c996d6a0279f",
   "metadata": {},
   "outputs": [],
   "source": [
    "def findBuildOrder(projects, dependencies):\n",
    "    buildOrder = []\n",
    "    projectGraph = createGraph(projects, dependencies)\n",
    "    while projectGraph:\n",
    "        projectsWithDependencies = getProjectsWithDependencies(projectGraph)\n",
    "        projectsWODependencies = getProjectsWODependencies(projectsWithDependencies, projectGraph)\n",
    "        if len(projectsWODependencies)==0:\n",
    "            raise ValueError(\"There is a cycle in the build order\")\n",
    "        for independentProjects in projectsWODependencies:\n",
    "            buildOrder.append(independentProjects)\n",
    "            del projectGraph[independentProjects]\n",
    "    return buildOrder"
   ]
  },
  {
   "cell_type": "code",
   "execution_count": 99,
   "id": "b42a2378-606a-41ed-b6ad-77b0f77a4035",
   "metadata": {},
   "outputs": [
    {
     "data": {
      "text/plain": [
       "['f', 'e', 'b', 'a', 'd', 'c']"
      ]
     },
     "execution_count": 99,
     "metadata": {},
     "output_type": "execute_result"
    }
   ],
   "source": [
    "findBuildOrder(project, dependencies)"
   ]
  },
  {
   "cell_type": "markdown",
   "id": "7f6a6063-7e30-4bbc-aa3a-eacda273ac33",
   "metadata": {},
   "source": [
    "### Question 8\n",
    "#### Find First Ancestor"
   ]
  },
  {
   "cell_type": "code",
   "execution_count": 106,
   "id": "801681f9-a5da-4e1e-8162-20580d4d2a81",
   "metadata": {},
   "outputs": [],
   "source": [
    "def findNodeInTree(target, rootNode):\n",
    "    if not rootNode:\n",
    "        return False\n",
    "    if target == rootNode:\n",
    "        return True\n",
    "    else:\n",
    "        return (findNodeInTree(target, rootNode.left) or findNodeInTree(target, rootNode.right))\n",
    "    \n",
    "def findFirstCommonAncestor(n1, n2, root):\n",
    "    n1OnLeft = findNodeInTree(n1, root.left)\n",
    "    n2OnLeft = findNodeInTree(n2, root.left)\n",
    "    \n",
    "    if n1OnLeft ^ n2OnLeft:\n",
    "        return root\n",
    "    else:\n",
    "        if n1OnLeft:\n",
    "            return findFirstCommonAncestor(n1,n2,root.left)\n",
    "        else:\n",
    "            return findFirstCommonAncestor(n1,n2,root.right)"
   ]
  },
  {
   "cell_type": "code",
   "execution_count": null,
   "id": "fd098d3f-2322-453a-a3cd-93054bacc542",
   "metadata": {},
   "outputs": [],
   "source": []
  }
 ],
 "metadata": {
  "kernelspec": {
   "display_name": "Python 3 (ipykernel)",
   "language": "python",
   "name": "python3"
  },
  "language_info": {
   "codemirror_mode": {
    "name": "ipython",
    "version": 3
   },
   "file_extension": ".py",
   "mimetype": "text/x-python",
   "name": "python",
   "nbconvert_exporter": "python",
   "pygments_lexer": "ipython3",
   "version": "3.9.18"
  }
 },
 "nbformat": 4,
 "nbformat_minor": 5
}
