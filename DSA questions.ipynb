{
 "cells": [
  {
   "cell_type": "markdown",
   "id": "207bcc0f-9e5e-401b-ae8c-af09ca2c40b7",
   "metadata": {},
   "source": [
    "# Interview Questions"
   ]
  },
  {
   "cell_type": "markdown",
   "id": "4e52d0c2-d9ca-4c8b-a0b1-0f7cb0176308",
   "metadata": {},
   "source": [
    "## Linked Lists"
   ]
  },
  {
   "cell_type": "code",
   "execution_count": 26,
   "id": "e6444c18-a50c-4e2f-b58e-5b2e176b4d1b",
   "metadata": {},
   "outputs": [],
   "source": [
    "from random import randint"
   ]
  },
  {
   "cell_type": "code",
   "execution_count": 32,
   "id": "c51e8d54-e4d1-46e0-9c91-46f97c6cdca3",
   "metadata": {},
   "outputs": [],
   "source": [
    "class Node:\n",
    "    def __init__(self, value=None):\n",
    "        self.value = value\n",
    "        self.next = None\n",
    "        self.prev = None\n",
    "    \n",
    "    def __str__(self):\n",
    "        return str(self.value)\n",
    "    \n",
    "\n",
    "class LinkedList:\n",
    "    def __init__(self,values=None):\n",
    "        self.head = None\n",
    "        self.tail = None\n",
    "        \n",
    "    def __iter__(self):\n",
    "        curNode = self.head\n",
    "        while curNode:\n",
    "            yield curNode\n",
    "            curNode = curNode.next\n",
    "            \n",
    "    def __str__(self):\n",
    "        values = [str(x.value) for x in self]\n",
    "        return ' -> '.join(values)\n",
    "    \n",
    "    def __len__(self):\n",
    "        result = 0\n",
    "        node = self.head\n",
    "        while node:\n",
    "            result+=1\n",
    "            node = node.next\n",
    "        return result\n",
    "    \n",
    "    def add(self, value):\n",
    "        if self.head is None:\n",
    "            newNode = Node(value)\n",
    "            self.head = newNode\n",
    "            self.tail = newNode\n",
    "        else:\n",
    "            self.tail.next = Node(value)\n",
    "            self.tail = self.tail.next\n",
    "        return self.tail\n",
    "    \n",
    "    def generate(self, n, min_value, max_value):\n",
    "        self.head = None\n",
    "        self.tail = None\n",
    "        for i in range(n):\n",
    "            self.add(randint(min_value,max_value))\n",
    "        return self"
   ]
  },
  {
   "cell_type": "code",
   "execution_count": 34,
   "id": "f34253be-3a7b-4057-b542-7ddb3643374e",
   "metadata": {},
   "outputs": [
    {
     "name": "stdout",
     "output_type": "stream",
     "text": [
      "50 -> 54 -> 35 -> 71 -> 39 -> 18 -> 15 -> 74 -> 79 -> 70\n"
     ]
    }
   ],
   "source": [
    "custLL = LinkedList()\n",
    "custLL.generate(10,0,99)\n",
    "print(custLL)"
   ]
  },
  {
   "cell_type": "code",
   "execution_count": 36,
   "id": "4a0a05f5-2710-4e30-aeb5-533eecc97f2e",
   "metadata": {},
   "outputs": [
    {
     "data": {
      "text/plain": [
       "10"
      ]
     },
     "execution_count": 36,
     "metadata": {},
     "output_type": "execute_result"
    }
   ],
   "source": [
    "len(custLL)"
   ]
  },
  {
   "cell_type": "markdown",
   "id": "82abcf7d-ba6f-4126-8c82-14dfb3c9f4a7",
   "metadata": {},
   "source": [
    "### Question 1\n",
    "Remove Duplicates"
   ]
  },
  {
   "cell_type": "code",
   "execution_count": 40,
   "id": "d1b87671-9d55-40de-8b69-b55c1d0e1bbe",
   "metadata": {},
   "outputs": [],
   "source": [
    "def remove_duplicates(ll):\n",
    "    if ll.head is None:\n",
    "        return\n",
    " \n",
    "    current_node = ll.head\n",
    "    prev_node = None\n",
    " \n",
    "    while current_node:\n",
    "        runner = current_node\n",
    "        while runner.next:\n",
    "            if runner.next.value == current_node.value:\n",
    "                runner.next = runner.next.next\n",
    "            else:\n",
    "                runner = runner.next\n",
    "        prev_node = current_node\n",
    "        current_node = current_node.next\n",
    " \n",
    "    ll.tail = prev_node  \n",
    "    return ll.head"
   ]
  },
  {
   "cell_type": "code",
   "execution_count": null,
   "id": "ced4f1c4-49c3-4140-967c-b42c36cb2d4f",
   "metadata": {},
   "outputs": [],
   "source": []
  }
 ],
 "metadata": {
  "kernelspec": {
   "display_name": "Python 3 (ipykernel)",
   "language": "python",
   "name": "python3"
  },
  "language_info": {
   "codemirror_mode": {
    "name": "ipython",
    "version": 3
   },
   "file_extension": ".py",
   "mimetype": "text/x-python",
   "name": "python",
   "nbconvert_exporter": "python",
   "pygments_lexer": "ipython3",
   "version": "3.9.18"
  }
 },
 "nbformat": 4,
 "nbformat_minor": 5
}
